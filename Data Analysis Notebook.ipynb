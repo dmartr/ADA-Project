{
 "cells": [
  {
   "cell_type": "code",
   "execution_count": 1,
   "metadata": {
    "collapsed": true
   },
   "outputs": [],
   "source": [
    "import pandas as pd\n",
    "import numpy as np\n",
    "import pickle"
   ]
  },
  {
   "cell_type": "markdown",
   "metadata": {},
   "source": [
    "We import the data from the pickle file as JSON:"
   ]
  },
  {
   "cell_type": "code",
   "execution_count": 2,
   "metadata": {
    "collapsed": false
   },
   "outputs": [],
   "source": [
    "data_json = pd.read_pickle('summoner_stats.pkl')"
   ]
  },
  {
   "cell_type": "markdown",
   "metadata": {},
   "source": [
    "## Dataframes generation"
   ]
  },
  {
   "cell_type": "markdown",
   "metadata": {},
   "source": [
    "We will generate two raw dataframe: one of them will contain the preffered champion statdistics and the other one the stadistics for all champions."
   ]
  },
  {
   "cell_type": "code",
   "execution_count": 3,
   "metadata": {
    "collapsed": false
   },
   "outputs": [],
   "source": [
    "def build_dataframes(json):\n",
    "    pref_list = []\n",
    "    total_list = []\n",
    "    for index in json:\n",
    "        pref_dict = json[index]['pref_champ']['stats']\n",
    "        pref_dict['summID'] = index\n",
    "        pref_dict['champID'] = json[index]['pref_champ']['id']\n",
    "        pref_list.append(pref_dict)\n",
    "        total_dict = json[index]['total']['stats']\n",
    "        total_dict['summID'] = index\n",
    "        total_list.append(total_dict)\n",
    "    df_pc = pd.DataFrame(pref_list).set_index('summID')\n",
    "    df_total = pd.DataFrame(total_list).set_index('summID')\n",
    "    return df_pc, df_total"
   ]
  },
  {
   "cell_type": "code",
   "execution_count": 4,
   "metadata": {
    "collapsed": false
   },
   "outputs": [],
   "source": [
    "df_pc, df_total = build_dataframes(data_json)"
   ]
  },
  {
   "cell_type": "code",
   "execution_count": 5,
   "metadata": {
    "collapsed": false
   },
   "outputs": [],
   "source": [
    "def put_elos(json, df):\n",
    "    list_league, list_division = [], []\n",
    "    for index in df.index:\n",
    "        values = json[index]\n",
    "        if values == '':\n",
    "            league, division = [np.nan]*2\n",
    "        else:\n",
    "            league, division = values.split('_')\n",
    "        list_league.append(league)\n",
    "        list_division.append(division)\n",
    "    \n",
    "    df['league'] = list_league\n",
    "    df['division'] = list_division\n",
    "            \n",
    "    return df\n",
    "\n",
    "data_json = pd.read_pickle('summoner_elos.pkl')\n",
    "df_pc = put_elos( data_json, df_pc)\n",
    "df_total = put_elos( data_json, df_total)"
   ]
  },
  {
   "cell_type": "code",
   "execution_count": 7,
   "metadata": {
    "collapsed": false
   },
   "outputs": [
    {
     "data": {
      "text/plain": [
       "platinum    8157\n",
       "gold        4604\n",
       "diamond     4601\n",
       "silver      1376\n",
       "bronze       470\n",
       "master        27\n",
       "Name: league, dtype: int64"
      ]
     },
     "execution_count": 7,
     "metadata": {},
     "output_type": "execute_result"
    }
   ],
   "source": [
    "df_pc = df_pc.dropna(axis=0, subset = ['league'])\n",
    "df_total = df_total.dropna(axis = 0, subset = ['league'])\n",
    "\n",
    "df_pc.league.value_counts()"
   ]
  },
  {
   "cell_type": "code",
   "execution_count": 8,
   "metadata": {
    "collapsed": false
   },
   "outputs": [
    {
     "name": "stdout",
     "output_type": "stream",
     "text": [
      "League Encoder Classes:  ['bronze' 'diamond' 'gold' 'master' 'platinum' 'silver']\n",
      "Division Encoder Classes:  ['1' '2' '3' '4' '5']\n"
     ]
    }
   ],
   "source": [
    "from sklearn import preprocessing\n",
    "encoLeague, encoDiv = preprocessing.LabelEncoder(), preprocessing.LabelEncoder()\n",
    "encoLeague.fit(['bronze', 'silver', 'gold', 'platinum', 'diamond', 'master'])\n",
    "print('League Encoder Classes: ', encoLeague.classes_)\n",
    "encoDiv.fit(['1', '2', '3', '4', '5'])\n",
    "print('Division Encoder Classes: ', encoDiv.classes_)\n",
    "\n",
    "df_pc['league'] = encoLeague.transform(df_pc['league'])\n",
    "df_total['league'] = encoLeague.transform(df_total['league'])\n",
    "\n",
    "df_pc['division'] = encoDiv.transform(df_pc['division'])\n",
    "df_total['division'] = encoDiv.transform(df_total['division'])"
   ]
  },
  {
   "cell_type": "markdown",
   "metadata": {},
   "source": [
    "We inspect the columns for the 'Preferred champion\" dataframe. We also set the \"Summoner ID\" as the index. "
   ]
  },
  {
   "cell_type": "code",
   "execution_count": null,
   "metadata": {
    "collapsed": false
   },
   "outputs": [],
   "source": [
    "print(df_pc.columns)\n",
    "df_pc.head()"
   ]
  },
  {
   "cell_type": "markdown",
   "metadata": {},
   "source": [
    "We reorder the columns and drop some of them like the 0 value stats (deprecated data from the Riot API) and unrelevant data ('unreal kills', 'games against IA', etc..)"
   ]
  },
  {
   "cell_type": "code",
   "execution_count": null,
   "metadata": {
    "collapsed": false
   },
   "outputs": [],
   "source": [
    "df_pc = df_pc[['champID', 'totalSessionsPlayed', 'totalSessionsWon', 'totalSessionsLost', 'totalGoldEarned', \n",
    "               'totalMinionKills', 'totalTurretsKilled', 'totalPhysicalDamageDealt', 'totalMagicDamageDealt', \n",
    "               'totalDamageTaken', 'totalDeathsPerSession', 'maxNumDeaths', 'totalAssists', 'totalChampionKills', 'totalDoubleKills', \n",
    "               'totalTripleKills', 'totalQuadraKills', 'totalPentaKills', 'mostChampionKillsPerSession', 'league']]\n",
    "print(df_pc.dtypes)\n",
    "df_pc.head()"
   ]
  },
  {
   "cell_type": "code",
   "execution_count": null,
   "metadata": {
    "collapsed": false
   },
   "outputs": [],
   "source": [
    "print(df_pc.columns)\n",
    "df_pc.head()"
   ]
  },
  {
   "cell_type": "markdown",
   "metadata": {},
   "source": [
    "Now we perform the same actions for the 'All champions' dataframe."
   ]
  },
  {
   "cell_type": "code",
   "execution_count": null,
   "metadata": {
    "collapsed": false,
    "scrolled": true
   },
   "outputs": [],
   "source": [
    "df_total = df_total[['totalSessionsPlayed', 'totalSessionsWon', 'totalSessionsLost', 'totalGoldEarned', \n",
    "               'totalMinionKills', 'totalNeutralMinionsKilled', 'totalTurretsKilled', 'totalPhysicalDamageDealt', \n",
    "                'totalMagicDamageDealt', 'totalDamageTaken', 'totalHeal', 'totalDeathsPerSession', 'totalAssists', \n",
    "                'totalChampionKills', 'totalDoubleKills', 'totalTripleKills', 'totalQuadraKills', 'totalPentaKills',\n",
    "                    'league']]\n",
    "print(df_total.dtypes)\n",
    "df_total.head()"
   ]
  },
  {
   "cell_type": "markdown",
   "metadata": {},
   "source": [
    "## Data filtering and standarization by sessions played"
   ]
  },
  {
   "cell_type": "markdown",
   "metadata": {},
   "source": [
    "We only consider the accounts that have 50 or more games played. "
   ]
  },
  {
   "cell_type": "code",
   "execution_count": null,
   "metadata": {
    "collapsed": false
   },
   "outputs": [],
   "source": [
    "df_pc = df_pc[df_pc.totalSessionsPlayed >= 50]\n",
    "df_total = df_total[df_total.totalSessionsPlayed >= 50]"
   ]
  },
  {
   "cell_type": "markdown",
   "metadata": {},
   "source": [
    "The \"total\" stadisitics are calculated as the sum of the totalSessionsPlayed so we must calculate the average data for all games."
   ]
  },
  {
   "cell_type": "code",
   "execution_count": null,
   "metadata": {
    "collapsed": false
   },
   "outputs": [],
   "source": [
    "df_pc['GoldEarned'] = df_pc['totalGoldEarned'] / df_pc['totalSessionsPlayed']\n",
    "df_pc['MinionKills'] = df_pc['totalMinionKills'] / df_pc['totalSessionsPlayed']             \n",
    "df_pc['PhysicalDamageDealt'] = df_pc['totalPhysicalDamageDealt'] / df_pc['totalSessionsPlayed']     \n",
    "df_pc['MagicDamageDealt'] = df_pc['totalMagicDamageDealt'] / df_pc['totalSessionsPlayed']  \n",
    "df_pc['DamageTaken'] = df_pc['totalDamageTaken'] / df_pc['totalSessionsPlayed']              \n",
    "df_pc['DoubleKills'] = df_pc['totalDoubleKills'] / df_pc['totalSessionsPlayed']\n",
    "df_pc['TripleKills'] = df_pc['totalTripleKills'] / df_pc['totalSessionsPlayed']\n",
    "df_pc['QuadraKills'] = df_pc['totalQuadraKills'] / df_pc['totalSessionsPlayed']\n",
    "df_pc['PentaKills'] = df_pc['totalPentaKills'] / df_pc['totalSessionsPlayed']\n",
    "df_pc['TurretsKilled'] = df_pc['totalTurretsKilled'] / df_pc['totalSessionsPlayed']\n",
    "\n",
    "df_total['GoldEarned'] = df_total['totalGoldEarned'] / df_total['totalSessionsPlayed']\n",
    "df_total['MinionKills'] = df_total['totalMinionKills'] / df_total['totalSessionsPlayed']             \n",
    "df_total['PhysicalDamageDealt'] = df_total['totalPhysicalDamageDealt'] / df_total['totalSessionsPlayed']     \n",
    "df_total['MagicDamageDealt'] = df_total['totalMagicDamageDealt'] / df_total['totalSessionsPlayed']\n",
    "df_total['DamageTaken'] = df_total['totalDamageTaken'] / df_total['totalSessionsPlayed']\n",
    "df_total['DoubleKills'] = df_total['totalDoubleKills'] / df_total['totalSessionsPlayed']\n",
    "df_total['TripleKills'] = df_total['totalTripleKills'] / df_total['totalSessionsPlayed']\n",
    "df_total['QuadraKills'] = df_total['totalQuadraKills'] / df_total['totalSessionsPlayed']\n",
    "df_total['PentaKills'] = df_total['totalPentaKills'] / df_total['totalSessionsPlayed']\n",
    "df_total['TurretsKilled'] = df_total['totalTurretsKilled'] / df_total['totalSessionsPlayed']\n",
    "df_total['Heal'] = df_total['totalHeal'] / df_total['totalSessionsPlayed']\n",
    "df_total['NeutralMinionsKilled\t'] = df_total['totalNeutralMinionsKilled'] / df_total['totalSessionsPlayed']"
   ]
  },
  {
   "cell_type": "markdown",
   "metadata": {},
   "source": [
    "### KDA calculation"
   ]
  },
  {
   "cell_type": "markdown",
   "metadata": {},
   "source": [
    "One important metric in competitive games as League of Legends is the KDA (Kills-Deaths-Assists) ratio. For a given player when can calculate the KDA for the ranked Season 5 as \n",
    "\\begin{equation}\n",
    "KDA = \\frac{totalChampionKills + totalAssists}{totalDeathsPerSession} \n",
    "\\end{equation}"
   ]
  },
  {
   "cell_type": "code",
   "execution_count": null,
   "metadata": {
    "collapsed": true
   },
   "outputs": [],
   "source": [
    "df_pc['KDA'] = (df_pc['totalChampionKills'] + df_pc['totalAssists']) / df_pc['totalDeathsPerSession']"
   ]
  },
  {
   "cell_type": "code",
   "execution_count": null,
   "metadata": {
    "collapsed": false
   },
   "outputs": [],
   "source": [
    "df_pc[['KDA', 'totalChampionKills', 'totalAssists', 'totalDeathsPerSession']].head()"
   ]
  },
  {
   "cell_type": "code",
   "execution_count": null,
   "metadata": {
    "collapsed": true
   },
   "outputs": [],
   "source": [
    "df_total['totalKDA'] = (df_total['totalChampionKills'] + df_total['totalAssists']) / df_total['totalDeathsPerSession']"
   ]
  },
  {
   "cell_type": "code",
   "execution_count": null,
   "metadata": {
    "collapsed": false
   },
   "outputs": [],
   "source": [
    "df_total[['totalKDA', 'totalChampionKills', 'totalAssists', 'totalDeathsPerSession']].head()"
   ]
  },
  {
   "cell_type": "markdown",
   "metadata": {},
   "source": [
    "### Win rate calculation"
   ]
  },
  {
   "cell_type": "markdown",
   "metadata": {},
   "source": [
    "We calculate the Win Rate percentage per player for both dataframes (it will be the same as they are the same players)."
   ]
  },
  {
   "cell_type": "code",
   "execution_count": null,
   "metadata": {
    "collapsed": false
   },
   "outputs": [],
   "source": [
    "df_pc['WinRate'] = df_pc['totalSessionsWon'] / df_pc['totalSessionsPlayed']"
   ]
  },
  {
   "cell_type": "code",
   "execution_count": null,
   "metadata": {
    "collapsed": false
   },
   "outputs": [],
   "source": [
    "df_pc[['WinRate', 'totalSessionsPlayed', 'totalSessionsWon', 'totalSessionsLost']].head()"
   ]
  },
  {
   "cell_type": "code",
   "execution_count": null,
   "metadata": {
    "collapsed": true
   },
   "outputs": [],
   "source": [
    "df_total['WinRate'] = df_pc['totalSessionsWon'] / df_pc['totalSessionsPlayed']"
   ]
  },
  {
   "cell_type": "code",
   "execution_count": null,
   "metadata": {
    "collapsed": false
   },
   "outputs": [],
   "source": [
    "df_total[['WinRate', 'totalSessionsPlayed', 'totalSessionsWon', 'totalSessionsLost']].head()"
   ]
  },
  {
   "cell_type": "markdown",
   "metadata": {},
   "source": [
    "### Drop the unnecessary data"
   ]
  },
  {
   "cell_type": "code",
   "execution_count": null,
   "metadata": {
    "collapsed": false
   },
   "outputs": [],
   "source": [
    "df_pc.drop(df_pc[['totalChampionKills', 'totalTurretsKilled', 'totalAssists', 'totalDeathsPerSession', 'totalSessionsPlayed', 'totalSessionsWon', 'totalSessionsLost', 'totalGoldEarned', 'totalMinionKills', 'totalPhysicalDamageDealt', 'totalMagicDamageDealt','totalDamageTaken', 'totalDoubleKills', 'totalTripleKills', 'totalQuadraKills', 'totalPentaKills']], axis=1, inplace=True)"
   ]
  },
  {
   "cell_type": "code",
   "execution_count": null,
   "metadata": {
    "collapsed": false
   },
   "outputs": [],
   "source": [
    "df_total.drop(df_total[['totalHeal' ,'totalNeutralMinionsKilled','totalChampionKills', 'totalTurretsKilled', 'totalAssists', 'totalDeathsPerSession', 'totalSessionsPlayed', 'totalSessionsWon', 'totalSessionsLost', 'totalGoldEarned', 'totalMinionKills', 'totalPhysicalDamageDealt', 'totalMagicDamageDealt','totalDamageTaken', 'totalDoubleKills', 'totalTripleKills', 'totalQuadraKills', 'totalPentaKills']], axis=1, inplace=True)"
   ]
  },
  {
   "cell_type": "markdown",
   "metadata": {},
   "source": [
    "## Dataframe description "
   ]
  },
  {
   "cell_type": "code",
   "execution_count": null,
   "metadata": {
    "collapsed": false
   },
   "outputs": [],
   "source": [
    "df_pc.head()"
   ]
  },
  {
   "cell_type": "code",
   "execution_count": null,
   "metadata": {
    "collapsed": false
   },
   "outputs": [],
   "source": [
    "df_total.head()"
   ]
  },
  {
   "cell_type": "markdown",
   "metadata": {},
   "source": [
    "### Mean, std, min, max and percentiles"
   ]
  },
  {
   "cell_type": "code",
   "execution_count": null,
   "metadata": {
    "collapsed": false
   },
   "outputs": [],
   "source": [
    "df_pc.describe()"
   ]
  },
  {
   "cell_type": "code",
   "execution_count": null,
   "metadata": {
    "collapsed": false
   },
   "outputs": [],
   "source": [
    "df_total.describe()"
   ]
  },
  {
   "cell_type": "markdown",
   "metadata": {},
   "source": [
    "### Covariances and Correlation between features"
   ]
  },
  {
   "cell_type": "code",
   "execution_count": null,
   "metadata": {
    "collapsed": false,
    "scrolled": false
   },
   "outputs": [],
   "source": [
    "df_pc.cov()"
   ]
  },
  {
   "cell_type": "code",
   "execution_count": null,
   "metadata": {
    "collapsed": false
   },
   "outputs": [],
   "source": [
    "df_pc.corr()"
   ]
  },
  {
   "cell_type": "code",
   "execution_count": null,
   "metadata": {
    "collapsed": false
   },
   "outputs": [],
   "source": [
    "df_total.cov()"
   ]
  },
  {
   "cell_type": "code",
   "execution_count": null,
   "metadata": {
    "collapsed": false
   },
   "outputs": [],
   "source": [
    "df_total.corr()"
   ]
  },
  {
   "cell_type": "code",
   "execution_count": null,
   "metadata": {
    "collapsed": true
   },
   "outputs": [],
   "source": []
  },
  {
   "cell_type": "code",
   "execution_count": null,
   "metadata": {
    "collapsed": false,
    "scrolled": false
   },
   "outputs": [],
   "source": [
    "import plotly.plotly as py\n",
    "import plotly.graph_objs as go\n",
    "\n",
    "py.sign_in('juanluismoralperez', 'MUMjWF4QwNy8AtZW6WUq')\n",
    "\n",
    "trace1 = go.Scatter3d(\n",
    "    x=df_pc.PhysicalDamageDealt,\n",
    "    y=df_pc.KDA,\n",
    "    z=df_pc.league,\n",
    "    mode='markers',\n",
    "    marker=dict(\n",
    "        size=12,\n",
    "        color=df_pc.league,                # set color to an array/list of desired values\n",
    "        colorscale='Viridis',   # choose a colorscale\n",
    "        opacity=0.8\n",
    "    )\n",
    ")\n",
    "\n",
    "data = [trace1]\n",
    "layout = go.Layout(\n",
    "    margin=dict(\n",
    "        l=0,\n",
    "        r=0,\n",
    "        b=0,\n",
    "        t=0\n",
    "    )\n",
    ")\n",
    "fig = go.Figure(data=data, layout=layout)\n",
    "py.iplot(fig, filename='3d-scatter-colorscale')\n"
   ]
  },
  {
   "cell_type": "markdown",
   "metadata": {},
   "source": [
    "## Data visualization by champion "
   ]
  },
  {
   "cell_type": "code",
   "execution_count": null,
   "metadata": {
    "collapsed": false
   },
   "outputs": [],
   "source": [
    "%matplotlib inline\n",
    "\n",
    "import matplotlib as mpl\n",
    "import matplotlib.pyplot as plt\n",
    "import seaborn as sns"
   ]
  },
  {
   "cell_type": "code",
   "execution_count": null,
   "metadata": {
    "collapsed": false
   },
   "outputs": [],
   "source": [
    "sns.set(style=\"whitegrid\", color_codes=True)"
   ]
  },
  {
   "cell_type": "code",
   "execution_count": null,
   "metadata": {
    "collapsed": false
   },
   "outputs": [],
   "source": [
    "fig = plt.figure(num=None, figsize=(10, 6), dpi=80, facecolor='w', edgecolor='k')\n",
    "ax = fig.add_subplot(1,1,1)\n",
    "ax.scatter(df_pc['champID'], df_pc['KDA'])\n",
    "plt.xlabel('ChampID')\n",
    "plt.ylabel('KDA')\n",
    "plt.xlim(0, 440)\n",
    "plt.ylim(0, 10.5)\n",
    "plt.show()"
   ]
  },
  {
   "cell_type": "code",
   "execution_count": null,
   "metadata": {
    "collapsed": false
   },
   "outputs": [],
   "source": [
    "fig = plt.figure(num=None, figsize=(10, 6), dpi=80, facecolor='w', edgecolor='k')\n",
    "ax = fig.add_subplot(1,1,1)\n",
    "ax.scatter(df_pc['champID'], df_pc['WinRate'])\n",
    "plt.xlabel('ChampID')\n",
    "plt.ylabel('WinRate(%)')\n",
    "plt.xlim(0, 440)\n",
    "plt.ylim(0, 1)\n",
    "plt.show()"
   ]
  },
  {
   "cell_type": "code",
   "execution_count": null,
   "metadata": {
    "collapsed": false
   },
   "outputs": [],
   "source": [
    "fig = plt.figure(num=None, figsize=(10, 6), dpi=80, facecolor='w', edgecolor='k')\n",
    "ax = fig.add_subplot(1,1,1)\n",
    "ax.scatter(df_pc['champID'], df_pc['GoldEarned'])\n",
    "plt.xlabel('ChampID')\n",
    "plt.ylabel('Average Gold Earned')\n",
    "plt.xlim(-1, 440)\n",
    "plt.ylim(6500, 18000)\n",
    "plt.show()"
   ]
  },
  {
   "cell_type": "code",
   "execution_count": null,
   "metadata": {
    "collapsed": false,
    "scrolled": true
   },
   "outputs": [],
   "source": [
    "fig = plt.figure(num=None, figsize=(10, 6), dpi=80, facecolor='w', edgecolor='k')\n",
    "ax = fig.add_subplot(1,1,1)\n",
    "ax.scatter(df_pc['champID'], df_pc['MinionKills'])\n",
    "plt.xlabel('ChampID')\n",
    "plt.ylabel('Creep Score (CS)')\n",
    "plt.xlim(-1, 440)\n",
    "plt.ylim(-0.05, 300)\n",
    "plt.show()"
   ]
  },
  {
   "cell_type": "code",
   "execution_count": null,
   "metadata": {
    "collapsed": false
   },
   "outputs": [],
   "source": [
    "fig = plt.figure(num=None, figsize=(18, 6), dpi=80, facecolor='w', edgecolor='k')\n",
    "ax1 = fig.add_subplot(1,3,1)\n",
    "ax1.scatter(df_pc['champID'], df_pc['PhysicalDamageDealt'])\n",
    "ax2 = fig.add_subplot(1,3,2)\n",
    "ax2.scatter(df_pc['champID'], df_pc['MagicDamageDealt'])\n",
    "ax3 = fig.add_subplot(1,3,3)\n",
    "ax3.scatter(df_pc['champID'], df_pc['DamageTaken'])\n",
    "ax1.set_xlim([-1, 440])\n",
    "ax1.set_ylim([0, 300000])\n",
    "ax1.set_xlabel('ChampID')\n",
    "ax1.set_ylabel('Physical Dmg')\n",
    "ax2.set_xlim([-1, 440])\n",
    "ax2.set_ylim([0, 250000])\n",
    "ax2.set_xlabel('ChampID')\n",
    "ax2.set_ylabel('Magic Dmg')\n",
    "ax3.set_xlim([-1, 440])\n",
    "ax3.set_ylim([0, 55000])\n",
    "ax3.set_xlabel('ChampID')\n",
    "ax3.set_ylabel('Dmg taken')\n",
    "plt.show()"
   ]
  },
  {
   "cell_type": "code",
   "execution_count": null,
   "metadata": {
    "collapsed": false
   },
   "outputs": [],
   "source": [
    "fig = plt.figure(num=None, figsize=(10, 6), dpi=80, facecolor='w', edgecolor='k')\n",
    "ax1 = fig.add_subplot(2,2,1)\n",
    "ax1.scatter(df_pc['champID'], df_pc['PentaKills'])\n",
    "ax2 = fig.add_subplot(2,2,2)\n",
    "ax2.scatter(df_pc['champID'], df_pc['QuadraKills'])\n",
    "ax3 = fig.add_subplot(2,2,3)\n",
    "ax3.scatter(df_pc['champID'], df_pc['TripleKills'])\n",
    "ax4 = fig.add_subplot(2,2,4)\n",
    "ax4.scatter(df_pc['champID'], df_pc['DoubleKills'])\n",
    "ax1.set_xlim([-0.5, 440])\n",
    "ax1.set_ylim([0, 0.2])\n",
    "ax1.set_xlabel('ChampID')\n",
    "ax1.set_ylabel('Pentakills')\n",
    "ax2.set_xlim([-0.5, 440])\n",
    "ax2.set_ylim([0, 0.35])\n",
    "ax2.set_xlabel('ChampID')\n",
    "ax2.set_ylabel('Quadrakills')\n",
    "ax3.set_xlim([-0.5, 440])\n",
    "ax3.set_ylim([0, 1])\n",
    "ax3.set_xlabel('ChampID')\n",
    "ax3.set_ylabel('Triplekills')\n",
    "ax4.set_xlim([-0.5, 440])\n",
    "ax4.set_ylim([0, 3.5])\n",
    "ax4.set_xlabel('ChampID')\n",
    "ax4.set_ylabel('Doublekills')\n",
    "plt.show()"
   ]
  },
  {
   "cell_type": "code",
   "execution_count": null,
   "metadata": {
    "collapsed": false
   },
   "outputs": [],
   "source": [
    "from pandas.tools.plotting import scatter_matrix\n",
    "scatter_matrix(df_pc, figsize = (20,20))\n",
    "plt.show()"
   ]
  },
  {
   "cell_type": "markdown",
   "metadata": {},
   "source": [
    "## Data visualization by player (all champions played)"
   ]
  },
  {
   "cell_type": "code",
   "execution_count": null,
   "metadata": {
    "collapsed": false
   },
   "outputs": [],
   "source": [
    "scatter_matrix(df_total, figsize = (20,20))\n",
    "plt.show()"
   ]
  },
  {
   "cell_type": "code",
   "execution_count": null,
   "metadata": {
    "collapsed": true
   },
   "outputs": [],
   "source": []
  }
 ],
 "metadata": {
  "anaconda-cloud": {},
  "kernelspec": {
   "display_name": "Python [conda root]",
   "language": "python",
   "name": "conda-root-py"
  },
  "language_info": {
   "codemirror_mode": {
    "name": "ipython",
    "version": 3
   },
   "file_extension": ".py",
   "mimetype": "text/x-python",
   "name": "python",
   "nbconvert_exporter": "python",
   "pygments_lexer": "ipython3",
   "version": "3.5.2"
  }
 },
 "nbformat": 4,
 "nbformat_minor": 1
}
