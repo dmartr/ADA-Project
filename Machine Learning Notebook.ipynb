{
 "cells": [
  {
   "cell_type": "markdown",
   "metadata": {
    "collapsed": true
   },
   "source": [
    "# Machine learning & results visualization"
   ]
  },
  {
   "cell_type": "code",
   "execution_count": 60,
   "metadata": {
    "collapsed": true
   },
   "outputs": [],
   "source": [
    "import pandas as pd\n",
    "import numpy as np\n",
    "import pickle\n",
    "from time import time\n",
    "import math\n",
    "import matplotlib.pyplot as plt\n",
    "import itertools\n",
    "from sklearn.svm import SVC\n",
    "from sklearn import preprocessing\n",
    "from sklearn.decomposition import PCA\n",
    "from sklearn.feature_selection import RFE\n",
    "from sklearn.metrics import confusion_matrix\n",
    "from sklearn.model_selection import GridSearchCV\n",
    "from sklearn.ensemble import ExtraTreesClassifier\n",
    "from sklearn.model_selection import cross_val_score\n",
    "from sklearn.model_selection import train_test_split\n",
    "from sklearn import metrics\n",
    "from sklearn.cluster import KMeans\n",
    "from sklearn import mixture\n",
    "from scipy import linalg\n",
    "from sklearn.ensemble import RandomForestClassifier\n",
    "import plotly.plotly as py\n",
    "import plotly.graph_objs as go\n",
    "from plotly.tools import FigureFactory as FF\n",
    "import seaborn as sns\n",
    "sns.set(style=\"whitegrid\", color_codes=True)\n",
    "\n",
    "%matplotlib inline\n",
    "py.sign_in('juanluismoralperez', 'MUMjWF4QwNy8AtZW6WUq')"
   ]
  },
  {
   "cell_type": "markdown",
   "metadata": {},
   "source": [
    "The aim of the project is to predict the elos for the season 2016 training a model using the data from the season 2015."
   ]
  },
  {
   "cell_type": "markdown",
   "metadata": {},
   "source": [
    "## Import the data "
   ]
  },
  {
   "cell_type": "markdown",
   "metadata": {},
   "source": [
    "### Season 2015"
   ]
  },
  {
   "cell_type": "code",
   "execution_count": 61,
   "metadata": {
    "collapsed": false
   },
   "outputs": [
    {
     "data": {
      "text/html": [
       "<div>\n",
       "<table border=\"1\" class=\"dataframe\">\n",
       "  <thead>\n",
       "    <tr style=\"text-align: right;\">\n",
       "      <th></th>\n",
       "      <th>champID</th>\n",
       "      <th>maxNumDeaths</th>\n",
       "      <th>mostChampionKillsPerSession</th>\n",
       "      <th>champ1R</th>\n",
       "      <th>champ2R</th>\n",
       "      <th>GoldEarned</th>\n",
       "      <th>MinionKills</th>\n",
       "      <th>PhysicalDamageDealt</th>\n",
       "      <th>MagicDamageDealt</th>\n",
       "      <th>DamageTaken</th>\n",
       "      <th>DoubleKills</th>\n",
       "      <th>TripleKills</th>\n",
       "      <th>QuadraKills</th>\n",
       "      <th>PentaKills</th>\n",
       "      <th>TurretsKilled</th>\n",
       "      <th>KDA</th>\n",
       "      <th>WinRate</th>\n",
       "    </tr>\n",
       "    <tr>\n",
       "      <th>summID</th>\n",
       "      <th></th>\n",
       "      <th></th>\n",
       "      <th></th>\n",
       "      <th></th>\n",
       "      <th></th>\n",
       "      <th></th>\n",
       "      <th></th>\n",
       "      <th></th>\n",
       "      <th></th>\n",
       "      <th></th>\n",
       "      <th></th>\n",
       "      <th></th>\n",
       "      <th></th>\n",
       "      <th></th>\n",
       "      <th></th>\n",
       "      <th></th>\n",
       "      <th></th>\n",
       "    </tr>\n",
       "  </thead>\n",
       "  <tbody>\n",
       "    <tr>\n",
       "      <th>42708146</th>\n",
       "      <td>36</td>\n",
       "      <td>13</td>\n",
       "      <td>18</td>\n",
       "      <td>1</td>\n",
       "      <td>1</td>\n",
       "      <td>13029.879121</td>\n",
       "      <td>174.593407</td>\n",
       "      <td>44891.395604</td>\n",
       "      <td>96059.989011</td>\n",
       "      <td>42114.263736</td>\n",
       "      <td>0.681319</td>\n",
       "      <td>0.065934</td>\n",
       "      <td>0.010989</td>\n",
       "      <td>0.0</td>\n",
       "      <td>1.450549</td>\n",
       "      <td>2.968978</td>\n",
       "      <td>0.659341</td>\n",
       "    </tr>\n",
       "    <tr>\n",
       "      <th>24128537</th>\n",
       "      <td>105</td>\n",
       "      <td>14</td>\n",
       "      <td>19</td>\n",
       "      <td>0</td>\n",
       "      <td>0</td>\n",
       "      <td>12826.212766</td>\n",
       "      <td>66.063830</td>\n",
       "      <td>39244.617021</td>\n",
       "      <td>102163.872340</td>\n",
       "      <td>26902.489362</td>\n",
       "      <td>0.468085</td>\n",
       "      <td>0.063830</td>\n",
       "      <td>0.021277</td>\n",
       "      <td>0.0</td>\n",
       "      <td>0.936170</td>\n",
       "      <td>1.853801</td>\n",
       "      <td>0.489362</td>\n",
       "    </tr>\n",
       "    <tr>\n",
       "      <th>21124959</th>\n",
       "      <td>81</td>\n",
       "      <td>12</td>\n",
       "      <td>21</td>\n",
       "      <td>3</td>\n",
       "      <td>3</td>\n",
       "      <td>12445.815534</td>\n",
       "      <td>152.805825</td>\n",
       "      <td>94166.446602</td>\n",
       "      <td>23920.495146</td>\n",
       "      <td>18100.233010</td>\n",
       "      <td>0.825243</td>\n",
       "      <td>0.135922</td>\n",
       "      <td>0.029126</td>\n",
       "      <td>0.0</td>\n",
       "      <td>0.747573</td>\n",
       "      <td>3.342105</td>\n",
       "      <td>0.543689</td>\n",
       "    </tr>\n",
       "    <tr>\n",
       "      <th>58799307</th>\n",
       "      <td>99</td>\n",
       "      <td>12</td>\n",
       "      <td>25</td>\n",
       "      <td>2</td>\n",
       "      <td>2</td>\n",
       "      <td>12709.555556</td>\n",
       "      <td>158.136752</td>\n",
       "      <td>19983.119658</td>\n",
       "      <td>113966.760684</td>\n",
       "      <td>14170.341880</td>\n",
       "      <td>0.623932</td>\n",
       "      <td>0.059829</td>\n",
       "      <td>0.000000</td>\n",
       "      <td>0.0</td>\n",
       "      <td>0.683761</td>\n",
       "      <td>4.328273</td>\n",
       "      <td>0.623932</td>\n",
       "    </tr>\n",
       "    <tr>\n",
       "      <th>24520826</th>\n",
       "      <td>222</td>\n",
       "      <td>11</td>\n",
       "      <td>33</td>\n",
       "      <td>3</td>\n",
       "      <td>3</td>\n",
       "      <td>14308.117188</td>\n",
       "      <td>215.265625</td>\n",
       "      <td>194662.953125</td>\n",
       "      <td>3100.734375</td>\n",
       "      <td>19328.304688</td>\n",
       "      <td>1.632812</td>\n",
       "      <td>0.375000</td>\n",
       "      <td>0.085938</td>\n",
       "      <td>0.0</td>\n",
       "      <td>2.835938</td>\n",
       "      <td>2.807638</td>\n",
       "      <td>0.632812</td>\n",
       "    </tr>\n",
       "  </tbody>\n",
       "</table>\n",
       "</div>"
      ],
      "text/plain": [
       "          champID  maxNumDeaths  mostChampionKillsPerSession  champ1R  \\\n",
       "summID                                                                  \n",
       "42708146       36            13                           18        1   \n",
       "24128537      105            14                           19        0   \n",
       "21124959       81            12                           21        3   \n",
       "58799307       99            12                           25        2   \n",
       "24520826      222            11                           33        3   \n",
       "\n",
       "          champ2R    GoldEarned  MinionKills  PhysicalDamageDealt  \\\n",
       "summID                                                              \n",
       "42708146        1  13029.879121   174.593407         44891.395604   \n",
       "24128537        0  12826.212766    66.063830         39244.617021   \n",
       "21124959        3  12445.815534   152.805825         94166.446602   \n",
       "58799307        2  12709.555556   158.136752         19983.119658   \n",
       "24520826        3  14308.117188   215.265625        194662.953125   \n",
       "\n",
       "          MagicDamageDealt   DamageTaken  DoubleKills  TripleKills  \\\n",
       "summID                                                               \n",
       "42708146      96059.989011  42114.263736     0.681319     0.065934   \n",
       "24128537     102163.872340  26902.489362     0.468085     0.063830   \n",
       "21124959      23920.495146  18100.233010     0.825243     0.135922   \n",
       "58799307     113966.760684  14170.341880     0.623932     0.059829   \n",
       "24520826       3100.734375  19328.304688     1.632812     0.375000   \n",
       "\n",
       "          QuadraKills  PentaKills  TurretsKilled       KDA   WinRate  \n",
       "summID                                                                \n",
       "42708146     0.010989         0.0       1.450549  2.968978  0.659341  \n",
       "24128537     0.021277         0.0       0.936170  1.853801  0.489362  \n",
       "21124959     0.029126         0.0       0.747573  3.342105  0.543689  \n",
       "58799307     0.000000         0.0       0.683761  4.328273  0.623932  \n",
       "24520826     0.085938         0.0       2.835938  2.807638  0.632812  "
      ]
     },
     "execution_count": 61,
     "metadata": {},
     "output_type": "execute_result"
    }
   ],
   "source": [
    "df_s5 = pd.read_pickle('data_processed.pkl')\n",
    "y_s5 = df_s5['league'].values\n",
    "X_s5 = df = df_s5.drop('league', 1)\n",
    "X_s5.head()"
   ]
  },
  {
   "cell_type": "markdown",
   "metadata": {},
   "source": [
    "### Season 2016"
   ]
  },
  {
   "cell_type": "code",
   "execution_count": 62,
   "metadata": {
    "collapsed": false
   },
   "outputs": [
    {
     "data": {
      "text/html": [
       "<div>\n",
       "<table border=\"1\" class=\"dataframe\">\n",
       "  <thead>\n",
       "    <tr style=\"text-align: right;\">\n",
       "      <th></th>\n",
       "      <th>champID</th>\n",
       "      <th>maxNumDeaths</th>\n",
       "      <th>mostChampionKillsPerSession</th>\n",
       "      <th>champ1R</th>\n",
       "      <th>champ2R</th>\n",
       "      <th>GoldEarned</th>\n",
       "      <th>MinionKills</th>\n",
       "      <th>PhysicalDamageDealt</th>\n",
       "      <th>MagicDamageDealt</th>\n",
       "      <th>DamageTaken</th>\n",
       "      <th>DoubleKills</th>\n",
       "      <th>TripleKills</th>\n",
       "      <th>QuadraKills</th>\n",
       "      <th>PentaKills</th>\n",
       "      <th>TurretsKilled</th>\n",
       "      <th>KDA</th>\n",
       "      <th>WinRate</th>\n",
       "    </tr>\n",
       "    <tr>\n",
       "      <th>summID</th>\n",
       "      <th></th>\n",
       "      <th></th>\n",
       "      <th></th>\n",
       "      <th></th>\n",
       "      <th></th>\n",
       "      <th></th>\n",
       "      <th></th>\n",
       "      <th></th>\n",
       "      <th></th>\n",
       "      <th></th>\n",
       "      <th></th>\n",
       "      <th></th>\n",
       "      <th></th>\n",
       "      <th></th>\n",
       "      <th></th>\n",
       "      <th></th>\n",
       "      <th></th>\n",
       "    </tr>\n",
       "  </thead>\n",
       "  <tbody>\n",
       "    <tr>\n",
       "      <th>42708146</th>\n",
       "      <td>36</td>\n",
       "      <td>13</td>\n",
       "      <td>18</td>\n",
       "      <td>1</td>\n",
       "      <td>1</td>\n",
       "      <td>13029.879121</td>\n",
       "      <td>174.593407</td>\n",
       "      <td>44891.395604</td>\n",
       "      <td>96059.989011</td>\n",
       "      <td>42114.263736</td>\n",
       "      <td>0.681319</td>\n",
       "      <td>0.065934</td>\n",
       "      <td>0.010989</td>\n",
       "      <td>0.0</td>\n",
       "      <td>1.450549</td>\n",
       "      <td>2.968978</td>\n",
       "      <td>0.659341</td>\n",
       "    </tr>\n",
       "    <tr>\n",
       "      <th>24128537</th>\n",
       "      <td>105</td>\n",
       "      <td>14</td>\n",
       "      <td>19</td>\n",
       "      <td>0</td>\n",
       "      <td>0</td>\n",
       "      <td>12826.212766</td>\n",
       "      <td>66.063830</td>\n",
       "      <td>39244.617021</td>\n",
       "      <td>102163.872340</td>\n",
       "      <td>26902.489362</td>\n",
       "      <td>0.468085</td>\n",
       "      <td>0.063830</td>\n",
       "      <td>0.021277</td>\n",
       "      <td>0.0</td>\n",
       "      <td>0.936170</td>\n",
       "      <td>1.853801</td>\n",
       "      <td>0.489362</td>\n",
       "    </tr>\n",
       "    <tr>\n",
       "      <th>21124959</th>\n",
       "      <td>81</td>\n",
       "      <td>12</td>\n",
       "      <td>21</td>\n",
       "      <td>3</td>\n",
       "      <td>3</td>\n",
       "      <td>12445.815534</td>\n",
       "      <td>152.805825</td>\n",
       "      <td>94166.446602</td>\n",
       "      <td>23920.495146</td>\n",
       "      <td>18100.233010</td>\n",
       "      <td>0.825243</td>\n",
       "      <td>0.135922</td>\n",
       "      <td>0.029126</td>\n",
       "      <td>0.0</td>\n",
       "      <td>0.747573</td>\n",
       "      <td>3.342105</td>\n",
       "      <td>0.543689</td>\n",
       "    </tr>\n",
       "    <tr>\n",
       "      <th>58799307</th>\n",
       "      <td>99</td>\n",
       "      <td>12</td>\n",
       "      <td>25</td>\n",
       "      <td>2</td>\n",
       "      <td>2</td>\n",
       "      <td>12709.555556</td>\n",
       "      <td>158.136752</td>\n",
       "      <td>19983.119658</td>\n",
       "      <td>113966.760684</td>\n",
       "      <td>14170.341880</td>\n",
       "      <td>0.623932</td>\n",
       "      <td>0.059829</td>\n",
       "      <td>0.000000</td>\n",
       "      <td>0.0</td>\n",
       "      <td>0.683761</td>\n",
       "      <td>4.328273</td>\n",
       "      <td>0.623932</td>\n",
       "    </tr>\n",
       "    <tr>\n",
       "      <th>24520826</th>\n",
       "      <td>222</td>\n",
       "      <td>11</td>\n",
       "      <td>33</td>\n",
       "      <td>3</td>\n",
       "      <td>3</td>\n",
       "      <td>14308.117188</td>\n",
       "      <td>215.265625</td>\n",
       "      <td>194662.953125</td>\n",
       "      <td>3100.734375</td>\n",
       "      <td>19328.304688</td>\n",
       "      <td>1.632812</td>\n",
       "      <td>0.375000</td>\n",
       "      <td>0.085938</td>\n",
       "      <td>0.0</td>\n",
       "      <td>2.835938</td>\n",
       "      <td>2.807638</td>\n",
       "      <td>0.632812</td>\n",
       "    </tr>\n",
       "  </tbody>\n",
       "</table>\n",
       "</div>"
      ],
      "text/plain": [
       "          champID  maxNumDeaths  mostChampionKillsPerSession  champ1R  \\\n",
       "summID                                                                  \n",
       "42708146       36            13                           18        1   \n",
       "24128537      105            14                           19        0   \n",
       "21124959       81            12                           21        3   \n",
       "58799307       99            12                           25        2   \n",
       "24520826      222            11                           33        3   \n",
       "\n",
       "          champ2R    GoldEarned  MinionKills  PhysicalDamageDealt  \\\n",
       "summID                                                              \n",
       "42708146        1  13029.879121   174.593407         44891.395604   \n",
       "24128537        0  12826.212766    66.063830         39244.617021   \n",
       "21124959        3  12445.815534   152.805825         94166.446602   \n",
       "58799307        2  12709.555556   158.136752         19983.119658   \n",
       "24520826        3  14308.117188   215.265625        194662.953125   \n",
       "\n",
       "          MagicDamageDealt   DamageTaken  DoubleKills  TripleKills  \\\n",
       "summID                                                               \n",
       "42708146      96059.989011  42114.263736     0.681319     0.065934   \n",
       "24128537     102163.872340  26902.489362     0.468085     0.063830   \n",
       "21124959      23920.495146  18100.233010     0.825243     0.135922   \n",
       "58799307     113966.760684  14170.341880     0.623932     0.059829   \n",
       "24520826       3100.734375  19328.304688     1.632812     0.375000   \n",
       "\n",
       "          QuadraKills  PentaKills  TurretsKilled       KDA   WinRate  \n",
       "summID                                                                \n",
       "42708146     0.010989         0.0       1.450549  2.968978  0.659341  \n",
       "24128537     0.021277         0.0       0.936170  1.853801  0.489362  \n",
       "21124959     0.029126         0.0       0.747573  3.342105  0.543689  \n",
       "58799307     0.000000         0.0       0.683761  4.328273  0.623932  \n",
       "24520826     0.085938         0.0       2.835938  2.807638  0.632812  "
      ]
     },
     "execution_count": 62,
     "metadata": {},
     "output_type": "execute_result"
    }
   ],
   "source": [
    "df_s6 = pd.read_pickle('data_processed_2016.pkl')\n",
    "y_s6 = df_s6['league'].values\n",
    "X_s6 = df = df_s6.drop('league', 1)\n",
    "X_s6.head()"
   ]
  },
  {
   "cell_type": "markdown",
   "metadata": {},
   "source": [
    "## Data split and feature engineering"
   ]
  },
  {
   "cell_type": "markdown",
   "metadata": {},
   "source": [
    "We decided that the champion role is not relevant for the classification and also the specific champion the player has stadistic for is not relevant. Hence, 'champID', 'champ1R' and 'champ2R' are not considered as features."
   ]
  },
  {
   "cell_type": "code",
   "execution_count": 63,
   "metadata": {
    "collapsed": false
   },
   "outputs": [],
   "source": [
    "X_s5 = X_s5[['maxNumDeaths', 'mostChampionKillsPerSession', 'GoldEarned', 'MinionKills',\n",
    "      'PhysicalDamageDealt', 'MagicDamageDealt', 'DamageTaken', 'DoubleKills', 'TripleKills',\n",
    "       'QuadraKills', 'PentaKills', 'TurretsKilled', 'KDA', 'WinRate']]\n",
    "X_s6 = X_s6[['maxNumDeaths', 'mostChampionKillsPerSession', 'GoldEarned', 'MinionKills',\n",
    "      'PhysicalDamageDealt', 'MagicDamageDealt', 'DamageTaken', 'DoubleKills', 'TripleKills',\n",
    "       'QuadraKills', 'PentaKills', 'TurretsKilled', 'KDA', 'WinRate']]"
   ]
  },
  {
   "cell_type": "markdown",
   "metadata": {},
   "source": [
    "We scale and normalize the features:"
   ]
  },
  {
   "cell_type": "code",
   "execution_count": 64,
   "metadata": {
    "collapsed": false
   },
   "outputs": [],
   "source": [
    "X_n = preprocessing.normalize(preprocessing.scale(X_s5))"
   ]
  },
  {
   "cell_type": "markdown",
   "metadata": {},
   "source": [
    "## Feature selection"
   ]
  },
  {
   "cell_type": "markdown",
   "metadata": {},
   "source": [
    "### Univariate Feature Selection"
   ]
  },
  {
   "cell_type": "markdown",
   "metadata": {},
   "source": [
    "For a simple univariate feature selection we will use a SVC with a linear kernel and compare the performance:"
   ]
  },
  {
   "cell_type": "code",
   "execution_count": 65,
   "metadata": {
    "collapsed": false,
    "scrolled": true
   },
   "outputs": [
    {
     "data": {
      "image/png": "[encoded data removed]",
      "text/plain": [
       "<matplotlib.figure.Figure at 0x1120c10f0>"
      ]
     },
     "metadata": {},
     "output_type": "display_data"
    }
   ],
   "source": [
    "clf = SVC(kernel='linear')\n",
    "clf.fit(X_n, y_s5)\n",
    "svm_weights = (clf.coef_ ** 2).sum(axis=0)\n",
    "svm_weights /= svm_weights.max()\n",
    "X_indices = np.arange(X_s5.shape[-1])\n",
    "\n",
    "plt.bar(X_indices + 1, svm_weights, width=.2, label='SVM weight', color='navy')\n",
    "plt.xlabel('N features')\n",
    "plt.ylabel('Importance')\n",
    "plt.yticks(())\n",
    "plt.axis('tight')\n",
    "plt.legend(loc='upper right')\n",
    "plt.show()"
   ]
  },
  {
   "cell_type": "markdown",
   "metadata": {},
   "source": [
    "We can see that the Ranking for the most important features is:\n",
    "\n",
    "1. maxNumDeaths\n",
    "2. PhysicalDamageDealt\n",
    "3. MinionKills\n",
    "4. GoldEarned\n",
    "5. MagicDamageDealt\n",
    "6. DoubleKills"
   ]
  },
  {
   "cell_type": "markdown",
   "metadata": {},
   "source": [
    "### Recursive Feature Elimination (RFE)\n",
    "\n",
    "Now, we observe from the most important feature to all features and evaluate the best group of features to select the set of freatures. "
   ]
  },
  {
   "cell_type": "code",
   "execution_count": 67,
   "metadata": {
    "collapsed": false,
    "scrolled": false
   },
   "outputs": [
    {
     "name": "stdout",
     "output_type": "stream",
     "text": [
      "1 features Selection by RFE are:\n",
      " Index(['maxNumDeaths'], dtype='object')\n",
      "Train Accuracy:  0.308848080134 \tValidation Error:  0.3075\n",
      "2 features Selection by RFE are:\n",
      " Index(['maxNumDeaths', 'MinionKills'], dtype='object')\n",
      "Train Accuracy:  0.312186978297 \tValidation Error:  0.305\n",
      "3 features Selection by RFE are:\n",
      " Index(['maxNumDeaths', 'MinionKills', 'DoubleKills'], dtype='object')\n",
      "Train Accuracy:  0.320534223706 \tValidation Error:  0.31\n",
      "4 features Selection by RFE are:\n",
      " Index(['maxNumDeaths', 'GoldEarned', 'MinionKills', 'DoubleKills'], dtype='object')\n",
      "Train Accuracy:  0.318864774624 \tValidation Error:  0.31\n",
      "5 features Selection by RFE are:\n",
      " Index(['maxNumDeaths', 'GoldEarned', 'MinionKills', 'PhysicalDamageDealt',\n",
      "       'DoubleKills'],\n",
      "      dtype='object')\n",
      "Train Accuracy:  0.317195325543 \tValidation Error:  0.3075\n",
      "6 features Selection by RFE are:\n",
      " Index(['maxNumDeaths', 'GoldEarned', 'MinionKills', 'PhysicalDamageDealt',\n",
      "       'MagicDamageDealt', 'DoubleKills'],\n",
      "      dtype='object')\n",
      "Train Accuracy:  0.325542570952 \tValidation Error:  0.315\n",
      "7 features Selection by RFE are:\n",
      " Index(['maxNumDeaths', 'GoldEarned', 'MinionKills', 'PhysicalDamageDealt',\n",
      "       'MagicDamageDealt', 'DoubleKills', 'TurretsKilled'],\n",
      "      dtype='object')\n",
      "Train Accuracy:  0.322203672788 \tValidation Error:  0.3125\n",
      "8 features Selection by RFE are:\n",
      " Index(['maxNumDeaths', 'GoldEarned', 'MinionKills', 'PhysicalDamageDealt',\n",
      "       'MagicDamageDealt', 'DoubleKills', 'QuadraKills', 'TurretsKilled'],\n",
      "      dtype='object')\n",
      "Train Accuracy:  0.328881469115 \tValidation Error:  0.33\n",
      "9 features Selection by RFE are:\n",
      " Index(['maxNumDeaths', 'GoldEarned', 'MinionKills', 'PhysicalDamageDealt',\n",
      "       'MagicDamageDealt', 'DoubleKills', 'TripleKills', 'QuadraKills',\n",
      "       'TurretsKilled'],\n",
      "      dtype='object')\n",
      "Train Accuracy:  0.332220367279 \tValidation Error:  0.3275\n",
      "10 features Selection by RFE are:\n",
      " Index(['maxNumDeaths', 'GoldEarned', 'MinionKills', 'PhysicalDamageDealt',\n",
      "       'MagicDamageDealt', 'DamageTaken', 'DoubleKills', 'TripleKills',\n",
      "       'QuadraKills', 'TurretsKilled'],\n",
      "      dtype='object')\n",
      "Train Accuracy:  0.328881469115 \tValidation Error:  0.33\n",
      "11 features Selection by RFE are:\n",
      " Index(['maxNumDeaths', 'GoldEarned', 'MinionKills', 'PhysicalDamageDealt',\n",
      "       'MagicDamageDealt', 'DamageTaken', 'DoubleKills', 'TripleKills',\n",
      "       'QuadraKills', 'PentaKills', 'TurretsKilled'],\n",
      "      dtype='object')\n",
      "Train Accuracy:  0.325542570952 \tValidation Error:  0.3325\n",
      "12 features Selection by RFE are:\n",
      " Index(['maxNumDeaths', 'mostChampionKillsPerSession', 'GoldEarned',\n",
      "       'MinionKills', 'PhysicalDamageDealt', 'MagicDamageDealt', 'DamageTaken',\n",
      "       'DoubleKills', 'TripleKills', 'QuadraKills', 'PentaKills',\n",
      "       'TurretsKilled'],\n",
      "      dtype='object')\n",
      "Train Accuracy:  0.330550918197 \tValidation Error:  0.33\n",
      "13 features Selection by RFE are:\n",
      " Index(['maxNumDeaths', 'mostChampionKillsPerSession', 'GoldEarned',\n",
      "       'MinionKills', 'PhysicalDamageDealt', 'MagicDamageDealt', 'DamageTaken',\n",
      "       'DoubleKills', 'TripleKills', 'QuadraKills', 'PentaKills',\n",
      "       'TurretsKilled', 'KDA'],\n",
      "      dtype='object')\n",
      "Train Accuracy:  0.347245409015 \tValidation Error:  0.3225\n",
      "14 features Selection by RFE are:\n",
      " Index(['maxNumDeaths', 'mostChampionKillsPerSession', 'GoldEarned',\n",
      "       'MinionKills', 'PhysicalDamageDealt', 'MagicDamageDealt', 'DamageTaken',\n",
      "       'DoubleKills', 'TripleKills', 'QuadraKills', 'PentaKills',\n",
      "       'TurretsKilled', 'KDA', 'WinRate'],\n",
      "      dtype='object')\n",
      "Train Accuracy:  0.362270450751 \tValidation Error:  0.32\n"
     ]
    }
   ],
   "source": [
    "X_tr_, X_val, y_tr_, y_val = train_test_split(X_n, y_s5, test_size=0.4, random_state=0)\n",
    "X_tr_ = pd.DataFrame(data=X_tr_, columns=X_s5.columns) \n",
    "X_val = pd.DataFrame(data=X_val, columns=X_s5.columns) \n",
    "\n",
    "train_acc, validation_acc = [], []\n",
    "\n",
    "for i in range(1,X_n.shape[1]+1,1):\n",
    "    estimator = SVC(kernel=\"linear\")\n",
    "    selector = RFE(estimator, i, step=1)\n",
    "    selector = selector.fit(X_n, y_s5)\n",
    "    feature_selection = selector.support_ \n",
    "    print(i,\"features Selection by RFE are:\\n\", X_s5.columns[feature_selection])\n",
    "    clsf = SVC(kernel=\"linear\")\n",
    "    clsf.fit(X_tr_[X_tr_.columns[feature_selection]], y_tr_)\n",
    "    train_acc.append(clsf.score(X_tr_[X_tr_.columns[feature_selection]], y_tr_))\n",
    "    validation_acc.append(clsf.score(X_val[X_val.columns[feature_selection]], y_val))\n",
    "    print(\"Train Accuracy: \",train_acc[i-1] , \"\\tValidation Error: \", validation_acc[i-1])"
   ]
  },
  {
   "cell_type": "code",
   "execution_count": 71,
   "metadata": {
    "collapsed": false
   },
   "outputs": [
    {
     "data": {
      "image/png": "[encoded data removed]",
      "text/plain": [
       "<matplotlib.figure.Figure at 0x112932630>"
      ]
     },
     "metadata": {},
     "output_type": "display_data"
    }
   ],
   "source": [
    "plt.plot([0]+train_acc, 'g', label= 'Train')\n",
    "plt.plot([0]+validation_acc, 'r', label = 'Validation')\n",
    "plt.legend(bbox_to_anchor=(0., 1.02, 1., .102), loc=3,\n",
    "           ncol=2, mode=\"expand\", borderaxespad=0.)\n",
    "plt.xlim(1, 14)\n",
    "plt.ylim(0.2, 0.45)\n",
    "plt.xlabel('N features')\n",
    "plt.ylabel('Accuracy')\n",
    "plt.show()"
   ]
  },
  {
   "cell_type": "markdown",
   "metadata": {
    "collapsed": true
   },
   "source": [
    "### Feature ranking using trees\n",
    "\n",
    "\n",
    "We rank the importance of the features and evaluate if the normalization and/or scale affects to this ranking."
   ]
  },
  {
   "cell_type": "markdown",
   "metadata": {},
   "source": [
    "#### Using raw data"
   ]
  },
  {
   "cell_type": "code",
   "execution_count": 72,
   "metadata": {
    "collapsed": false
   },
   "outputs": [],
   "source": [
    "def feature_importance(data, labels):\n",
    "    forest = ExtraTreesClassifier(n_estimators=250, random_state=0)\n",
    "    forest.fit(data, labels)\n",
    "    importances = forest.feature_importances_\n",
    "    std = np.std([tree.feature_importances_ for tree in forest.estimators_], axis=0)\n",
    "    indices = np.argsort(importances)[::-1]\n",
    "\n",
    "    # Print the feature ranking\n",
    "    print(\"Feature ranking:\")\n",
    "    for f in range(X_s5.shape[1]):\n",
    "        print(\"%d. feature %d (%f)\" % (f + 1, indices[f], importances[indices[f]]))\n",
    "\n",
    "    # Plot the feature importances of the forest\n",
    "    plt.figure()\n",
    "    plt.title(\"Feature importances\")\n",
    "    plt.bar(range(data.shape[1]), importances[indices],\n",
    "           color=\"r\", yerr=std[indices], align=\"center\")\n",
    "    plt.xticks(range(data.shape[1]), indices)\n",
    "    plt.xlim([-1, data.shape[1]])\n",
    "    plt.show()"
   ]
  },
  {
   "cell_type": "code",
   "execution_count": 73,
   "metadata": {
    "collapsed": false
   },
   "outputs": [
    {
     "name": "stdout",
     "output_type": "stream",
     "text": [
      "Feature ranking:\n",
      "1. feature 3 (0.090046)\n",
      "2. feature 0 (0.081286)\n",
      "3. feature 6 (0.078958)\n",
      "4. feature 2 (0.078431)\n",
      "5. feature 1 (0.078064)\n",
      "6. feature 12 (0.077932)\n",
      "7. feature 5 (0.077468)\n",
      "8. feature 13 (0.076535)\n",
      "9. feature 4 (0.075999)\n",
      "10. feature 7 (0.073790)\n",
      "11. feature 11 (0.073437)\n",
      "12. feature 8 (0.066072)\n",
      "13. feature 9 (0.047329)\n",
      "14. feature 10 (0.024654)\n"
     ]
    },
    {
     "data": {
      "image/png": "[encoded data removed]",
      "text/plain": [
       "<matplotlib.figure.Figure at 0x112d3f048>"
      ]
     },
     "metadata": {},
     "output_type": "display_data"
    }
   ],
   "source": [
    "feature_importance(X_s5, y_s5)"
   ]
  },
  {
   "cell_type": "markdown",
   "metadata": {},
   "source": [
    "#### Scaling the data"
   ]
  },
  {
   "cell_type": "code",
   "execution_count": 74,
   "metadata": {
    "collapsed": false
   },
   "outputs": [
    {
     "name": "stdout",
     "output_type": "stream",
     "text": [
      "Feature ranking:\n",
      "1. feature 3 (0.090046)\n",
      "2. feature 0 (0.081286)\n",
      "3. feature 6 (0.078958)\n",
      "4. feature 2 (0.078431)\n",
      "5. feature 1 (0.078064)\n",
      "6. feature 12 (0.077932)\n",
      "7. feature 5 (0.077468)\n",
      "8. feature 13 (0.076535)\n",
      "9. feature 4 (0.075999)\n",
      "10. feature 7 (0.073790)\n",
      "11. feature 11 (0.073437)\n",
      "12. feature 8 (0.066072)\n",
      "13. feature 9 (0.047329)\n",
      "14. feature 10 (0.024654)\n"
     ]
    },
    {
     "data": {
      "image/png": "[encoded data removed]",
      "text/plain": [
       "<matplotlib.figure.Figure at 0x112c68f28>"
      ]
     },
     "metadata": {},
     "output_type": "display_data"
    }
   ],
   "source": [
    "X_s =preprocessing.scale(X_s5)\n",
    "feature_importance(X_s5, y_s5)"
   ]
  },
  {
   "cell_type": "markdown",
   "metadata": {},
   "source": [
    "#### Normalizing and scaling the data"
   ]
  },
  {
   "cell_type": "code",
   "execution_count": 75,
   "metadata": {
    "collapsed": false
   },
   "outputs": [
    {
     "name": "stdout",
     "output_type": "stream",
     "text": [
      "Feature ranking:\n",
      "1. feature 0 (0.084024)\n",
      "2. feature 3 (0.083484)\n",
      "3. feature 1 (0.072318)\n",
      "4. feature 5 (0.071791)\n",
      "5. feature 12 (0.071603)\n",
      "6. feature 6 (0.070979)\n",
      "7. feature 13 (0.070141)\n",
      "8. feature 7 (0.069962)\n",
      "9. feature 4 (0.069944)\n",
      "10. feature 2 (0.069444)\n",
      "11. feature 8 (0.068032)\n",
      "12. feature 10 (0.066406)\n",
      "13. feature 11 (0.066329)\n",
      "14. feature 9 (0.065541)\n"
     ]
    },
    {
     "data": {
      "image/png": "[encoded data removed]",
      "text/plain": [
       "<matplotlib.figure.Figure at 0x11270b5f8>"
      ]
     },
     "metadata": {},
     "output_type": "display_data"
    }
   ],
   "source": [
    "feature_importance(X_n, y_s5)"
   ]
  },
  {
   "cell_type": "markdown",
   "metadata": {},
   "source": [
    "We can observe that scaling the data does not affect the feature importance but, on the other hand, the normalization do affect the feature ranking. "
   ]
  },
  {
   "cell_type": "markdown",
   "metadata": {},
   "source": [
    "# Unsupervised Clustering"
   ]
  },
  {
   "cell_type": "markdown",
   "metadata": {
    "collapsed": true
   },
   "source": [
    "Although we won't use an unsupervised clustering for predicting the data. We could calculate a siluette score to measure how well the data could be clusterized in 6 clusters."
   ]
  },
  {
   "cell_type": "markdown",
   "metadata": {},
   "source": [
    "## K-means"
   ]
  },
  {
   "cell_type": "markdown",
   "metadata": {},
   "source": [
    "Source: http://scikit-learn.org/stable/auto_examples/cluster/plot_kmeans_digits.html"
   ]
  },
  {
   "cell_type": "code",
   "execution_count": null,
   "metadata": {
    "collapsed": false
   },
   "outputs": [],
   "source": [
    "def bench_k_means(estimator, name, data):\n",
    "    t0 = time()\n",
    "    estimator.fit(data)\n",
    "    print('% 9s   %.2fs    %i   %.3f   %.3f   %.3f   %.3f   %.3f    %.3f'\n",
    "          % (name, (time() - t0), estimator.inertia_,\n",
    "             metrics.homogeneity_score(labels, estimator.labels_),\n",
    "             metrics.completeness_score(labels, estimator.labels_),\n",
    "             metrics.v_measure_score(labels, estimator.labels_),\n",
    "             metrics.adjusted_rand_score(labels, estimator.labels_),\n",
    "             metrics.adjusted_mutual_info_score(labels,  estimator.labels_),\n",
    "             metrics.silhouette_score(data, estimator.labels_,\n",
    "                                      metric='euclidean',\n",
    "                                      sample_size=sample_size)))"
   ]
  },
  {
   "cell_type": "code",
   "execution_count": null,
   "metadata": {
    "collapsed": false
   },
   "outputs": [],
   "source": [
    "labels = y_total\n",
    "n_samples, n_features = X_total.shape\n",
    "sample_size = n_samples\n",
    "bench_k_means(KMeans(init='k-means++', n_clusters=5, n_init=10), name=\"k-means++\", data=X_s5)"
   ]
  },
  {
   "cell_type": "code",
   "execution_count": null,
   "metadata": {
    "collapsed": false
   },
   "outputs": [],
   "source": [
    "k_means = KMeans(init='k-means++', n_clusters=5, n_init=10)\n",
    "k_means.fit(X_s5_tr)"
   ]
  },
  {
   "cell_type": "markdown",
   "metadata": {},
   "source": [
    "## GMM"
   ]
  },
  {
   "cell_type": "markdown",
   "metadata": {},
   "source": [
    "Source: http://scikit-learn.org/stable/auto_examples/mixture/plot_gmm.html"
   ]
  },
  {
   "cell_type": "code",
   "execution_count": null,
   "metadata": {
    "collapsed": false
   },
   "outputs": [],
   "source": [
    "X = X_total[['GoldEarned', 'MinionKills', 'KDA']]"
   ]
  },
  {
   "cell_type": "code",
   "execution_count": null,
   "metadata": {
    "collapsed": true
   },
   "outputs": [],
   "source": [
    "color_iter = itertools.cycle(['navy', 'c', 'cornflowerblue', 'gold','darkorange'])\n",
    "def plot_results(X, Y_, means, covariances, index, title):\n",
    "    splot = plt.subplot(2, 1, 1 + index)\n",
    "    for i, (mean, covar, color) in enumerate(zip(means, covariances, color_iter)):\n",
    "        v, w = linalg.eigh(covar)\n",
    "        v = 2. * np.sqrt(2.) * np.sqrt(v)\n",
    "        u = w[0] / linalg.norm(w[0])\n",
    "        # as the DP will not use every component it has access to\n",
    "        # unless it needs it, we shouldn't plot the redundant\n",
    "        # components.\n",
    "        if not np.any(Y_ == i):\n",
    "            continue\n",
    "        plt.scatter(X[Y_ == i, 0], X[Y_ == i, 1], .8)\n",
    "\n",
    "        # Plot an ellipse to show the Gaussian component\n",
    "        angle = np.arctan(u[1] / u[0])\n",
    "        angle = 180. * angle / np.pi  # convert to degrees\n",
    "        ell = mpl.patches.Ellipse(mean, v[0], v[1], 180. + angle, color=color)\n",
    "        ell.set_clip_box(splot.bbox)\n",
    "        ell.set_alpha(0.5)\n",
    "        splot.add_artist(ell)\n",
    "    plt.xlim(-9., 5.)\n",
    "    plt.ylim(-3., 6.)\n",
    "    plt.xticks(())\n",
    "    plt.yticks(())\n",
    "    plt.title(title)"
   ]
  },
  {
   "cell_type": "markdown",
   "metadata": {},
   "source": [
    "# Supervised classification (predicting the elo)"
   ]
  },
  {
   "cell_type": "markdown",
   "metadata": {},
   "source": [
    "We perform a multi-label classification using different classifiers. We have seen that the best result is obtanined using this features:"
   ]
  },
  {
   "cell_type": "code",
   "execution_count": 12,
   "metadata": {
    "collapsed": true
   },
   "outputs": [],
   "source": [
    "X_s5 = X_s5[['maxNumDeaths', 'mostChampionKillsPerSession', 'GoldEarned',\n",
    "       'MinionKills', 'PhysicalDamageDealt', 'MagicDamageDealt', 'DoubleKills',\n",
    "       'QuadraKills', 'TurretsKilled', 'WinRate']]\n",
    "X_s6 = X_s6[['maxNumDeaths', 'mostChampionKillsPerSession', 'GoldEarned',\n",
    "       'MinionKills', 'PhysicalDamageDealt', 'MagicDamageDealt', 'DoubleKills',\n",
    "       'QuadraKills', 'TurretsKilled', 'WinRate']]"
   ]
  },
  {
   "cell_type": "markdown",
   "metadata": {},
   "source": [
    "## SVC"
   ]
  },
  {
   "cell_type": "markdown",
   "metadata": {},
   "source": [
    "First, we will try to classify the data using a Support Vector Machine. \n",
    "We will use the model provided by sklearn: http://scikit-learn.org/stable/modules/generated/sklearn.svm.SVC.html"
   ]
  },
  {
   "cell_type": "markdown",
   "metadata": {},
   "source": [
    "We use PCA to scale the dimensionality of the data:"
   ]
  },
  {
   "cell_type": "code",
   "execution_count": 13,
   "metadata": {
    "collapsed": false
   },
   "outputs": [],
   "source": [
    "pca = PCA()\n",
    "pca.fit(preprocessing.scale(X_s5))\n",
    "X_tr = pca.transform(preprocessing.scale(X_s5))\n",
    "y_tr = y_s5\n",
    "X_ts = pca.transform(preprocessing.scale(X_s6))\n",
    "y_ts = y_s6"
   ]
  },
  {
   "cell_type": "markdown",
   "metadata": {},
   "source": [
    "We will try two kernelized models: Linear and RBF."
   ]
  },
  {
   "cell_type": "code",
   "execution_count": 14,
   "metadata": {
    "collapsed": false
   },
   "outputs": [
    {
     "name": "stdout",
     "output_type": "stream",
     "text": [
      "Mean Accuracy : 0.394099622285 \tSTD:  0.00895650269304\n"
     ]
    }
   ],
   "source": [
    "clf = SVC(kernel='linear')\n",
    "values = cross_val_score(clf, X_tr, y_tr, cv=10)\n",
    "print('Mean Accuracy :', np.mean(values), '\\tSTD: ', np.std(values))"
   ]
  },
  {
   "cell_type": "code",
   "execution_count": 15,
   "metadata": {
    "collapsed": false
   },
   "outputs": [
    {
     "name": "stdout",
     "output_type": "stream",
     "text": [
      "Mean Accuracy : 0.414378332894 \tSTD:  0.0073031966508\n"
     ]
    }
   ],
   "source": [
    "clf = SVC(kernel='rbf')\n",
    "values = cross_val_score(clf, X_tr, y_tr, cv=10)\n",
    "print('Mean Accuracy :', np.mean(values), '\\tSTD: ', np.std(values))"
   ]
  },
  {
   "cell_type": "markdown",
   "metadata": {},
   "source": [
    "We perform a Grid Search and a 3-Fold Cross-Validation to optimize the hyper-parameters of the SVM. For more information on this method read http://scikit-learn.org/stable/modules/generated/sklearn.model_selection.GridSearchCV.html."
   ]
  },
  {
   "cell_type": "code",
   "execution_count": 20,
   "metadata": {
    "collapsed": false
   },
   "outputs": [
    {
     "name": "stdout",
     "output_type": "stream",
     "text": [
      "The best classifier is:  SVC(C=1000.0, cache_size=200, class_weight=None, coef0=0.0,\n",
      "  decision_function_shape=None, degree=3, gamma=0.01, kernel='rbf',\n",
      "  max_iter=-1, probability=False, random_state=None, shrinking=True,\n",
      "  tol=0.001, verbose=False)\n"
     ]
    }
   ],
   "source": [
    "C_range = 10.0 ** np.arange(-4, 4)\n",
    "gamma_range = 10.0 ** np.arange(-4, 4)\n",
    "param_grid = {\"gamma\": gamma_range.tolist(), \"C\": C_range.tolist()}\n",
    "grid = GridSearchCV(SVC(kernel='rbf'), param_grid, n_jobs = -1)\n",
    "grid.fit(X_tr, y_tr)\n",
    "print(\"The best classifier is: \", grid.best_estimator_)"
   ]
  },
  {
   "cell_type": "markdown",
   "metadata": {},
   "source": [
    "Now, we classify with the obtained hyper-parameters:"
   ]
  },
  {
   "cell_type": "code",
   "execution_count": 16,
   "metadata": {
    "collapsed": false
   },
   "outputs": [
    {
     "name": "stdout",
     "output_type": "stream",
     "text": [
      "Mean Validation Accuracy : 0.424079146787 \tSTD:  0.00795529313744\n",
      "Test Accurary: 0.365365365365\n"
     ]
    }
   ],
   "source": [
    "clf = SVC(C=1000.0, gamma=0.01, kernel='rbf', tol=.003)\n",
    "values = cross_val_score(clf, X_tr, y_tr, cv=10)\n",
    "print('Mean Validation Accuracy :', np.mean(values), '\\tSTD: ', np.std(values))\n",
    "clf.fit(X_tr, y_tr)\n",
    "print('Test Accurary:', clf.score(X_ts, y_ts))"
   ]
  },
  {
   "cell_type": "markdown",
   "metadata": {},
   "source": [
    "As you would probably have guessed, this accuracy is not true as you dont commit the same error when wrongly classyfing between adjacent classes (we should consider higher error prediction platinum instead of silver than gold instead of silver). \n",
    "\n",
    "Because of this we plot a \"confusion matrix\" to visualize this error:"
   ]
  },
  {
   "cell_type": "code",
   "execution_count": 17,
   "metadata": {
    "collapsed": true
   },
   "outputs": [],
   "source": [
    "def plot_confusion_matrix(cm, classes, title='Confusion matrix', cmap=plt.cm.Blues):\n",
    "    plt.imshow(cm, interpolation='nearest', cmap=cmap)\n",
    "    plt.title(title)\n",
    "    plt.colorbar()\n",
    "    tick_marks = np.arange(len(classes))\n",
    "    plt.xticks(tick_marks, classes, rotation=45)\n",
    "    plt.yticks(tick_marks, classes)\n",
    "\n",
    "\n",
    "    thresh = cm.max() / 2.\n",
    "    for i, j in itertools.product(range(cm.shape[0]), range(cm.shape[1])):\n",
    "        plt.text(j, i, cm[i, j],\n",
    "                 horizontalalignment=\"center\",\n",
    "                 color=\"white\" if cm[i, j] > thresh else \"black\")\n",
    "\n",
    "    plt.tight_layout()\n",
    "    plt.ylabel('True label')\n",
    "    plt.xlabel('Predicted label')"
   ]
  },
  {
   "cell_type": "code",
   "execution_count": 18,
   "metadata": {
    "collapsed": false
   },
   "outputs": [
    {
     "data": {
      "image/png": "[encoded data removed]",
      "text/plain": [
       "<matplotlib.figure.Figure at 0x11000df98>"
      ]
     },
     "metadata": {},
     "output_type": "display_data"
    }
   ],
   "source": [
    "prediction = clf.predict(X_ts)\n",
    "cnf_matrix = confusion_matrix(y_ts, prediction)\n",
    "plot_confusion_matrix(cnf_matrix, classes=np.unique(y_s5))"
   ]
  },
  {
   "cell_type": "code",
   "execution_count": 19,
   "metadata": {
    "collapsed": false
   },
   "outputs": [
    {
     "name": "stdout",
     "output_type": "stream",
     "text": [
      "Accuracy:  0.365365365365\n"
     ]
    }
   ],
   "source": [
    "print(\"Accuracy: \", sum(cnf_matrix.diagonal())/sum(sum(cnf_matrix)))"
   ]
  },
  {
   "cell_type": "markdown",
   "metadata": {},
   "source": [
    "The accuracy is ok. As we are trying to predict between 5 labels and data is unbalanced. We can observate that the class 4 (platinum) has the highest weight. This could be happening because the data is unbalanced and also the stadistics are not that different between the middle elos (silver-gold-platinum)."
   ]
  },
  {
   "cell_type": "markdown",
   "metadata": {},
   "source": [
    "### Multi-Binary SVM Classifier"
   ]
  },
  {
   "cell_type": "markdown",
   "metadata": {},
   "source": [
    "As we had seen in the confusion matrix, platinum elo is by far the most frequent prediction. We believe that whis could happen because the data is not balanced (as we have more data from platinum elo players than the rest of elos).\n",
    "\n",
    "Because of this reason we implement a multi-binary SVM (divide & conquer algorithm). Now, the data is classified by comparing each class against each other in a binary classification. This would not asure better results but it is another aproach that could fit well with the structure of the data."
   ]
  },
  {
   "cell_type": "markdown",
   "metadata": {},
   "source": [
    "First we will calculate the accuracy using a binary classifier for each pair of elos: "
   ]
  },
  {
   "cell_type": "code",
   "execution_count": 26,
   "metadata": {
    "collapsed": false
   },
   "outputs": [
    {
     "name": "stdout",
     "output_type": "stream",
     "text": [
      "Class:  0  VS  1  Mean Accuracy : 0.566507193548 \tSTD:  0.000258913531678\n",
      "Class:  0  VS  2  Mean Accuracy : 0.509697780603 \tSTD:  0.000264337915221\n",
      "Class:  0  VS  3  Mean Accuracy : 0.685320364917 \tSTD:  0.000362418784677\n",
      "Class:  0  VS  4  Mean Accuracy : 0.578235559593 \tSTD:  0.000259534809811\n",
      "Class:  0  VS  5  Mean Accuracy : 0.990123390772 \tSTD:  0.00139228037819\n",
      "Class:  1  VS  2  Mean Accuracy : 0.556956368096 \tSTD:  7.93816508851e-05\n",
      "Class:  1  VS  3  Mean Accuracy : 0.624974542311 \tSTD:  0.000290491721852\n",
      "Class:  1  VS  4  Mean Accuracy : 0.511977659574 \tSTD:  1.46252415796e-05\n",
      "Class:  1  VS  5  Mean Accuracy : 0.992424359673 \tSTD:  0.00107044859283\n",
      "Class:  2  VS  3  Mean Accuracy : 0.676894259095 \tSTD:  0.00033702743331\n",
      "Class:  2  VS  4  Mean Accuracy : 0.56874643033 \tSTD:  9.32610185745e-05\n",
      "Class:  2  VS  5  Mean Accuracy : 0.990495760056 \tSTD:  0.00133918977715\n",
      "Class:  3  VS  4  Mean Accuracy : 0.613677547142 \tSTD:  0.000281089083099\n",
      "Class:  3  VS  5  Mean Accuracy : 0.995439471134 \tSTD:  0.000648947317901\n",
      "Class:  4  VS  5  Mean Accuracy : 0.992776165637 \tSTD:  0.00102126070637\n",
      "Mean acc: 0.723616456832\n"
     ]
    }
   ],
   "source": [
    "accuracy = []\n",
    "x_ds, y_ds = X_s5, y_s5\n",
    "\n",
    "#We also perform the PCA for dimensionality reduction\n",
    "pca = PCA()\n",
    "X_ds = pca.fit_transform(preprocessing.scale(x_ds))\n",
    "matrix = np.zeros((6, 6))\n",
    "for first in np.unique(y_ds):\n",
    "    for second in np.unique(y_ds):\n",
    "        if first < second:\n",
    "            y_ = np.logical_or(y_ds == first, y_ds == second)\n",
    "            y_subset = y_ds[y_]\n",
    "            x_subset = x_ds[y_.transpose()]\n",
    "            clf = SVC(kernel='rbf')     #The kernel used is 'rbf'        \n",
    "            values = cross_val_score(clf, x_subset, y_subset, cv=10)\n",
    "            print('Class: ', first, \" VS \", second,' Mean Accuracy :', np.mean(values), '\\tSTD: ', np.std(values))\n",
    "            matrix[first][second] = np.mean(values)\n",
    "            matrix[second][first] = np.mean(values)\n",
    "            accuracy.append(np.mean(values))            \n",
    "print(\"Mean acc:\", sum(accuracy)/len(accuracy))    "
   ]
  },
  {
   "cell_type": "code",
   "execution_count": 27,
   "metadata": {
    "collapsed": false
   },
   "outputs": [
    {
     "data": {
      "text/plain": [
       "'https://plot.ly/~juanluismoralperez/13'"
      ]
     },
     "execution_count": 27,
     "metadata": {},
     "output_type": "execute_result"
    }
   ],
   "source": [
    "data = [{\n",
    "    'z': matrix,\n",
    "    'type': 'heatmap',\n",
    "    'colorscale': [\n",
    "        # Let first 10% (0.1) of the values have color rgb(0, 0, 0)\n",
    "        [0, 'rgb(255,0,0)'],\n",
    "        [1.0, 'rgb(0, 204, 0)']\n",
    "    ]}]  \n",
    "py.plot(data ,filename='matrix-visualization')"
   ]
  },
  {
   "cell_type": "markdown",
   "metadata": {},
   "source": [
    "We can see that doing binary classification between classes:"
   ]
  },
  {
   "cell_type": "code",
   "execution_count": 28,
   "metadata": {
    "collapsed": false
   },
   "outputs": [],
   "source": [
    "X_ds = pca.fit_transform(preprocessing.scale(x_ds))\n",
    "X_train, X_test, y_train, y_test = train_test_split(X_ds, y_ds, test_size=0.40, random_state=42)\n",
    "classifiers = []\n",
    "name_classifier = []\n",
    "for first in np.unique(y_ds):\n",
    "        for second in np.unique(y_ds):\n",
    "            if first < second:\n",
    "                y_ = np.logical_or(y_train == first, y_train == second)\n",
    "                y_subset = y_train[y_]\n",
    "                x_subset = X_train[y_.transpose()]\n",
    "                clf = SVC(kernel='rbf', probability = True)\n",
    "                clf.fit(x_subset, y_subset)\n",
    "                classifiers.append(clf)\n",
    "                name_classifier.append( [first,second] )\n",
    "\n",
    "results = []\n",
    "itr = 0\n",
    "for clf in classifiers:\n",
    "    predictions = clf.predict_proba(X_test)\n",
    "    classifier = name_classifier[itr]\n",
    "    results.append([ [classifier[np.argmax(prediction)], np.amax(prediction)] \n",
    "                    for prediction in predictions ]\n",
    "                  )\n",
    "    itr+=1"
   ]
  },
  {
   "cell_type": "code",
   "execution_count": 29,
   "metadata": {
    "collapsed": false
   },
   "outputs": [],
   "source": [
    "prediction = []\n",
    "for i in range(0,len(results[0])):\n",
    "    temp_clas = results[0][i][0]\n",
    "    temp_prob = results[0][i][1]\n",
    "    for j in range(1,len(results)):\n",
    "        if temp_prob < results[j][i][1]:\n",
    "            temp_clas = results[j][i][0]\n",
    "            temp_prob = results[j][i][1]\n",
    "    prediction.append(temp_clas)"
   ]
  },
  {
   "cell_type": "code",
   "execution_count": 30,
   "metadata": {
    "collapsed": false
   },
   "outputs": [],
   "source": [
    "cnf_matrix = confusion_matrix(y_test, prediction)"
   ]
  },
  {
   "cell_type": "code",
   "execution_count": 31,
   "metadata": {
    "collapsed": false,
    "scrolled": false
   },
   "outputs": [
    {
     "data": {
      "image/png": "[encoded data removed]",
      "text/plain": [
       "<matplotlib.figure.Figure at 0x10ef35048>"
      ]
     },
     "metadata": {},
     "output_type": "display_data"
    }
   ],
   "source": [
    "plot_confusion_matrix(cnf_matrix, classes=np.unique(y_ds), title='Confusion matrix')"
   ]
  },
  {
   "cell_type": "code",
   "execution_count": 32,
   "metadata": {
    "collapsed": false
   },
   "outputs": [
    {
     "name": "stdout",
     "output_type": "stream",
     "text": [
      "Accuracy:  0.318281512063\n"
     ]
    }
   ],
   "source": [
    "print(\"Accuracy: \", sum(cnf_matrix.diagonal())/sum(sum(cnf_matrix)))"
   ]
  },
  {
   "cell_type": "markdown",
   "metadata": {},
   "source": [
    "## Random Forest Classifier"
   ]
  },
  {
   "cell_type": "markdown",
   "metadata": {},
   "source": [
    "As the two past methods didn't yield good results. We will try to classify the data using a RFC. "
   ]
  },
  {
   "cell_type": "markdown",
   "metadata": {},
   "source": [
    "With standard hyper-parameters:"
   ]
  },
  {
   "cell_type": "code",
   "execution_count": 34,
   "metadata": {
    "collapsed": false
   },
   "outputs": [
    {
     "name": "stdout",
     "output_type": "stream",
     "text": [
      "Mean Accuracy : 0.378764873381 \tSTD:  0.00611935823043\n"
     ]
    }
   ],
   "source": [
    "clf = RandomForestClassifier(n_estimators=20)\n",
    "values = cross_val_score(clf, X_tr, y_tr, cv=10)\n",
    "print('Mean Accuracy :', np.mean(values), '\\tSTD: ', np.std(values))"
   ]
  },
  {
   "cell_type": "markdown",
   "metadata": {},
   "source": [
    "We will perform a Cross-Validated Grid Search (as before) for tunning the hyper-parameters:"
   ]
  },
  {
   "cell_type": "code",
   "execution_count": 46,
   "metadata": {
    "collapsed": false
   },
   "outputs": [],
   "source": [
    "estimators_range = np.arange(50, 1050, 50)\n",
    "criterion_range = [\"gini\", \"entropy\"] \n",
    "param_grid = {\"n_estimators\": estimators_range, \"criterion\": criterion_range}"
   ]
  },
  {
   "cell_type": "code",
   "execution_count": 47,
   "metadata": {
    "collapsed": false
   },
   "outputs": [],
   "source": [
    "grid = GridSearchCV(RandomForestClassifier(), param_grid)"
   ]
  },
  {
   "cell_type": "code",
   "execution_count": 48,
   "metadata": {
    "collapsed": false,
    "scrolled": false
   },
   "outputs": [
    {
     "name": "stdout",
     "output_type": "stream",
     "text": [
      "The best classifier is:  RandomForestClassifier(bootstrap=True, class_weight=None, criterion='entropy',\n",
      "            max_depth=None, max_features='auto', max_leaf_nodes=None,\n",
      "            min_impurity_split=1e-07, min_samples_leaf=1,\n",
      "            min_samples_split=2, min_weight_fraction_leaf=0.0,\n",
      "            n_estimators=600, n_jobs=1, oob_score=False, random_state=None,\n",
      "            verbose=0, warm_start=False)\n"
     ]
    }
   ],
   "source": [
    "grid.fit(X_tr, y_tr)\n",
    "print(\"The best classifier is: \", grid.best_estimator_)"
   ]
  },
  {
   "cell_type": "code",
   "execution_count": 35,
   "metadata": {
    "collapsed": false
   },
   "outputs": [
    {
     "name": "stdout",
     "output_type": "stream",
     "text": [
      "Mean Validation Accuracy : 0.403438224614 \tSTD:  0.00956452311227\n",
      "Test Accuracy:  0.335335335335\n"
     ]
    }
   ],
   "source": [
    "clf = RandomForestClassifier( criterion='entropy',n_estimators=600)\n",
    "values = cross_val_score(clf, X_tr, y_tr, cv=10)\n",
    "print('Mean Validation Accuracy :', np.mean(values), '\\tSTD: ', np.std(values))\n",
    "clf.fit(X_tr, y_tr)\n",
    "print('Test Accuracy: ', clf.score(X_ts, y_ts))"
   ]
  },
  {
   "cell_type": "code",
   "execution_count": 39,
   "metadata": {
    "collapsed": false
   },
   "outputs": [
    {
     "data": {
      "image/png": "[encoded data removed]",
      "text/plain": [
       "<matplotlib.figure.Figure at 0x1115f54e0>"
      ]
     },
     "metadata": {},
     "output_type": "display_data"
    }
   ],
   "source": [
    "y_hat = clf.predict(X_ts)\n",
    "cnf_matrix = confusion_matrix(y_ts, y_hat)\n",
    "plot_confusion_matrix(cnf_matrix, classes=np.unique(y_s5), title='Confusion matrix')"
   ]
  },
  {
   "cell_type": "code",
   "execution_count": 40,
   "metadata": {
    "collapsed": false
   },
   "outputs": [
    {
     "name": "stdout",
     "output_type": "stream",
     "text": [
      "Accuracy:  0.335335335335\n"
     ]
    }
   ],
   "source": [
    "print(\"Accuracy: \", sum(cnf_matrix.diagonal())/sum(sum(cnf_matrix)))"
   ]
  },
  {
   "cell_type": "markdown",
   "metadata": {},
   "source": [
    "## Conclusion & results"
   ]
  },
  {
   "cell_type": "markdown",
   "metadata": {},
   "source": [
    "We have seen that the best accuracy is obtanined using the SVC with a rbf kernel. We generate the prediction for the season 2016 using this classifier for further visualization."
   ]
  },
  {
   "cell_type": "code",
   "execution_count": 45,
   "metadata": {
    "collapsed": true
   },
   "outputs": [],
   "source": [
    "clf = SVC(C=1000.0, gamma=0.01, kernel='rbf', tol=.003)\n",
    "clf.fit(X_tr, y_tr)\n",
    "predictions = clf.predict(X_ts)"
   ]
  },
  {
   "cell_type": "markdown",
   "metadata": {},
   "source": [
    "We also export the predictions: "
   ]
  },
  {
   "cell_type": "code",
   "execution_count": 47,
   "metadata": {
    "collapsed": false
   },
   "outputs": [],
   "source": [
    "pickle.dump(predictions, open( \"predictions_2016.pkl\", \"wb\" ) )"
   ]
  },
  {
   "cell_type": "markdown",
   "metadata": {
    "collapsed": true
   },
   "source": [
    "# Results visualization"
   ]
  },
  {
   "cell_type": "markdown",
   "metadata": {},
   "source": [
    "We believe that the best representation for the labels is a heatmap. Keep in mind that the leagues are not labeled in order, they are mapped as follows:\n",
    "\n",
    "* 'bronze': 0 \n",
    "* 'silver': 1 \n",
    "* 'gold': 2\n",
    "* 'platinum': 3\n",
    "* 'diamond': 4\n",
    "* 'master': 5"
   ]
  },
  {
   "cell_type": "code",
   "execution_count": 43,
   "metadata": {
    "collapsed": false
   },
   "outputs": [
    {
     "name": "stdout",
     "output_type": "stream",
     "text": [
      "[1, 3, 9, 27, 37.0, 111.0, 333.0, 999.0]\n"
     ]
    }
   ],
   "source": [
    "# Factor a number (the dimensions of the reshaped matrix from the vector)\n",
    "def divisorGenerator(n):\n",
    "    large_divisors = []\n",
    "    for i in range(1, int(math.sqrt(n) + 1)):\n",
    "        if n % i == 0:\n",
    "            yield i\n",
    "            if i*i != n:\n",
    "                large_divisors.append(n / i)\n",
    "    for divisor in reversed(large_divisors):\n",
    "        yield divisor\n",
    "\n",
    "print(list(divisorGenerator(999)))"
   ]
  },
  {
   "cell_type": "markdown",
   "metadata": {},
   "source": [
    "## Real Season 2016 ELOs"
   ]
  },
  {
   "cell_type": "code",
   "execution_count": 48,
   "metadata": {
    "collapsed": false
   },
   "outputs": [
    {
     "data": {
      "text/html": [
       "<iframe id=\"igraph\" scrolling=\"no\" style=\"border:none;\" seamless=\"seamless\" src=\"https://plot.ly/~juanluismoralperez/6.embed\" height=\"525px\" width=\"100%\"></iframe>"
      ],
      "text/plain": [
       "<plotly.tools.PlotlyDisplay object>"
      ]
     },
     "execution_count": 48,
     "metadata": {},
     "output_type": "execute_result"
    }
   ],
   "source": [
    "data = [\n",
    "    go.Heatmap(\n",
    "        z = np.reshape(y_s6, (37, 27))\n",
    "    )\n",
    "]\n",
    "py.iplot(data, filename='basic-heatmap')"
   ]
  },
  {
   "cell_type": "markdown",
   "metadata": {},
   "source": [
    "## Predicted Season 2016 ELOs"
   ]
  },
  {
   "cell_type": "code",
   "execution_count": 49,
   "metadata": {
    "collapsed": false
   },
   "outputs": [
    {
     "data": {
      "text/html": [
       "<iframe id=\"igraph\" scrolling=\"no\" style=\"border:none;\" seamless=\"seamless\" src=\"https://plot.ly/~juanluismoralperez/6.embed\" height=\"525px\" width=\"100%\"></iframe>"
      ],
      "text/plain": [
       "<plotly.tools.PlotlyDisplay object>"
      ]
     },
     "execution_count": 49,
     "metadata": {},
     "output_type": "execute_result"
    }
   ],
   "source": [
    "data = [\n",
    "    go.Heatmap(\n",
    "        z = np.reshape(predictions, (37, 27))\n",
    "    )\n",
    "]\n",
    "py.iplot(data, filename='basic-heatmap')"
   ]
  },
  {
   "cell_type": "markdown",
   "metadata": {},
   "source": [
    "## Precission and recall for the predicted data\n"
   ]
  },
  {
   "cell_type": "code",
   "execution_count": 56,
   "metadata": {
    "collapsed": false,
    "scrolled": true
   },
   "outputs": [
    {
     "data": {
      "text/html": [
       "<iframe id=\"igraph\" scrolling=\"no\" style=\"border:none;\" seamless=\"seamless\" src=\"https://plot.ly/~juanluismoralperez/6.embed\" height=\"525px\" width=\"100%\"></iframe>"
      ],
      "text/plain": [
       "<plotly.tools.PlotlyDisplay object>"
      ]
     },
     "execution_count": 56,
     "metadata": {},
     "output_type": "execute_result"
    }
   ],
   "source": [
    "data = [\n",
    "    go.Heatmap(\n",
    "        z = np.reshape(np.absolute(y_s6-predictions), (37, 27))\n",
    "    )\n",
    "]\n",
    "py.iplot(data, filename='basic-heatmap')"
   ]
  },
  {
   "cell_type": "markdown",
   "metadata": {},
   "source": [
    "We can observe that althought the accuracy is not good when we make a mistake, usually it is less than 2 leagues. This means that the classifier only fails in classifying between adjacent leagues (e.g. bronze-silver)."
   ]
  },
  {
   "cell_type": "markdown",
   "metadata": {},
   "source": [
    "## Final prediction error"
   ]
  },
  {
   "cell_type": "code",
   "execution_count": 54,
   "metadata": {
    "collapsed": false
   },
   "outputs": [
    {
     "name": "stdout",
     "output_type": "stream",
     "text": [
      "League Prediction Error: 0.962962962963\n"
     ]
    }
   ],
   "source": [
    "print('League Prediction Error:', np.mean(np.absolute(y_s6-predictions)))"
   ]
  },
  {
   "cell_type": "markdown",
   "metadata": {},
   "source": [
    "We have a mean error of 0.96."
   ]
  }
 ],
 "metadata": {
  "anaconda-cloud": {},
  "kernelspec": {
   "display_name": "Python [Root]",
   "language": "python",
   "name": "Python [Root]"
  },
  "language_info": {
   "codemirror_mode": {
    "name": "ipython",
    "version": 3
   },
   "file_extension": ".py",
   "mimetype": "text/x-python",
   "name": "python",
   "nbconvert_exporter": "python",
   "pygments_lexer": "ipython3",
   "version": "3.5.2"
  }
 },
 "nbformat": 4,
 "nbformat_minor": 1
}
