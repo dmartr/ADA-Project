{
 "cells": [
  {
   "cell_type": "markdown",
   "metadata": {
    "collapsed": true
   },
   "source": [
    "# Machine learning & results visualization"
   ]
  },
  {
   "cell_type": "code",
   "execution_count": 1,
   "metadata": {
    "collapsed": true
   },
   "outputs": [],
   "source": [
    "import pandas as pd\n",
    "import numpy as np\n",
    "import pickle\n",
    "from time import time\n",
    "import math\n",
    "import matplotlib.pyplot as plt\n",
    "import itertools\n",
    "from sklearn.svm import SVC\n",
    "from sklearn import preprocessing\n",
    "from sklearn.decomposition import PCA\n",
    "from sklearn.feature_selection import RFE\n",
    "from sklearn.metrics import confusion_matrix\n",
    "from sklearn.model_selection import GridSearchCV\n",
    "from sklearn.ensemble import ExtraTreesClassifier\n",
    "from sklearn.model_selection import cross_val_score\n",
    "from sklearn.model_selection import train_test_split\n",
    "from sklearn import metrics\n",
    "from sklearn.cluster import KMeans\n",
    "from sklearn import mixture\n",
    "from scipy import linalg\n",
    "from sklearn.ensemble import RandomForestClassifier\n",
    "import plotly.plotly as py\n",
    "import plotly.graph_objs as go\n",
    "from plotly.tools import FigureFactory as FF\n",
    "import seaborn as sns\n",
    "sns.set(style=\"whitegrid\", color_codes=True)\n",
    "\n",
    "%matplotlib inline\n",
    "py.sign_in('juanluismoralperez', 'MUMjWF4QwNy8AtZW6WUq')"
   ]
  },
  {
   "cell_type": "markdown",
   "metadata": {},
   "source": [
    "The aim of the project is to predict the elos for the season 2016 training a model using the data from the season 2015."
   ]
  },
  {
   "cell_type": "markdown",
   "metadata": {},
   "source": [
    "## Import the data "
   ]
  },
  {
   "cell_type": "markdown",
   "metadata": {},
   "source": [
    "### Season 2015"
   ]
  },
  {
   "cell_type": "code",
   "execution_count": 2,
   "metadata": {
    "collapsed": false
   },
   "outputs": [
    {
     "data": {
      "text/html": [
       "<div>\n",
       "<table border=\"1\" class=\"dataframe\">\n",
       "  <thead>\n",
       "    <tr style=\"text-align: right;\">\n",
       "      <th></th>\n",
       "      <th>champID</th>\n",
       "      <th>maxNumDeaths</th>\n",
       "      <th>mostChampionKillsPerSession</th>\n",
       "      <th>champ1R</th>\n",
       "      <th>champ2R</th>\n",
       "      <th>GoldEarned</th>\n",
       "      <th>MinionKills</th>\n",
       "      <th>PhysicalDamageDealt</th>\n",
       "      <th>MagicDamageDealt</th>\n",
       "      <th>DamageTaken</th>\n",
       "      <th>DoubleKills</th>\n",
       "      <th>TripleKills</th>\n",
       "      <th>QuadraKills</th>\n",
       "      <th>PentaKills</th>\n",
       "      <th>TurretsKilled</th>\n",
       "      <th>KDA</th>\n",
       "      <th>WinRate</th>\n",
       "    </tr>\n",
       "    <tr>\n",
       "      <th>summID</th>\n",
       "      <th></th>\n",
       "      <th></th>\n",
       "      <th></th>\n",
       "      <th></th>\n",
       "      <th></th>\n",
       "      <th></th>\n",
       "      <th></th>\n",
       "      <th></th>\n",
       "      <th></th>\n",
       "      <th></th>\n",
       "      <th></th>\n",
       "      <th></th>\n",
       "      <th></th>\n",
       "      <th></th>\n",
       "      <th></th>\n",
       "      <th></th>\n",
       "      <th></th>\n",
       "    </tr>\n",
       "  </thead>\n",
       "  <tbody>\n",
       "    <tr>\n",
       "      <th>20916990</th>\n",
       "      <td>39</td>\n",
       "      <td>13</td>\n",
       "      <td>22</td>\n",
       "      <td>1</td>\n",
       "      <td>1</td>\n",
       "      <td>12782.622951</td>\n",
       "      <td>216.213115</td>\n",
       "      <td>123844.983607</td>\n",
       "      <td>4727.622951</td>\n",
       "      <td>27892.295082</td>\n",
       "      <td>0.885246</td>\n",
       "      <td>0.098361</td>\n",
       "      <td>0.016393</td>\n",
       "      <td>0.000000</td>\n",
       "      <td>1.803279</td>\n",
       "      <td>3.911504</td>\n",
       "      <td>0.737705</td>\n",
       "    </tr>\n",
       "    <tr>\n",
       "      <th>52341179</th>\n",
       "      <td>131</td>\n",
       "      <td>16</td>\n",
       "      <td>31</td>\n",
       "      <td>1</td>\n",
       "      <td>1</td>\n",
       "      <td>12680.698925</td>\n",
       "      <td>132.731183</td>\n",
       "      <td>24586.946237</td>\n",
       "      <td>111389.580645</td>\n",
       "      <td>20344.580645</td>\n",
       "      <td>1.451613</td>\n",
       "      <td>0.172043</td>\n",
       "      <td>0.021505</td>\n",
       "      <td>0.000000</td>\n",
       "      <td>1.634409</td>\n",
       "      <td>2.957770</td>\n",
       "      <td>0.559140</td>\n",
       "    </tr>\n",
       "    <tr>\n",
       "      <th>43198302</th>\n",
       "      <td>76</td>\n",
       "      <td>14</td>\n",
       "      <td>24</td>\n",
       "      <td>0</td>\n",
       "      <td>0</td>\n",
       "      <td>12138.325397</td>\n",
       "      <td>80.087302</td>\n",
       "      <td>13620.880952</td>\n",
       "      <td>129682.658730</td>\n",
       "      <td>23255.206349</td>\n",
       "      <td>1.134921</td>\n",
       "      <td>0.222222</td>\n",
       "      <td>0.023810</td>\n",
       "      <td>0.007937</td>\n",
       "      <td>0.706349</td>\n",
       "      <td>3.936015</td>\n",
       "      <td>0.619048</td>\n",
       "    </tr>\n",
       "    <tr>\n",
       "      <th>25882203</th>\n",
       "      <td>81</td>\n",
       "      <td>14</td>\n",
       "      <td>30</td>\n",
       "      <td>3</td>\n",
       "      <td>3</td>\n",
       "      <td>12665.266667</td>\n",
       "      <td>132.683333</td>\n",
       "      <td>51381.016667</td>\n",
       "      <td>81216.966667</td>\n",
       "      <td>17159.183333</td>\n",
       "      <td>1.066667</td>\n",
       "      <td>0.216667</td>\n",
       "      <td>0.033333</td>\n",
       "      <td>0.016667</td>\n",
       "      <td>1.183333</td>\n",
       "      <td>3.700315</td>\n",
       "      <td>0.550000</td>\n",
       "    </tr>\n",
       "    <tr>\n",
       "      <th>37039090</th>\n",
       "      <td>5</td>\n",
       "      <td>16</td>\n",
       "      <td>19</td>\n",
       "      <td>1</td>\n",
       "      <td>1</td>\n",
       "      <td>12494.345679</td>\n",
       "      <td>88.950617</td>\n",
       "      <td>108348.024691</td>\n",
       "      <td>45091.740741</td>\n",
       "      <td>35364.592593</td>\n",
       "      <td>0.580247</td>\n",
       "      <td>0.049383</td>\n",
       "      <td>0.000000</td>\n",
       "      <td>0.000000</td>\n",
       "      <td>1.234568</td>\n",
       "      <td>1.632624</td>\n",
       "      <td>0.518519</td>\n",
       "    </tr>\n",
       "  </tbody>\n",
       "</table>\n",
       "</div>"
      ],
      "text/plain": [
       "          champID  maxNumDeaths  mostChampionKillsPerSession  champ1R  \\\n",
       "summID                                                                  \n",
       "20916990       39            13                           22        1   \n",
       "52341179      131            16                           31        1   \n",
       "43198302       76            14                           24        0   \n",
       "25882203       81            14                           30        3   \n",
       "37039090        5            16                           19        1   \n",
       "\n",
       "          champ2R    GoldEarned  MinionKills  PhysicalDamageDealt  \\\n",
       "summID                                                              \n",
       "20916990        1  12782.622951   216.213115        123844.983607   \n",
       "52341179        1  12680.698925   132.731183         24586.946237   \n",
       "43198302        0  12138.325397    80.087302         13620.880952   \n",
       "25882203        3  12665.266667   132.683333         51381.016667   \n",
       "37039090        1  12494.345679    88.950617        108348.024691   \n",
       "\n",
       "          MagicDamageDealt   DamageTaken  DoubleKills  TripleKills  \\\n",
       "summID                                                               \n",
       "20916990       4727.622951  27892.295082     0.885246     0.098361   \n",
       "52341179     111389.580645  20344.580645     1.451613     0.172043   \n",
       "43198302     129682.658730  23255.206349     1.134921     0.222222   \n",
       "25882203      81216.966667  17159.183333     1.066667     0.216667   \n",
       "37039090      45091.740741  35364.592593     0.580247     0.049383   \n",
       "\n",
       "          QuadraKills  PentaKills  TurretsKilled       KDA   WinRate  \n",
       "summID                                                                \n",
       "20916990     0.016393    0.000000       1.803279  3.911504  0.737705  \n",
       "52341179     0.021505    0.000000       1.634409  2.957770  0.559140  \n",
       "43198302     0.023810    0.007937       0.706349  3.936015  0.619048  \n",
       "25882203     0.033333    0.016667       1.183333  3.700315  0.550000  \n",
       "37039090     0.000000    0.000000       1.234568  1.632624  0.518519  "
      ]
     },
     "execution_count": 2,
     "metadata": {},
     "output_type": "execute_result"
    }
   ],
   "source": [
    "df_s5 = pd.read_pickle('pc_processed.pkl')\n",
    "y_s5 = df_s5['league'].values\n",
    "X_s5 = df = df_s5.drop('league', 1)\n",
    "X_s5.head()"
   ]
  },
  {
   "cell_type": "markdown",
   "metadata": {},
   "source": [
    "### Season 2016"
   ]
  },
  {
   "cell_type": "code",
   "execution_count": 5,
   "metadata": {
    "collapsed": false
   },
   "outputs": [
    {
     "data": {
      "text/html": [
       "<div>\n",
       "<table border=\"1\" class=\"dataframe\">\n",
       "  <thead>\n",
       "    <tr style=\"text-align: right;\">\n",
       "      <th></th>\n",
       "      <th>champID</th>\n",
       "      <th>maxNumDeaths</th>\n",
       "      <th>mostChampionKillsPerSession</th>\n",
       "      <th>champ1R</th>\n",
       "      <th>champ2R</th>\n",
       "      <th>GoldEarned</th>\n",
       "      <th>MinionKills</th>\n",
       "      <th>PhysicalDamageDealt</th>\n",
       "      <th>MagicDamageDealt</th>\n",
       "      <th>DamageTaken</th>\n",
       "      <th>DoubleKills</th>\n",
       "      <th>TripleKills</th>\n",
       "      <th>QuadraKills</th>\n",
       "      <th>PentaKills</th>\n",
       "      <th>TurretsKilled</th>\n",
       "      <th>KDA</th>\n",
       "      <th>WinRate</th>\n",
       "    </tr>\n",
       "    <tr>\n",
       "      <th>summID</th>\n",
       "      <th></th>\n",
       "      <th></th>\n",
       "      <th></th>\n",
       "      <th></th>\n",
       "      <th></th>\n",
       "      <th></th>\n",
       "      <th></th>\n",
       "      <th></th>\n",
       "      <th></th>\n",
       "      <th></th>\n",
       "      <th></th>\n",
       "      <th></th>\n",
       "      <th></th>\n",
       "      <th></th>\n",
       "      <th></th>\n",
       "      <th></th>\n",
       "      <th></th>\n",
       "    </tr>\n",
       "  </thead>\n",
       "  <tbody>\n",
       "    <tr>\n",
       "      <th>42787225</th>\n",
       "      <td>420</td>\n",
       "      <td>18</td>\n",
       "      <td>21</td>\n",
       "      <td>1</td>\n",
       "      <td>1</td>\n",
       "      <td>13607.882353</td>\n",
       "      <td>183.670588</td>\n",
       "      <td>185046.247059</td>\n",
       "      <td>1904.023529</td>\n",
       "      <td>35815.329412</td>\n",
       "      <td>1.647059</td>\n",
       "      <td>0.294118</td>\n",
       "      <td>0.058824</td>\n",
       "      <td>0.011765</td>\n",
       "      <td>2.635294</td>\n",
       "      <td>1.809595</td>\n",
       "      <td>0.611765</td>\n",
       "    </tr>\n",
       "    <tr>\n",
       "      <th>24231667</th>\n",
       "      <td>77</td>\n",
       "      <td>9</td>\n",
       "      <td>13</td>\n",
       "      <td>1</td>\n",
       "      <td>1</td>\n",
       "      <td>11733.472222</td>\n",
       "      <td>39.027778</td>\n",
       "      <td>44593.000000</td>\n",
       "      <td>70256.722222</td>\n",
       "      <td>29093.500000</td>\n",
       "      <td>0.333333</td>\n",
       "      <td>0.055556</td>\n",
       "      <td>0.000000</td>\n",
       "      <td>0.000000</td>\n",
       "      <td>0.527778</td>\n",
       "      <td>3.934211</td>\n",
       "      <td>0.611111</td>\n",
       "    </tr>\n",
       "    <tr>\n",
       "      <th>71930471</th>\n",
       "      <td>40</td>\n",
       "      <td>9</td>\n",
       "      <td>5</td>\n",
       "      <td>4</td>\n",
       "      <td>4</td>\n",
       "      <td>8519.022388</td>\n",
       "      <td>14.276119</td>\n",
       "      <td>6402.940299</td>\n",
       "      <td>7153.149254</td>\n",
       "      <td>12428.462687</td>\n",
       "      <td>0.022388</td>\n",
       "      <td>0.007463</td>\n",
       "      <td>0.000000</td>\n",
       "      <td>0.000000</td>\n",
       "      <td>0.320896</td>\n",
       "      <td>4.448276</td>\n",
       "      <td>0.537313</td>\n",
       "    </tr>\n",
       "    <tr>\n",
       "      <th>36857294</th>\n",
       "      <td>32</td>\n",
       "      <td>11</td>\n",
       "      <td>13</td>\n",
       "      <td>5</td>\n",
       "      <td>5</td>\n",
       "      <td>11377.364486</td>\n",
       "      <td>35.579439</td>\n",
       "      <td>18164.411215</td>\n",
       "      <td>89390.551402</td>\n",
       "      <td>27342.037383</td>\n",
       "      <td>0.317757</td>\n",
       "      <td>0.037383</td>\n",
       "      <td>0.000000</td>\n",
       "      <td>0.000000</td>\n",
       "      <td>0.355140</td>\n",
       "      <td>4.296552</td>\n",
       "      <td>0.607477</td>\n",
       "    </tr>\n",
       "    <tr>\n",
       "      <th>28292063</th>\n",
       "      <td>17</td>\n",
       "      <td>15</td>\n",
       "      <td>24</td>\n",
       "      <td>3</td>\n",
       "      <td>3</td>\n",
       "      <td>12921.182292</td>\n",
       "      <td>194.916667</td>\n",
       "      <td>30328.666667</td>\n",
       "      <td>107152.026042</td>\n",
       "      <td>21839.088542</td>\n",
       "      <td>0.604167</td>\n",
       "      <td>0.067708</td>\n",
       "      <td>0.010417</td>\n",
       "      <td>0.000000</td>\n",
       "      <td>1.494792</td>\n",
       "      <td>1.956193</td>\n",
       "      <td>0.520833</td>\n",
       "    </tr>\n",
       "  </tbody>\n",
       "</table>\n",
       "</div>"
      ],
      "text/plain": [
       "          champID  maxNumDeaths  mostChampionKillsPerSession  champ1R  \\\n",
       "summID                                                                  \n",
       "42787225      420            18                           21        1   \n",
       "24231667       77             9                           13        1   \n",
       "71930471       40             9                            5        4   \n",
       "36857294       32            11                           13        5   \n",
       "28292063       17            15                           24        3   \n",
       "\n",
       "          champ2R    GoldEarned  MinionKills  PhysicalDamageDealt  \\\n",
       "summID                                                              \n",
       "42787225        1  13607.882353   183.670588        185046.247059   \n",
       "24231667        1  11733.472222    39.027778         44593.000000   \n",
       "71930471        4   8519.022388    14.276119          6402.940299   \n",
       "36857294        5  11377.364486    35.579439         18164.411215   \n",
       "28292063        3  12921.182292   194.916667         30328.666667   \n",
       "\n",
       "          MagicDamageDealt   DamageTaken  DoubleKills  TripleKills  \\\n",
       "summID                                                               \n",
       "42787225       1904.023529  35815.329412     1.647059     0.294118   \n",
       "24231667      70256.722222  29093.500000     0.333333     0.055556   \n",
       "71930471       7153.149254  12428.462687     0.022388     0.007463   \n",
       "36857294      89390.551402  27342.037383     0.317757     0.037383   \n",
       "28292063     107152.026042  21839.088542     0.604167     0.067708   \n",
       "\n",
       "          QuadraKills  PentaKills  TurretsKilled       KDA   WinRate  \n",
       "summID                                                                \n",
       "42787225     0.058824    0.011765       2.635294  1.809595  0.611765  \n",
       "24231667     0.000000    0.000000       0.527778  3.934211  0.611111  \n",
       "71930471     0.000000    0.000000       0.320896  4.448276  0.537313  \n",
       "36857294     0.000000    0.000000       0.355140  4.296552  0.607477  \n",
       "28292063     0.010417    0.000000       1.494792  1.956193  0.520833  "
      ]
     },
     "execution_count": 5,
     "metadata": {},
     "output_type": "execute_result"
    }
   ],
   "source": [
    "df_s6 = pd.read_pickle('pc_processed_2016.pkl')\n",
    "y_s6 = df_s6['league'].values\n",
    "X_s6 = df = df_s6.drop('league', 1)\n",
    "X_s6.head()"
   ]
  },
  {
   "cell_type": "markdown",
   "metadata": {},
   "source": [
    "## Data split and feature engineering"
   ]
  },
  {
   "cell_type": "markdown",
   "metadata": {},
   "source": [
    "We decided that the champion role is not relevant for the classification and also the specific champion the player has stadistic for is not relevant. Hence, 'champID', 'champ1R' and 'champ2R' are not considered as features."
   ]
  },
  {
   "cell_type": "code",
   "execution_count": 63,
   "metadata": {
    "collapsed": false
   },
   "outputs": [],
   "source": [
    "X_s5 = X_s5[['maxNumDeaths', 'mostChampionKillsPerSession', 'GoldEarned', 'MinionKills',\n",
    "      'PhysicalDamageDealt', 'MagicDamageDealt', 'DamageTaken', 'DoubleKills', 'TripleKills',\n",
    "       'QuadraKills', 'PentaKills', 'TurretsKilled', 'KDA', 'WinRate']]\n",
    "X_s6 = X_s6[['maxNumDeaths', 'mostChampionKillsPerSession', 'GoldEarned', 'MinionKills',\n",
    "      'PhysicalDamageDealt', 'MagicDamageDealt', 'DamageTaken', 'DoubleKills', 'TripleKills',\n",
    "       'QuadraKills', 'PentaKills', 'TurretsKilled', 'KDA', 'WinRate']]"
   ]
  },
  {
   "cell_type": "markdown",
   "metadata": {},
   "source": [
    "We scale and normalize the features:"
   ]
  },
  {
   "cell_type": "code",
   "execution_count": 64,
   "metadata": {
    "collapsed": false
   },
   "outputs": [],
   "source": [
    "X_n = preprocessing.normalize(preprocessing.scale(X_s5))"
   ]
  },
  {
   "cell_type": "markdown",
   "metadata": {},
   "source": [
    "## Feature selection"
   ]
  },
  {
   "cell_type": "markdown",
   "metadata": {},
   "source": [
    "### Univariate Feature Selection"
   ]
  },
  {
   "cell_type": "markdown",
   "metadata": {},
   "source": [
    "For a simple univariate feature selection we will use a SVC with a linear kernel and compare the performance:"
   ]
  },
  {
   "cell_type": "code",
   "execution_count": 65,
   "metadata": {
    "collapsed": false,
    "scrolled": true
   },
   "outputs": [
    {
     "data": {
      "image/png": "[encoded data removed]",
      "text/plain": [
       "<matplotlib.figure.Figure at 0x1120c10f0>"
      ]
     },
     "metadata": {},
     "output_type": "display_data"
    }
   ],
   "source": [
    "clf = SVC(kernel='linear')\n",
    "clf.fit(X_n, y_s5)\n",
    "svm_weights = (clf.coef_ ** 2).sum(axis=0)\n",
    "svm_weights /= svm_weights.max()\n",
    "X_indices = np.arange(X_s5.shape[-1])\n",
    "\n",
    "plt.bar(X_indices + 1, svm_weights, width=.2, label='SVM weight', color='navy')\n",
    "plt.xlabel('N features')\n",
    "plt.ylabel('Importance')\n",
    "plt.yticks(())\n",
    "plt.axis('tight')\n",
    "plt.legend(loc='upper right')\n",
    "plt.show()"
   ]
  },
  {
   "cell_type": "markdown",
   "metadata": {},
   "source": [
    "We can see that the Ranking for the most important features is:\n",
    "\n",
    "1. maxNumDeaths\n",
    "2. PhysicalDamageDealt\n",
    "3. MinionKills\n",
    "4. GoldEarned\n",
    "5. MagicDamageDealt\n",
    "6. DoubleKills"
   ]
  },
  {
   "cell_type": "markdown",
   "metadata": {},
   "source": [
    "### Recursive Feature Elimination (RFE)\n",
    "\n",
    "Now, we observe from the most important feature to all features and evaluate the best group of features to select the set of freatures. "
   ]
  },
  {
   "cell_type": "code",
   "execution_count": 67,
   "metadata": {
    "collapsed": false,
    "scrolled": false
   },
   "outputs": [
    {
     "name": "stdout",
     "output_type": "stream",
     "text": [
      "1 features Selection by RFE are:\n",
      " Index(['maxNumDeaths'], dtype='object')\n",
      "Train Accuracy:  0.308848080134 \tValidation Error:  0.3075\n",
      "2 features Selection by RFE are:\n",
      " Index(['maxNumDeaths', 'MinionKills'], dtype='object')\n",
      "Train Accuracy:  0.312186978297 \tValidation Error:  0.305\n",
      "3 features Selection by RFE are:\n",
      " Index(['maxNumDeaths', 'MinionKills', 'DoubleKills'], dtype='object')\n",
      "Train Accuracy:  0.320534223706 \tValidation Error:  0.31\n",
      "4 features Selection by RFE are:\n",
      " Index(['maxNumDeaths', 'GoldEarned', 'MinionKills', 'DoubleKills'], dtype='object')\n",
      "Train Accuracy:  0.318864774624 \tValidation Error:  0.31\n",
      "5 features Selection by RFE are:\n",
      " Index(['maxNumDeaths', 'GoldEarned', 'MinionKills', 'PhysicalDamageDealt',\n",
      "       'DoubleKills'],\n",
      "      dtype='object')\n",
      "Train Accuracy:  0.317195325543 \tValidation Error:  0.3075\n",
      "6 features Selection by RFE are:\n",
      " Index(['maxNumDeaths', 'GoldEarned', 'MinionKills', 'PhysicalDamageDealt',\n",
      "       'MagicDamageDealt', 'DoubleKills'],\n",
      "      dtype='object')\n",
      "Train Accuracy:  0.325542570952 \tValidation Error:  0.315\n",
      "7 features Selection by RFE are:\n",
      " Index(['maxNumDeaths', 'GoldEarned', 'MinionKills', 'PhysicalDamageDealt',\n",
      "       'MagicDamageDealt', 'DoubleKills', 'TurretsKilled'],\n",
      "      dtype='object')\n",
      "Train Accuracy:  0.322203672788 \tValidation Error:  0.3125\n",
      "8 features Selection by RFE are:\n",
      " Index(['maxNumDeaths', 'GoldEarned', 'MinionKills', 'PhysicalDamageDealt',\n",
      "       'MagicDamageDealt', 'DoubleKills', 'QuadraKills', 'TurretsKilled'],\n",
      "      dtype='object')\n",
      "Train Accuracy:  0.328881469115 \tValidation Error:  0.33\n",
      "9 features Selection by RFE are:\n",
      " Index(['maxNumDeaths', 'GoldEarned', 'MinionKills', 'PhysicalDamageDealt',\n",
      "       'MagicDamageDealt', 'DoubleKills', 'TripleKills', 'QuadraKills',\n",
      "       'TurretsKilled'],\n",
      "      dtype='object')\n",
      "Train Accuracy:  0.332220367279 \tValidation Error:  0.3275\n",
      "10 features Selection by RFE are:\n",
      " Index(['maxNumDeaths', 'GoldEarned', 'MinionKills', 'PhysicalDamageDealt',\n",
      "       'MagicDamageDealt', 'DamageTaken', 'DoubleKills', 'TripleKills',\n",
      "       'QuadraKills', 'TurretsKilled'],\n",
      "      dtype='object')\n",
      "Train Accuracy:  0.328881469115 \tValidation Error:  0.33\n",
      "11 features Selection by RFE are:\n",
      " Index(['maxNumDeaths', 'GoldEarned', 'MinionKills', 'PhysicalDamageDealt',\n",
      "       'MagicDamageDealt', 'DamageTaken', 'DoubleKills', 'TripleKills',\n",
      "       'QuadraKills', 'PentaKills', 'TurretsKilled'],\n",
      "      dtype='object')\n",
      "Train Accuracy:  0.325542570952 \tValidation Error:  0.3325\n",
      "12 features Selection by RFE are:\n",
      " Index(['maxNumDeaths', 'mostChampionKillsPerSession', 'GoldEarned',\n",
      "       'MinionKills', 'PhysicalDamageDealt', 'MagicDamageDealt', 'DamageTaken',\n",
      "       'DoubleKills', 'TripleKills', 'QuadraKills', 'PentaKills',\n",
      "       'TurretsKilled'],\n",
      "      dtype='object')\n",
      "Train Accuracy:  0.330550918197 \tValidation Error:  0.33\n",
      "13 features Selection by RFE are:\n",
      " Index(['maxNumDeaths', 'mostChampionKillsPerSession', 'GoldEarned',\n",
      "       'MinionKills', 'PhysicalDamageDealt', 'MagicDamageDealt', 'DamageTaken',\n",
      "       'DoubleKills', 'TripleKills', 'QuadraKills', 'PentaKills',\n",
      "       'TurretsKilled', 'KDA'],\n",
      "      dtype='object')\n",
      "Train Accuracy:  0.347245409015 \tValidation Error:  0.3225\n",
      "14 features Selection by RFE are:\n",
      " Index(['maxNumDeaths', 'mostChampionKillsPerSession', 'GoldEarned',\n",
      "       'MinionKills', 'PhysicalDamageDealt', 'MagicDamageDealt', 'DamageTaken',\n",
      "       'DoubleKills', 'TripleKills', 'QuadraKills', 'PentaKills',\n",
      "       'TurretsKilled', 'KDA', 'WinRate'],\n",
      "      dtype='object')\n",
      "Train Accuracy:  0.362270450751 \tValidation Error:  0.32\n"
     ]
    }
   ],
   "source": [
    "X_tr_, X_val, y_tr_, y_val = train_test_split(X_n, y_s5, test_size=0.4, random_state=0)\n",
    "X_tr_ = pd.DataFrame(data=X_tr_, columns=X_s5.columns) \n",
    "X_val = pd.DataFrame(data=X_val, columns=X_s5.columns) \n",
    "\n",
    "train_acc, validation_acc = [], []\n",
    "\n",
    "for i in range(1,X_n.shape[1]+1,1):\n",
    "    estimator = SVC(kernel=\"linear\")\n",
    "    selector = RFE(estimator, i, step=1)\n",
    "    selector = selector.fit(X_n, y_s5)\n",
    "    feature_selection = selector.support_ \n",
    "    print(i,\"features Selection by RFE are:\\n\", X_s5.columns[feature_selection])\n",
    "    clsf = SVC(kernel=\"linear\")\n",
    "    clsf.fit(X_tr_[X_tr_.columns[feature_selection]], y_tr_)\n",
    "    train_acc.append(clsf.score(X_tr_[X_tr_.columns[feature_selection]], y_tr_))\n",
    "    validation_acc.append(clsf.score(X_val[X_val.columns[feature_selection]], y_val))\n",
    "    print(\"Train Accuracy: \",train_acc[i-1] , \"\\tValidation Error: \", validation_acc[i-1])"
   ]
  },
  {
   "cell_type": "code",
   "execution_count": 71,
   "metadata": {
    "collapsed": false
   },
   "outputs": [
    {
     "data": {
      "image/png": "[encoded data removed]",
      "text/plain": [
       "<matplotlib.figure.Figure at 0x112932630>"
      ]
     },
     "metadata": {},
     "output_type": "display_data"
    }
   ],
   "source": [
    "plt.plot([0]+train_acc, 'g', label= 'Train')\n",
    "plt.plot([0]+validation_acc, 'r', label = 'Validation')\n",
    "plt.legend(bbox_to_anchor=(0., 1.02, 1., .102), loc=3,\n",
    "           ncol=2, mode=\"expand\", borderaxespad=0.)\n",
    "plt.xlim(1, 14)\n",
    "plt.ylim(0.2, 0.45)\n",
    "plt.xlabel('N features')\n",
    "plt.ylabel('Accuracy')\n",
    "plt.show()"
   ]
  },
  {
   "cell_type": "markdown",
   "metadata": {
    "collapsed": true
   },
   "source": [
    "### Feature ranking using trees\n",
    "\n",
    "\n",
    "We rank the importance of the features and evaluate if the normalization and/or scale affects to this ranking."
   ]
  },
  {
   "cell_type": "markdown",
   "metadata": {},
   "source": [
    "#### Using raw data"
   ]
  },
  {
   "cell_type": "code",
   "execution_count": 72,
   "metadata": {
    "collapsed": false
   },
   "outputs": [],
   "source": [
    "def feature_importance(data, labels):\n",
    "    forest = ExtraTreesClassifier(n_estimators=250, random_state=0)\n",
    "    forest.fit(data, labels)\n",
    "    importances = forest.feature_importances_\n",
    "    std = np.std([tree.feature_importances_ for tree in forest.estimators_], axis=0)\n",
    "    indices = np.argsort(importances)[::-1]\n",
    "\n",
    "    # Print the feature ranking\n",
    "    print(\"Feature ranking:\")\n",
    "    for f in range(X_s5.shape[1]):\n",
    "        print(\"%d. feature %d (%f)\" % (f + 1, indices[f], importances[indices[f]]))\n",
    "\n",
    "    # Plot the feature importances of the forest\n",
    "    plt.figure()\n",
    "    plt.title(\"Feature importances\")\n",
    "    plt.bar(range(data.shape[1]), importances[indices],\n",
    "           color=\"r\", yerr=std[indices], align=\"center\")\n",
    "    plt.xticks(range(data.shape[1]), indices)\n",
    "    plt.xlim([-1, data.shape[1]])\n",
    "    plt.show()"
   ]
  },
  {
   "cell_type": "code",
   "execution_count": 73,
   "metadata": {
    "collapsed": false
   },
   "outputs": [
    {
     "name": "stdout",
     "output_type": "stream",
     "text": [
      "Feature ranking:\n",
      "1. feature 3 (0.090046)\n",
      "2. feature 0 (0.081286)\n",
      "3. feature 6 (0.078958)\n",
      "4. feature 2 (0.078431)\n",
      "5. feature 1 (0.078064)\n",
      "6. feature 12 (0.077932)\n",
      "7. feature 5 (0.077468)\n",
      "8. feature 13 (0.076535)\n",
      "9. feature 4 (0.075999)\n",
      "10. feature 7 (0.073790)\n",
      "11. feature 11 (0.073437)\n",
      "12. feature 8 (0.066072)\n",
      "13. feature 9 (0.047329)\n",
      "14. feature 10 (0.024654)\n"
     ]
    },
    {
     "data": {
      "image/png": "[encoded data removed]",
      "text/plain": [
       "<matplotlib.figure.Figure at 0x112d3f048>"
      ]
     },
     "metadata": {},
     "output_type": "display_data"
    }
   ],
   "source": [
    "feature_importance(X_s5, y_s5)"
   ]
  },
  {
   "cell_type": "markdown",
   "metadata": {},
   "source": [
    "#### Scaling the data"
   ]
  },
  {
   "cell_type": "code",
   "execution_count": 74,
   "metadata": {
    "collapsed": false
   },
   "outputs": [
    {
     "name": "stdout",
     "output_type": "stream",
     "text": [
      "Feature ranking:\n",
      "1. feature 3 (0.090046)\n",
      "2. feature 0 (0.081286)\n",
      "3. feature 6 (0.078958)\n",
      "4. feature 2 (0.078431)\n",
      "5. feature 1 (0.078064)\n",
      "6. feature 12 (0.077932)\n",
      "7. feature 5 (0.077468)\n",
      "8. feature 13 (0.076535)\n",
      "9. feature 4 (0.075999)\n",
      "10. feature 7 (0.073790)\n",
      "11. feature 11 (0.073437)\n",
      "12. feature 8 (0.066072)\n",
      "13. feature 9 (0.047329)\n",
      "14. feature 10 (0.024654)\n"
     ]
    },
    {
     "data": {
      "image/png": "[encoded data removed]",
      "text/plain": [
       "<matplotlib.figure.Figure at 0x112c68f28>"
      ]
     },
     "metadata": {},
     "output_type": "display_data"
    }
   ],
   "source": [
    "X_s =preprocessing.scale(X_s5)\n",
    "feature_importance(X_s5, y_s5)"
   ]
  },
  {
   "cell_type": "markdown",
   "metadata": {},
   "source": [
    "#### Normalizing and scaling the data"
   ]
  },
  {
   "cell_type": "code",
   "execution_count": 75,
   "metadata": {
    "collapsed": false
   },
   "outputs": [
    {
     "name": "stdout",
     "output_type": "stream",
     "text": [
      "Feature ranking:\n",
      "1. feature 0 (0.084024)\n",
      "2. feature 3 (0.083484)\n",
      "3. feature 1 (0.072318)\n",
      "4. feature 5 (0.071791)\n",
      "5. feature 12 (0.071603)\n",
      "6. feature 6 (0.070979)\n",
      "7. feature 13 (0.070141)\n",
      "8. feature 7 (0.069962)\n",
      "9. feature 4 (0.069944)\n",
      "10. feature 2 (0.069444)\n",
      "11. feature 8 (0.068032)\n",
      "12. feature 10 (0.066406)\n",
      "13. feature 11 (0.066329)\n",
      "14. feature 9 (0.065541)\n"
     ]
    },
    {
     "data": {
      "image/png": "[encoded data removed]",
      "text/plain": [
       "<matplotlib.figure.Figure at 0x11270b5f8>"
      ]
     },
     "metadata": {},
     "output_type": "display_data"
    }
   ],
   "source": [
    "feature_importance(X_n, y_s5)"
   ]
  },
  {
   "cell_type": "markdown",
   "metadata": {},
   "source": [
    "We can observe that scaling the data does not affect the feature importance but, on the other hand, the normalization do affect the feature ranking. "
   ]
  },
  {
   "cell_type": "markdown",
   "metadata": {},
   "source": [
    "# Unsupervised Clustering"
   ]
  },
  {
   "cell_type": "markdown",
   "metadata": {
    "collapsed": true
   },
   "source": [
    "Although we won't use an unsupervised clustering for predicting the data. We could calculate a siluette score to measure how well the data could be clusterized in 6 clusters."
   ]
  },
  {
   "cell_type": "markdown",
   "metadata": {},
   "source": [
    "## K-means"
   ]
  },
  {
   "cell_type": "markdown",
   "metadata": {},
   "source": [
    "Source: http://scikit-learn.org/stable/auto_examples/cluster/plot_kmeans_digits.html"
   ]
  },
  {
   "cell_type": "code",
   "execution_count": null,
   "metadata": {
    "collapsed": false
   },
   "outputs": [],
   "source": [
    "def bench_k_means(estimator, name, data):\n",
    "    t0 = time()\n",
    "    estimator.fit(data)\n",
    "    print('% 9s   %.2fs    %i   %.3f   %.3f   %.3f   %.3f   %.3f    %.3f'\n",
    "          % (name, (time() - t0), estimator.inertia_,\n",
    "             metrics.homogeneity_score(labels, estimator.labels_),\n",
    "             metrics.completeness_score(labels, estimator.labels_),\n",
    "             metrics.v_measure_score(labels, estimator.labels_),\n",
    "             metrics.adjusted_rand_score(labels, estimator.labels_),\n",
    "             metrics.adjusted_mutual_info_score(labels,  estimator.labels_),\n",
    "             metrics.silhouette_score(data, estimator.labels_,\n",
    "                                      metric='euclidean',\n",
    "                                      sample_size=sample_size)))"
   ]
  },
  {
   "cell_type": "code",
   "execution_count": null,
   "metadata": {
    "collapsed": false
   },
   "outputs": [],
   "source": [
    "labels = y_total\n",
    "n_samples, n_features = X_total.shape\n",
    "sample_size = n_samples\n",
    "bench_k_means(KMeans(init='k-means++', n_clusters=5, n_init=10), name=\"k-means++\", data=X_s5)"
   ]
  },
  {
   "cell_type": "code",
   "execution_count": null,
   "metadata": {
    "collapsed": false
   },
   "outputs": [],
   "source": [
    "k_means = KMeans(init='k-means++', n_clusters=5, n_init=10)\n",
    "k_means.fit(X_s5_tr)"
   ]
  },
  {
   "cell_type": "markdown",
   "metadata": {},
   "source": [
    "## GMM"
   ]
  },
  {
   "cell_type": "markdown",
   "metadata": {},
   "source": [
    "Source: http://scikit-learn.org/stable/auto_examples/mixture/plot_gmm.html"
   ]
  },
  {
   "cell_type": "code",
   "execution_count": null,
   "metadata": {
    "collapsed": false
   },
   "outputs": [],
   "source": [
    "X = X_total[['GoldEarned', 'MinionKills', 'KDA']]"
   ]
  },
  {
   "cell_type": "code",
   "execution_count": null,
   "metadata": {
    "collapsed": true
   },
   "outputs": [],
   "source": [
    "color_iter = itertools.cycle(['navy', 'c', 'cornflowerblue', 'gold','darkorange'])\n",
    "def plot_results(X, Y_, means, covariances, index, title):\n",
    "    splot = plt.subplot(2, 1, 1 + index)\n",
    "    for i, (mean, covar, color) in enumerate(zip(means, covariances, color_iter)):\n",
    "        v, w = linalg.eigh(covar)\n",
    "        v = 2. * np.sqrt(2.) * np.sqrt(v)\n",
    "        u = w[0] / linalg.norm(w[0])\n",
    "        # as the DP will not use every component it has access to\n",
    "        # unless it needs it, we shouldn't plot the redundant\n",
    "        # components.\n",
    "        if not np.any(Y_ == i):\n",
    "            continue\n",
    "        plt.scatter(X[Y_ == i, 0], X[Y_ == i, 1], .8)\n",
    "\n",
    "        # Plot an ellipse to show the Gaussian component\n",
    "        angle = np.arctan(u[1] / u[0])\n",
    "        angle = 180. * angle / np.pi  # convert to degrees\n",
    "        ell = mpl.patches.Ellipse(mean, v[0], v[1], 180. + angle, color=color)\n",
    "        ell.set_clip_box(splot.bbox)\n",
    "        ell.set_alpha(0.5)\n",
    "        splot.add_artist(ell)\n",
    "    plt.xlim(-9., 5.)\n",
    "    plt.ylim(-3., 6.)\n",
    "    plt.xticks(())\n",
    "    plt.yticks(())\n",
    "    plt.title(title)"
   ]
  },
  {
   "cell_type": "markdown",
   "metadata": {},
   "source": [
    "# Supervised classification (predicting the elo)"
   ]
  },
  {
   "cell_type": "markdown",
   "metadata": {},
   "source": [
    "We perform a multi-label classification using different classifiers. We have seen that the best result is obtanined using this features:"
   ]
  },
  {
   "cell_type": "code",
   "execution_count": 8,
   "metadata": {
    "collapsed": true
   },
   "outputs": [],
   "source": [
    "X_s5 = X_s5[['maxNumDeaths', 'mostChampionKillsPerSession', 'GoldEarned',\n",
    "       'MinionKills', 'PhysicalDamageDealt', 'MagicDamageDealt', 'DoubleKills',\n",
    "       'QuadraKills', 'TurretsKilled', 'WinRate']]\n",
    "X_s6 = X_s6[['maxNumDeaths', 'mostChampionKillsPerSession', 'GoldEarned',\n",
    "       'MinionKills', 'PhysicalDamageDealt', 'MagicDamageDealt', 'DoubleKills',\n",
    "       'QuadraKills', 'TurretsKilled', 'WinRate']]"
   ]
  },
  {
   "cell_type": "markdown",
   "metadata": {},
   "source": [
    "## SVC"
   ]
  },
  {
   "cell_type": "markdown",
   "metadata": {},
   "source": [
    "First, we will try to classify the data using a Support Vector Machine. \n",
    "We will use the model provided by sklearn: http://scikit-learn.org/stable/modules/generated/sklearn.svm.SVC.html"
   ]
  },
  {
   "cell_type": "markdown",
   "metadata": {},
   "source": [
    "We use PCA to scale the dimensionality of the data:"
   ]
  },
  {
   "cell_type": "code",
   "execution_count": 9,
   "metadata": {
    "collapsed": false
   },
   "outputs": [],
   "source": [
    "pca = PCA()\n",
    "pca.fit(preprocessing.scale(X_s5))\n",
    "X_tr = pca.transform(preprocessing.scale(X_s5))\n",
    "y_tr = y_s5\n",
    "X_ts = pca.transform(preprocessing.scale(X_s6))\n",
    "y_ts = y_s6"
   ]
  },
  {
   "cell_type": "markdown",
   "metadata": {},
   "source": [
    "We will try two kernelized models: Linear and RBF."
   ]
  },
  {
   "cell_type": "code",
   "execution_count": 14,
   "metadata": {
    "collapsed": false
   },
   "outputs": [
    {
     "name": "stdout",
     "output_type": "stream",
     "text": [
      "Mean Accuracy : 0.394099622285 \tSTD:  0.00895650269304\n"
     ]
    }
   ],
   "source": [
    "clf = SVC(kernel='linear')\n",
    "values = cross_val_score(clf, X_tr, y_tr, cv=10)\n",
    "print('Mean Accuracy :', np.mean(values), '\\tSTD: ', np.std(values))"
   ]
  },
  {
   "cell_type": "code",
   "execution_count": 15,
   "metadata": {
    "collapsed": false
   },
   "outputs": [
    {
     "name": "stdout",
     "output_type": "stream",
     "text": [
      "Mean Accuracy : 0.414378332894 \tSTD:  0.0073031966508\n"
     ]
    }
   ],
   "source": [
    "clf = SVC(kernel='rbf')\n",
    "values = cross_val_score(clf, X_tr, y_tr, cv=10)\n",
    "print('Mean Accuracy :', np.mean(values), '\\tSTD: ', np.std(values))"
   ]
  },
  {
   "cell_type": "markdown",
   "metadata": {},
   "source": [
    "We perform a Grid Search and a 3-Fold Cross-Validation to optimize the hyper-parameters of the SVM. For more information on this method read http://scikit-learn.org/stable/modules/generated/sklearn.model_selection.GridSearchCV.html."
   ]
  },
  {
   "cell_type": "code",
   "execution_count": 20,
   "metadata": {
    "collapsed": false
   },
   "outputs": [
    {
     "name": "stdout",
     "output_type": "stream",
     "text": [
      "The best classifier is:  SVC(C=1000.0, cache_size=200, class_weight=None, coef0=0.0,\n",
      "  decision_function_shape=None, degree=3, gamma=0.01, kernel='rbf',\n",
      "  max_iter=-1, probability=False, random_state=None, shrinking=True,\n",
      "  tol=0.001, verbose=False)\n"
     ]
    }
   ],
   "source": [
    "C_range = 10.0 ** np.arange(-4, 4)\n",
    "gamma_range = 10.0 ** np.arange(-4, 4)\n",
    "param_grid = {\"gamma\": gamma_range.tolist(), \"C\": C_range.tolist()}\n",
    "grid = GridSearchCV(SVC(kernel='rbf'), param_grid, n_jobs = -1)\n",
    "grid.fit(X_tr, y_tr)\n",
    "print(\"The best classifier is: \", grid.best_estimator_)"
   ]
  },
  {
   "cell_type": "markdown",
   "metadata": {},
   "source": [
    "Now, we classify with the obtained hyper-parameters:"
   ]
  },
  {
   "cell_type": "code",
   "execution_count": 16,
   "metadata": {
    "collapsed": false
   },
   "outputs": [
    {
     "name": "stdout",
     "output_type": "stream",
     "text": [
      "Mean Validation Accuracy : 0.424079146787 \tSTD:  0.00795529313744\n",
      "Test Accurary: 0.365365365365\n"
     ]
    }
   ],
   "source": [
    "clf = SVC(C=1000.0, gamma=0.01, kernel='rbf', tol=.003)\n",
    "values = cross_val_score(clf, X_tr, y_tr, cv=10)\n",
    "print('Mean Validation Accuracy :', np.mean(values), '\\tSTD: ', np.std(values))\n",
    "clf.fit(X_tr, y_tr)\n",
    "print('Test Accurary:', clf.score(X_ts, y_ts))"
   ]
  },
  {
   "cell_type": "markdown",
   "metadata": {},
   "source": [
    "As you would probably have guessed, this accuracy is not true as you dont commit the same error when wrongly classyfing between adjacent classes (we should consider higher error prediction platinum instead of silver than gold instead of silver). \n",
    "\n",
    "Because of this we plot a \"confusion matrix\" to visualize this error:"
   ]
  },
  {
   "cell_type": "code",
   "execution_count": 17,
   "metadata": {
    "collapsed": true
   },
   "outputs": [],
   "source": [
    "def plot_confusion_matrix(cm, classes, title='Confusion matrix', cmap=plt.cm.Blues):\n",
    "    plt.imshow(cm, interpolation='nearest', cmap=cmap)\n",
    "    plt.title(title)\n",
    "    plt.colorbar()\n",
    "    tick_marks = np.arange(len(classes))\n",
    "    plt.xticks(tick_marks, classes, rotation=45)\n",
    "    plt.yticks(tick_marks, classes)\n",
    "\n",
    "\n",
    "    thresh = cm.max() / 2.\n",
    "    for i, j in itertools.product(range(cm.shape[0]), range(cm.shape[1])):\n",
    "        plt.text(j, i, cm[i, j],\n",
    "                 horizontalalignment=\"center\",\n",
    "                 color=\"white\" if cm[i, j] > thresh else \"black\")\n",
    "\n",
    "    plt.tight_layout()\n",
    "    plt.ylabel('True label')\n",
    "    plt.xlabel('Predicted label')"
   ]
  },
  {
   "cell_type": "code",
   "execution_count": 18,
   "metadata": {
    "collapsed": false
   },
   "outputs": [
    {
     "data": {
      "image/png": "[encoded data removed]",
      "text/plain": [
       "<matplotlib.figure.Figure at 0x11000df98>"
      ]
     },
     "metadata": {},
     "output_type": "display_data"
    }
   ],
   "source": [
    "prediction = clf.predict(X_ts)\n",
    "cnf_matrix = confusion_matrix(y_ts, prediction)\n",
    "plot_confusion_matrix(cnf_matrix, classes=np.unique(y_s5))"
   ]
  },
  {
   "cell_type": "code",
   "execution_count": 19,
   "metadata": {
    "collapsed": false
   },
   "outputs": [
    {
     "name": "stdout",
     "output_type": "stream",
     "text": [
      "Accuracy:  0.365365365365\n"
     ]
    }
   ],
   "source": [
    "print(\"Accuracy: \", sum(cnf_matrix.diagonal())/sum(sum(cnf_matrix)))"
   ]
  },
  {
   "cell_type": "markdown",
   "metadata": {},
   "source": [
    "The accuracy is ok. As we are trying to predict between 5 labels and data is unbalanced. We can observate that the class 4 (platinum) has the highest weight. This could be happening because the data is unbalanced and also the stadistics are not that different between the middle elos (silver-gold-platinum)."
   ]
  },
  {
   "cell_type": "markdown",
   "metadata": {},
   "source": [
    "### Multi-Binary SVM Classifier"
   ]
  },
  {
   "cell_type": "markdown",
   "metadata": {},
   "source": [
    "As we had seen in the confusion matrix, platinum elo is by far the most frequent prediction. We believe that whis could happen because the data is not balanced (as we have more data from platinum elo players than the rest of elos).\n",
    "\n",
    "Because of this reason we implement a multi-binary SVM (divide & conquer algorithm). Now, the data is classified by comparing each class against each other in a binary classification. This would not asure better results but it is another aproach that could fit well with the structure of the data."
   ]
  },
  {
   "cell_type": "markdown",
   "metadata": {},
   "source": [
    "First we will calculate the accuracy using a binary classifier for each pair of elos: "
   ]
  },
  {
   "cell_type": "code",
   "execution_count": 26,
   "metadata": {
    "collapsed": false
   },
   "outputs": [
    {
     "name": "stdout",
     "output_type": "stream",
     "text": [
      "Class:  0  VS  1  Mean Accuracy : 0.566507193548 \tSTD:  0.000258913531678\n",
      "Class:  0  VS  2  Mean Accuracy : 0.509697780603 \tSTD:  0.000264337915221\n",
      "Class:  0  VS  3  Mean Accuracy : 0.685320364917 \tSTD:  0.000362418784677\n",
      "Class:  0  VS  4  Mean Accuracy : 0.578235559593 \tSTD:  0.000259534809811\n",
      "Class:  0  VS  5  Mean Accuracy : 0.990123390772 \tSTD:  0.00139228037819\n",
      "Class:  1  VS  2  Mean Accuracy : 0.556956368096 \tSTD:  7.93816508851e-05\n",
      "Class:  1  VS  3  Mean Accuracy : 0.624974542311 \tSTD:  0.000290491721852\n",
      "Class:  1  VS  4  Mean Accuracy : 0.511977659574 \tSTD:  1.46252415796e-05\n",
      "Class:  1  VS  5  Mean Accuracy : 0.992424359673 \tSTD:  0.00107044859283\n",
      "Class:  2  VS  3  Mean Accuracy : 0.676894259095 \tSTD:  0.00033702743331\n",
      "Class:  2  VS  4  Mean Accuracy : 0.56874643033 \tSTD:  9.32610185745e-05\n",
      "Class:  2  VS  5  Mean Accuracy : 0.990495760056 \tSTD:  0.00133918977715\n",
      "Class:  3  VS  4  Mean Accuracy : 0.613677547142 \tSTD:  0.000281089083099\n",
      "Class:  3  VS  5  Mean Accuracy : 0.995439471134 \tSTD:  0.000648947317901\n",
      "Class:  4  VS  5  Mean Accuracy : 0.992776165637 \tSTD:  0.00102126070637\n",
      "Mean acc: 0.723616456832\n"
     ]
    }
   ],
   "source": [
    "accuracy = []\n",
    "x_ds, y_ds = X_s5, y_s5\n",
    "\n",
    "#We also perform the PCA for dimensionality reduction\n",
    "pca = PCA()\n",
    "X_ds = pca.fit_transform(preprocessing.scale(x_ds))\n",
    "matrix = np.zeros((6, 6))\n",
    "for first in np.unique(y_ds):\n",
    "    for second in np.unique(y_ds):\n",
    "        if first < second:\n",
    "            y_ = np.logical_or(y_ds == first, y_ds == second)\n",
    "            y_subset = y_ds[y_]\n",
    "            x_subset = x_ds[y_.transpose()]\n",
    "            clf = SVC(kernel='rbf')     #The kernel used is 'rbf'        \n",
    "            values = cross_val_score(clf, x_subset, y_subset, cv=10)\n",
    "            print('Class: ', first, \" VS \", second,' Mean Accuracy :', np.mean(values), '\\tSTD: ', np.std(values))\n",
    "            matrix[first][second] = np.mean(values)\n",
    "            matrix[second][first] = np.mean(values)\n",
    "            accuracy.append(np.mean(values))            \n",
    "print(\"Mean acc:\", sum(accuracy)/len(accuracy))    "
   ]
  },
  {
   "cell_type": "code",
   "execution_count": 27,
   "metadata": {
    "collapsed": false
   },
   "outputs": [
    {
     "data": {
      "text/plain": [
       "'https://plot.ly/~juanluismoralperez/13'"
      ]
     },
     "execution_count": 27,
     "metadata": {},
     "output_type": "execute_result"
    }
   ],
   "source": [
    "data = [{\n",
    "    'z': matrix,\n",
    "    'type': 'heatmap',\n",
    "    'colorscale': [\n",
    "        # Let first 10% (0.1) of the values have color rgb(0, 0, 0)\n",
    "        [0, 'rgb(255,0,0)'],\n",
    "        [1.0, 'rgb(0, 204, 0)']\n",
    "    ]}]  \n",
    "py.plot(data ,filename='matrix-visualization')"
   ]
  },
  {
   "cell_type": "markdown",
   "metadata": {},
   "source": [
    "We can see that doing binary classification between classes:"
   ]
  },
  {
   "cell_type": "code",
   "execution_count": 28,
   "metadata": {
    "collapsed": false
   },
   "outputs": [],
   "source": [
    "X_ds = pca.fit_transform(preprocessing.scale(x_ds))\n",
    "X_train, X_test, y_train, y_test = train_test_split(X_ds, y_ds, test_size=0.40, random_state=42)\n",
    "classifiers = []\n",
    "name_classifier = []\n",
    "for first in np.unique(y_ds):\n",
    "        for second in np.unique(y_ds):\n",
    "            if first < second:\n",
    "                y_ = np.logical_or(y_train == first, y_train == second)\n",
    "                y_subset = y_train[y_]\n",
    "                x_subset = X_train[y_.transpose()]\n",
    "                clf = SVC(kernel='rbf', probability = True)\n",
    "                clf.fit(x_subset, y_subset)\n",
    "                classifiers.append(clf)\n",
    "                name_classifier.append( [first,second] )\n",
    "\n",
    "results = []\n",
    "itr = 0\n",
    "for clf in classifiers:\n",
    "    predictions = clf.predict_proba(X_test)\n",
    "    classifier = name_classifier[itr]\n",
    "    results.append([ [classifier[np.argmax(prediction)], np.amax(prediction)] \n",
    "                    for prediction in predictions ]\n",
    "                  )\n",
    "    itr+=1"
   ]
  },
  {
   "cell_type": "code",
   "execution_count": 29,
   "metadata": {
    "collapsed": false
   },
   "outputs": [],
   "source": [
    "prediction = []\n",
    "for i in range(0,len(results[0])):\n",
    "    temp_clas = results[0][i][0]\n",
    "    temp_prob = results[0][i][1]\n",
    "    for j in range(1,len(results)):\n",
    "        if temp_prob < results[j][i][1]:\n",
    "            temp_clas = results[j][i][0]\n",
    "            temp_prob = results[j][i][1]\n",
    "    prediction.append(temp_clas)"
   ]
  },
  {
   "cell_type": "code",
   "execution_count": 30,
   "metadata": {
    "collapsed": false
   },
   "outputs": [],
   "source": [
    "cnf_matrix = confusion_matrix(y_test, prediction)"
   ]
  },
  {
   "cell_type": "code",
   "execution_count": 31,
   "metadata": {
    "collapsed": false,
    "scrolled": false
   },
   "outputs": [
    {
     "data": {
      "image/png": "[encoded data removed]",
      "text/plain": [
       "<matplotlib.figure.Figure at 0x10ef35048>"
      ]
     },
     "metadata": {},
     "output_type": "display_data"
    }
   ],
   "source": [
    "plot_confusion_matrix(cnf_matrix, classes=np.unique(y_ds), title='Confusion matrix')"
   ]
  },
  {
   "cell_type": "code",
   "execution_count": 32,
   "metadata": {
    "collapsed": false
   },
   "outputs": [
    {
     "name": "stdout",
     "output_type": "stream",
     "text": [
      "Accuracy:  0.318281512063\n"
     ]
    }
   ],
   "source": [
    "print(\"Accuracy: \", sum(cnf_matrix.diagonal())/sum(sum(cnf_matrix)))"
   ]
  },
  {
   "cell_type": "markdown",
   "metadata": {},
   "source": [
    "## Random Forest Classifier"
   ]
  },
  {
   "cell_type": "markdown",
   "metadata": {},
   "source": [
    "As the two past methods didn't yield good results. We will try to classify the data using a RFC. "
   ]
  },
  {
   "cell_type": "markdown",
   "metadata": {},
   "source": [
    "With standard hyper-parameters:"
   ]
  },
  {
   "cell_type": "code",
   "execution_count": 34,
   "metadata": {
    "collapsed": false
   },
   "outputs": [
    {
     "name": "stdout",
     "output_type": "stream",
     "text": [
      "Mean Accuracy : 0.378764873381 \tSTD:  0.00611935823043\n"
     ]
    }
   ],
   "source": [
    "clf = RandomForestClassifier(n_estimators=20)\n",
    "values = cross_val_score(clf, X_tr, y_tr, cv=10)\n",
    "print('Mean Accuracy :', np.mean(values), '\\tSTD: ', np.std(values))"
   ]
  },
  {
   "cell_type": "markdown",
   "metadata": {},
   "source": [
    "We will perform a Cross-Validated Grid Search (as before) for tunning the hyper-parameters:"
   ]
  },
  {
   "cell_type": "code",
   "execution_count": 46,
   "metadata": {
    "collapsed": false
   },
   "outputs": [],
   "source": [
    "estimators_range = np.arange(50, 1050, 50)\n",
    "criterion_range = [\"gini\", \"entropy\"] \n",
    "param_grid = {\"n_estimators\": estimators_range, \"criterion\": criterion_range}"
   ]
  },
  {
   "cell_type": "code",
   "execution_count": 47,
   "metadata": {
    "collapsed": false
   },
   "outputs": [],
   "source": [
    "grid = GridSearchCV(RandomForestClassifier(), param_grid)"
   ]
  },
  {
   "cell_type": "code",
   "execution_count": 48,
   "metadata": {
    "collapsed": false,
    "scrolled": false
   },
   "outputs": [
    {
     "name": "stdout",
     "output_type": "stream",
     "text": [
      "The best classifier is:  RandomForestClassifier(bootstrap=True, class_weight=None, criterion='entropy',\n",
      "            max_depth=None, max_features='auto', max_leaf_nodes=None,\n",
      "            min_impurity_split=1e-07, min_samples_leaf=1,\n",
      "            min_samples_split=2, min_weight_fraction_leaf=0.0,\n",
      "            n_estimators=600, n_jobs=1, oob_score=False, random_state=None,\n",
      "            verbose=0, warm_start=False)\n"
     ]
    }
   ],
   "source": [
    "grid.fit(X_tr, y_tr)\n",
    "print(\"The best classifier is: \", grid.best_estimator_)"
   ]
  },
  {
   "cell_type": "code",
   "execution_count": 35,
   "metadata": {
    "collapsed": false
   },
   "outputs": [
    {
     "name": "stdout",
     "output_type": "stream",
     "text": [
      "Mean Validation Accuracy : 0.403438224614 \tSTD:  0.00956452311227\n",
      "Test Accuracy:  0.335335335335\n"
     ]
    }
   ],
   "source": [
    "clf = RandomForestClassifier( criterion='entropy',n_estimators=600)\n",
    "values = cross_val_score(clf, X_tr, y_tr, cv=10)\n",
    "print('Mean Validation Accuracy :', np.mean(values), '\\tSTD: ', np.std(values))\n",
    "clf.fit(X_tr, y_tr)\n",
    "print('Test Accuracy: ', clf.score(X_ts, y_ts))"
   ]
  },
  {
   "cell_type": "code",
   "execution_count": 39,
   "metadata": {
    "collapsed": false
   },
   "outputs": [
    {
     "data": {
      "image/png": "[encoded data removed]",
      "text/plain": [
       "<matplotlib.figure.Figure at 0x1115f54e0>"
      ]
     },
     "metadata": {},
     "output_type": "display_data"
    }
   ],
   "source": [
    "y_hat = clf.predict(X_ts)\n",
    "cnf_matrix = confusion_matrix(y_ts, y_hat)\n",
    "plot_confusion_matrix(cnf_matrix, classes=np.unique(y_s5), title='Confusion matrix')"
   ]
  },
  {
   "cell_type": "code",
   "execution_count": 40,
   "metadata": {
    "collapsed": false
   },
   "outputs": [
    {
     "name": "stdout",
     "output_type": "stream",
     "text": [
      "Accuracy:  0.335335335335\n"
     ]
    }
   ],
   "source": [
    "print(\"Accuracy: \", sum(cnf_matrix.diagonal())/sum(sum(cnf_matrix)))"
   ]
  },
  {
   "cell_type": "markdown",
   "metadata": {},
   "source": [
    "## Conclusion & results"
   ]
  },
  {
   "cell_type": "markdown",
   "metadata": {},
   "source": [
    "We have seen that the best accuracy is obtanined using the SVC with a rbf kernel. We generate the prediction for the season 2016 using this classifier for further visualization."
   ]
  },
  {
   "cell_type": "code",
   "execution_count": 12,
   "metadata": {
    "collapsed": true
   },
   "outputs": [],
   "source": [
    "clf = SVC(C=1000.0, gamma=0.01, kernel='rbf', tol=.003)\n",
    "clf.fit(X_tr, y_tr)\n",
    "predictions = clf.predict(X_ts)"
   ]
  },
  {
   "cell_type": "markdown",
   "metadata": {},
   "source": [
    "We also export the predictions: "
   ]
  },
  {
   "cell_type": "code",
   "execution_count": null,
   "metadata": {
    "collapsed": true
   },
   "outputs": [],
   "source": [
    "pickle.dump(predictions, open( \"predictions_2016.pkl\", \"wb\" ) )"
   ]
  },
  {
   "cell_type": "markdown",
   "metadata": {
    "collapsed": true
   },
   "source": [
    "# Results visualization"
   ]
  },
  {
   "cell_type": "markdown",
   "metadata": {},
   "source": [
    "We believe that the best representation for the labels is a heatmap. Keep in mind that the leagues are not labeled in order, they are mapped as follows:\n",
    "\n",
    "* 'bronze': 0 \n",
    "* 'silver': 1 \n",
    "* 'gold': 2\n",
    "* 'platinum': 3\n",
    "* 'diamond': 4\n",
    "* 'master': 5"
   ]
  },
  {
   "cell_type": "code",
   "execution_count": 43,
   "metadata": {
    "collapsed": false
   },
   "outputs": [
    {
     "name": "stdout",
     "output_type": "stream",
     "text": [
      "[1, 3, 9, 27, 37.0, 111.0, 333.0, 999.0]\n"
     ]
    }
   ],
   "source": [
    "# Factor a number (the dimensions of the reshaped matrix from the vector)\n",
    "def divisorGenerator(n):\n",
    "    large_divisors = []\n",
    "    for i in range(1, int(math.sqrt(n) + 1)):\n",
    "        if n % i == 0:\n",
    "            yield i\n",
    "            if i*i != n:\n",
    "                large_divisors.append(n / i)\n",
    "    for divisor in reversed(large_divisors):\n",
    "        yield divisor\n",
    "\n",
    "print(list(divisorGenerator(999)))"
   ]
  },
  {
   "cell_type": "markdown",
   "metadata": {},
   "source": [
    "## Real Season 2016 ELOs"
   ]
  },
  {
   "cell_type": "code",
   "execution_count": 20,
   "metadata": {
    "collapsed": false
   },
   "outputs": [
    {
     "data": {
      "image/png": "[encoded data removed]",
      "text/plain": [
       "<IPython.core.display.Image object>"
      ]
     },
     "execution_count": 20,
     "metadata": {},
     "output_type": "execute_result"
    }
   ],
   "source": [
    "data = [\n",
    "    go.Heatmap(\n",
    "        z = np.reshape(y_s6, (37, 27))\n",
    "    )\n",
    "]\n",
    "py.iplot(data, filename='heatmap_true_labels')\n",
    "\n",
    "layout = go.Layout(title='Labels Heatmap', width=800, height=640)\n",
    "fig = go.Figure(data=data, layout=layout)\n",
    "py.image.save_as(data, filename='heatmap_true_labels.png')\n",
    "from IPython.display import Image\n",
    "Image('heatmap_true_labels.png')\n"
   ]
  },
  {
   "cell_type": "markdown",
   "metadata": {},
   "source": [
    "## Predicted Season 2016 ELOs"
   ]
  },
  {
   "cell_type": "code",
   "execution_count": 21,
   "metadata": {
    "collapsed": false
   },
   "outputs": [
    {
     "data": {
      "image/png": "[encoded data removed]",
      "text/plain": [
       "<IPython.core.display.Image object>"
      ]
     },
     "execution_count": 21,
     "metadata": {},
     "output_type": "execute_result"
    }
   ],
   "source": [
    "data = [\n",
    "    go.Heatmap(\n",
    "        z = np.reshape(predictions, (37, 27))\n",
    "    )\n",
    "]\n",
    "py.iplot(data, filename='heatmap_predicted')\n",
    "\n",
    "layout = go.Layout(title='Labels Heatmap', width=800, height=640)\n",
    "fig = go.Figure(data=data, layout=layout)\n",
    "py.image.save_as(data, filename='heatmap_predicted.png')\n",
    "from IPython.display import Image\n",
    "Image('heatmap_predicted.png')"
   ]
  },
  {
   "cell_type": "markdown",
   "metadata": {},
   "source": [
    "## Precission and recall for the predicted data\n"
   ]
  },
  {
   "cell_type": "code",
   "execution_count": 28,
   "metadata": {
    "collapsed": false
   },
   "outputs": [],
   "source": [
    "import colorlover as cl\n",
    "from IPython.display import HTML"
   ]
  },
  {
   "cell_type": "code",
   "execution_count": 34,
   "metadata": {
    "collapsed": false
   },
   "outputs": [
    {
     "data": {
      "text/plain": [
       "['rgb(247,252,185)', 'rgb(173,221,142)', 'rgb(49,163,84)']"
      ]
     },
     "execution_count": 34,
     "metadata": {},
     "output_type": "execute_result"
    }
   ],
   "source": [
    "ryb = cl.scales['3']['seq']['YlGn']\n",
    "ryb"
   ]
  },
  {
   "cell_type": "code",
   "execution_count": 35,
   "metadata": {
    "collapsed": false,
    "scrolled": false
   },
   "outputs": [
    {
     "data": {
      "image/png": "[encoded data removed]",
      "text/plain": [
       "<IPython.core.display.Image object>"
      ]
     },
     "execution_count": 35,
     "metadata": {},
     "output_type": "execute_result"
    }
   ],
   "source": [
    "colorscale = [[0, ryb[0]], [5, ryb[2]]]\n",
    "\n",
    "data = [\n",
    "    go.Heatmap(\n",
    "        z = np.reshape(np.absolute(y_s6-predictions), (37, 27)),\n",
    "        colorscale = colorscale\n",
    "    )\n",
    "]\n",
    "py.iplot(data, filename='heatmap_precission_recall')\n",
    "\n",
    "\n",
    "layout = go.Layout(title='Labels Heatmap', width=800, height=640)\n",
    "fig = go.Figure(data=data, layout=layout)\n",
    "py.image.save_as(data, filename='heatmap_precission_recall.png')\n",
    "from IPython.display import Image\n",
    "Image('heatmap_precission_recall.png')"
   ]
  },
  {
   "cell_type": "markdown",
   "metadata": {},
   "source": [
    "We can observe that althought the accuracy is not good when we make a mistake, usually it is less than 2 leagues. This means that the classifier only fails in classifying between adjacent leagues (e.g. bronze-silver)."
   ]
  },
  {
   "cell_type": "markdown",
   "metadata": {},
   "source": [
    "## Final prediction error"
   ]
  },
  {
   "cell_type": "code",
   "execution_count": 54,
   "metadata": {
    "collapsed": false
   },
   "outputs": [
    {
     "name": "stdout",
     "output_type": "stream",
     "text": [
      "League Prediction Error: 0.962962962963\n"
     ]
    }
   ],
   "source": [
    "print('League Prediction Error:', np.mean(np.absolute(y_s6-predictions)))"
   ]
  },
  {
   "cell_type": "markdown",
   "metadata": {},
   "source": [
    "We have a mean error of 0.96."
   ]
  }
 ],
 "metadata": {
  "anaconda-cloud": {},
  "kernelspec": {
   "display_name": "Python [conda root]",
   "language": "python",
   "name": "conda-root-py"
  },
  "language_info": {
   "codemirror_mode": {
    "name": "ipython",
    "version": 3
   },
   "file_extension": ".py",
   "mimetype": "text/x-python",
   "name": "python",
   "nbconvert_exporter": "python",
   "pygments_lexer": "ipython3",
   "version": "3.5.2"
  }
 },
 "nbformat": 4,
 "nbformat_minor": 1
}
