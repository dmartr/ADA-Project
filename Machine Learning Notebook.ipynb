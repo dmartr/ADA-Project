{
 "cells": [
  {
   "cell_type": "markdown",
   "metadata": {
    "collapsed": true
   },
   "source": [
    "# Machine learning"
   ]
  },
  {
   "cell_type": "code",
   "execution_count": 1,
   "metadata": {
    "collapsed": true
   },
   "outputs": [],
   "source": [
    "import pandas as pd\n",
    "import numpy as np\n",
    "import pickle\n",
    "from time import time\n",
    "import matplotlib.pyplot as plt\n",
    "\n",
    "%matplotlib inline\n",
    "\n",
    "\n",
    "from sklearn.svm import SVC\n",
    "from sklearn import preprocessing\n",
    "from sklearn.decomposition import PCA\n",
    "from sklearn.feature_selection import RFE\n",
    "from sklearn.metrics import confusion_matrix\n",
    "from sklearn.model_selection import GridSearchCV\n",
    "from sklearn.ensemble import ExtraTreesClassifier\n",
    "from sklearn.model_selection import cross_val_score\n",
    "from sklearn.model_selection import train_test_split"
   ]
  },
  {
   "cell_type": "markdown",
   "metadata": {},
   "source": [
    "## Import the data "
   ]
  },
  {
   "cell_type": "code",
   "execution_count": 2,
   "metadata": {
    "collapsed": false
   },
   "outputs": [],
   "source": [
    "df_pc = pd.read_pickle('pc_processed.pkl')\n",
    "df_total = pd.read_pickle('total_processed.pkl')"
   ]
  },
  {
   "cell_type": "code",
   "execution_count": 3,
   "metadata": {
    "collapsed": false
   },
   "outputs": [
    {
     "data": {
      "text/html": [
       "<div>\n",
       "<table border=\"1\" class=\"dataframe\">\n",
       "  <thead>\n",
       "    <tr style=\"text-align: right;\">\n",
       "      <th></th>\n",
       "      <th>champID</th>\n",
       "      <th>maxNumDeaths</th>\n",
       "      <th>mostChampionKillsPerSession</th>\n",
       "      <th>league</th>\n",
       "      <th>champ1R</th>\n",
       "      <th>champ2R</th>\n",
       "      <th>GoldEarned</th>\n",
       "      <th>MinionKills</th>\n",
       "      <th>PhysicalDamageDealt</th>\n",
       "      <th>MagicDamageDealt</th>\n",
       "      <th>DamageTaken</th>\n",
       "      <th>DoubleKills</th>\n",
       "      <th>TripleKills</th>\n",
       "      <th>QuadraKills</th>\n",
       "      <th>PentaKills</th>\n",
       "      <th>TurretsKilled</th>\n",
       "      <th>KDA</th>\n",
       "      <th>WinRate</th>\n",
       "    </tr>\n",
       "    <tr>\n",
       "      <th>summID</th>\n",
       "      <th></th>\n",
       "      <th></th>\n",
       "      <th></th>\n",
       "      <th></th>\n",
       "      <th></th>\n",
       "      <th></th>\n",
       "      <th></th>\n",
       "      <th></th>\n",
       "      <th></th>\n",
       "      <th></th>\n",
       "      <th></th>\n",
       "      <th></th>\n",
       "      <th></th>\n",
       "      <th></th>\n",
       "      <th></th>\n",
       "      <th></th>\n",
       "      <th></th>\n",
       "      <th></th>\n",
       "    </tr>\n",
       "  </thead>\n",
       "  <tbody>\n",
       "    <tr>\n",
       "      <th>43878231</th>\n",
       "      <td>222</td>\n",
       "      <td>15</td>\n",
       "      <td>29</td>\n",
       "      <td>4</td>\n",
       "      <td>3</td>\n",
       "      <td>3</td>\n",
       "      <td>13289.050314</td>\n",
       "      <td>183.358491</td>\n",
       "      <td>168059.830189</td>\n",
       "      <td>10656.628931</td>\n",
       "      <td>21485.754717</td>\n",
       "      <td>1.207547</td>\n",
       "      <td>0.257862</td>\n",
       "      <td>0.069182</td>\n",
       "      <td>0.006289</td>\n",
       "      <td>1.905660</td>\n",
       "      <td>2.517906</td>\n",
       "      <td>0.503145</td>\n",
       "    </tr>\n",
       "    <tr>\n",
       "      <th>58082410</th>\n",
       "      <td>98</td>\n",
       "      <td>13</td>\n",
       "      <td>13</td>\n",
       "      <td>0</td>\n",
       "      <td>5</td>\n",
       "      <td>5</td>\n",
       "      <td>10635.666667</td>\n",
       "      <td>83.491228</td>\n",
       "      <td>29416.666667</td>\n",
       "      <td>51620.842105</td>\n",
       "      <td>30960.789474</td>\n",
       "      <td>0.228070</td>\n",
       "      <td>0.035088</td>\n",
       "      <td>0.000000</td>\n",
       "      <td>0.000000</td>\n",
       "      <td>0.473684</td>\n",
       "      <td>3.299383</td>\n",
       "      <td>0.508772</td>\n",
       "    </tr>\n",
       "    <tr>\n",
       "      <th>20417927</th>\n",
       "      <td>245</td>\n",
       "      <td>12</td>\n",
       "      <td>18</td>\n",
       "      <td>1</td>\n",
       "      <td>0</td>\n",
       "      <td>0</td>\n",
       "      <td>11677.828125</td>\n",
       "      <td>141.046875</td>\n",
       "      <td>21758.843750</td>\n",
       "      <td>108591.515625</td>\n",
       "      <td>23959.375000</td>\n",
       "      <td>0.781250</td>\n",
       "      <td>0.203125</td>\n",
       "      <td>0.015625</td>\n",
       "      <td>0.000000</td>\n",
       "      <td>0.765625</td>\n",
       "      <td>3.530405</td>\n",
       "      <td>0.515625</td>\n",
       "    </tr>\n",
       "    <tr>\n",
       "      <th>52542846</th>\n",
       "      <td>107</td>\n",
       "      <td>13</td>\n",
       "      <td>27</td>\n",
       "      <td>1</td>\n",
       "      <td>0</td>\n",
       "      <td>0</td>\n",
       "      <td>13386.260870</td>\n",
       "      <td>107.608696</td>\n",
       "      <td>148456.556522</td>\n",
       "      <td>17242.860870</td>\n",
       "      <td>26378.391304</td>\n",
       "      <td>1.460870</td>\n",
       "      <td>0.286957</td>\n",
       "      <td>0.034783</td>\n",
       "      <td>0.008696</td>\n",
       "      <td>0.982609</td>\n",
       "      <td>2.815493</td>\n",
       "      <td>0.660870</td>\n",
       "    </tr>\n",
       "    <tr>\n",
       "      <th>30131741</th>\n",
       "      <td>12</td>\n",
       "      <td>10</td>\n",
       "      <td>6</td>\n",
       "      <td>4</td>\n",
       "      <td>5</td>\n",
       "      <td>5</td>\n",
       "      <td>8388.423077</td>\n",
       "      <td>43.442308</td>\n",
       "      <td>8550.884615</td>\n",
       "      <td>14487.326923</td>\n",
       "      <td>23275.153846</td>\n",
       "      <td>0.000000</td>\n",
       "      <td>0.000000</td>\n",
       "      <td>0.000000</td>\n",
       "      <td>0.000000</td>\n",
       "      <td>0.326923</td>\n",
       "      <td>4.181818</td>\n",
       "      <td>0.596154</td>\n",
       "    </tr>\n",
       "  </tbody>\n",
       "</table>\n",
       "</div>"
      ],
      "text/plain": [
       "          champID  maxNumDeaths  mostChampionKillsPerSession  league  champ1R  \\\n",
       "summID                                                                          \n",
       "43878231      222            15                           29       4        3   \n",
       "58082410       98            13                           13       0        5   \n",
       "20417927      245            12                           18       1        0   \n",
       "52542846      107            13                           27       1        0   \n",
       "30131741       12            10                            6       4        5   \n",
       "\n",
       "          champ2R    GoldEarned  MinionKills  PhysicalDamageDealt  \\\n",
       "summID                                                              \n",
       "43878231        3  13289.050314   183.358491        168059.830189   \n",
       "58082410        5  10635.666667    83.491228         29416.666667   \n",
       "20417927        0  11677.828125   141.046875         21758.843750   \n",
       "52542846        0  13386.260870   107.608696        148456.556522   \n",
       "30131741        5   8388.423077    43.442308          8550.884615   \n",
       "\n",
       "          MagicDamageDealt   DamageTaken  DoubleKills  TripleKills  \\\n",
       "summID                                                               \n",
       "43878231      10656.628931  21485.754717     1.207547     0.257862   \n",
       "58082410      51620.842105  30960.789474     0.228070     0.035088   \n",
       "20417927     108591.515625  23959.375000     0.781250     0.203125   \n",
       "52542846      17242.860870  26378.391304     1.460870     0.286957   \n",
       "30131741      14487.326923  23275.153846     0.000000     0.000000   \n",
       "\n",
       "          QuadraKills  PentaKills  TurretsKilled       KDA   WinRate  \n",
       "summID                                                                \n",
       "43878231     0.069182    0.006289       1.905660  2.517906  0.503145  \n",
       "58082410     0.000000    0.000000       0.473684  3.299383  0.508772  \n",
       "20417927     0.015625    0.000000       0.765625  3.530405  0.515625  \n",
       "52542846     0.034783    0.008696       0.982609  2.815493  0.660870  \n",
       "30131741     0.000000    0.000000       0.326923  4.181818  0.596154  "
      ]
     },
     "execution_count": 3,
     "metadata": {},
     "output_type": "execute_result"
    }
   ],
   "source": [
    "df_pc.head()"
   ]
  },
  {
   "cell_type": "code",
   "execution_count": 4,
   "metadata": {
    "collapsed": false
   },
   "outputs": [
    {
     "data": {
      "text/html": [
       "<div>\n",
       "<table border=\"1\" class=\"dataframe\">\n",
       "  <thead>\n",
       "    <tr style=\"text-align: right;\">\n",
       "      <th></th>\n",
       "      <th>league</th>\n",
       "      <th>GoldEarned</th>\n",
       "      <th>MinionKills</th>\n",
       "      <th>PhysicalDamageDealt</th>\n",
       "      <th>MagicDamageDealt</th>\n",
       "      <th>DamageTaken</th>\n",
       "      <th>DoubleKills</th>\n",
       "      <th>TripleKills</th>\n",
       "      <th>QuadraKills</th>\n",
       "      <th>PentaKills</th>\n",
       "      <th>TurretsKilled</th>\n",
       "      <th>Heal</th>\n",
       "      <th>NeutralMinionsKilled</th>\n",
       "      <th>totalKDA</th>\n",
       "      <th>WinRate</th>\n",
       "    </tr>\n",
       "    <tr>\n",
       "      <th>summID</th>\n",
       "      <th></th>\n",
       "      <th></th>\n",
       "      <th></th>\n",
       "      <th></th>\n",
       "      <th></th>\n",
       "      <th></th>\n",
       "      <th></th>\n",
       "      <th></th>\n",
       "      <th></th>\n",
       "      <th></th>\n",
       "      <th></th>\n",
       "      <th></th>\n",
       "      <th></th>\n",
       "      <th></th>\n",
       "      <th></th>\n",
       "    </tr>\n",
       "  </thead>\n",
       "  <tbody>\n",
       "    <tr>\n",
       "      <th>43878231</th>\n",
       "      <td>4</td>\n",
       "      <td>11542.636731</td>\n",
       "      <td>114.821197</td>\n",
       "      <td>82212.913430</td>\n",
       "      <td>32395.096278</td>\n",
       "      <td>25731.042071</td>\n",
       "      <td>0.664239</td>\n",
       "      <td>0.103560</td>\n",
       "      <td>0.018608</td>\n",
       "      <td>0.002427</td>\n",
       "      <td>0.985437</td>\n",
       "      <td>3320.345469</td>\n",
       "      <td>22.512136</td>\n",
       "      <td>2.586861</td>\n",
       "      <td>0.503145</td>\n",
       "    </tr>\n",
       "    <tr>\n",
       "      <th>58082410</th>\n",
       "      <td>0</td>\n",
       "      <td>11413.241546</td>\n",
       "      <td>79.270531</td>\n",
       "      <td>60077.579710</td>\n",
       "      <td>42597.009662</td>\n",
       "      <td>30861.487923</td>\n",
       "      <td>0.338164</td>\n",
       "      <td>0.024155</td>\n",
       "      <td>0.000000</td>\n",
       "      <td>0.000000</td>\n",
       "      <td>0.579710</td>\n",
       "      <td>4841.830918</td>\n",
       "      <td>24.724638</td>\n",
       "      <td>2.491701</td>\n",
       "      <td>0.508772</td>\n",
       "    </tr>\n",
       "    <tr>\n",
       "      <th>20417927</th>\n",
       "      <td>1</td>\n",
       "      <td>11986.011168</td>\n",
       "      <td>153.420305</td>\n",
       "      <td>79579.971574</td>\n",
       "      <td>57813.944162</td>\n",
       "      <td>23811.927919</td>\n",
       "      <td>0.684264</td>\n",
       "      <td>0.096447</td>\n",
       "      <td>0.019289</td>\n",
       "      <td>0.001015</td>\n",
       "      <td>1.110660</td>\n",
       "      <td>3755.418274</td>\n",
       "      <td>19.312690</td>\n",
       "      <td>2.872486</td>\n",
       "      <td>0.515625</td>\n",
       "    </tr>\n",
       "    <tr>\n",
       "      <th>52542846</th>\n",
       "      <td>1</td>\n",
       "      <td>13221.147705</td>\n",
       "      <td>135.826347</td>\n",
       "      <td>127510.532934</td>\n",
       "      <td>29848.522954</td>\n",
       "      <td>28104.948104</td>\n",
       "      <td>1.273453</td>\n",
       "      <td>0.281437</td>\n",
       "      <td>0.059880</td>\n",
       "      <td>0.015968</td>\n",
       "      <td>1.391218</td>\n",
       "      <td>4067.017964</td>\n",
       "      <td>36.425150</td>\n",
       "      <td>2.671528</td>\n",
       "      <td>0.660870</td>\n",
       "    </tr>\n",
       "    <tr>\n",
       "      <th>30131741</th>\n",
       "      <td>4</td>\n",
       "      <td>10312.076037</td>\n",
       "      <td>62.435484</td>\n",
       "      <td>34599.866359</td>\n",
       "      <td>42007.988479</td>\n",
       "      <td>24071.145161</td>\n",
       "      <td>0.239631</td>\n",
       "      <td>0.025346</td>\n",
       "      <td>0.006912</td>\n",
       "      <td>0.000000</td>\n",
       "      <td>0.603687</td>\n",
       "      <td>4704.658986</td>\n",
       "      <td>26.470046</td>\n",
       "      <td>3.009035</td>\n",
       "      <td>0.596154</td>\n",
       "    </tr>\n",
       "  </tbody>\n",
       "</table>\n",
       "</div>"
      ],
      "text/plain": [
       "          league    GoldEarned  MinionKills  PhysicalDamageDealt  \\\n",
       "summID                                                             \n",
       "43878231       4  11542.636731   114.821197         82212.913430   \n",
       "58082410       0  11413.241546    79.270531         60077.579710   \n",
       "20417927       1  11986.011168   153.420305         79579.971574   \n",
       "52542846       1  13221.147705   135.826347        127510.532934   \n",
       "30131741       4  10312.076037    62.435484         34599.866359   \n",
       "\n",
       "          MagicDamageDealt   DamageTaken  DoubleKills  TripleKills  \\\n",
       "summID                                                               \n",
       "43878231      32395.096278  25731.042071     0.664239     0.103560   \n",
       "58082410      42597.009662  30861.487923     0.338164     0.024155   \n",
       "20417927      57813.944162  23811.927919     0.684264     0.096447   \n",
       "52542846      29848.522954  28104.948104     1.273453     0.281437   \n",
       "30131741      42007.988479  24071.145161     0.239631     0.025346   \n",
       "\n",
       "          QuadraKills  PentaKills  TurretsKilled         Heal  \\\n",
       "summID                                                          \n",
       "43878231     0.018608    0.002427       0.985437  3320.345469   \n",
       "58082410     0.000000    0.000000       0.579710  4841.830918   \n",
       "20417927     0.019289    0.001015       1.110660  3755.418274   \n",
       "52542846     0.059880    0.015968       1.391218  4067.017964   \n",
       "30131741     0.006912    0.000000       0.603687  4704.658986   \n",
       "\n",
       "          NeutralMinionsKilled\\t  totalKDA   WinRate  \n",
       "summID                                                \n",
       "43878231               22.512136  2.586861  0.503145  \n",
       "58082410               24.724638  2.491701  0.508772  \n",
       "20417927               19.312690  2.872486  0.515625  \n",
       "52542846               36.425150  2.671528  0.660870  \n",
       "30131741               26.470046  3.009035  0.596154  "
      ]
     },
     "execution_count": 4,
     "metadata": {},
     "output_type": "execute_result"
    }
   ],
   "source": [
    "df_total.head()"
   ]
  },
  {
   "cell_type": "code",
   "execution_count": 5,
   "metadata": {
    "collapsed": false
   },
   "outputs": [],
   "source": [
    "y_pc = df_pc['league'].values\n",
    "X_pc = df = df_pc.drop('league', 1)"
   ]
  },
  {
   "cell_type": "code",
   "execution_count": 6,
   "metadata": {
    "collapsed": true
   },
   "outputs": [],
   "source": [
    "y_total = df_pc['league'].values\n",
    "X_total = df = df_pc.drop('league', 1)"
   ]
  },
  {
   "cell_type": "markdown",
   "metadata": {},
   "source": [
    "## Data split and feature engineering"
   ]
  },
  {
   "cell_type": "code",
   "execution_count": 7,
   "metadata": {
    "collapsed": false
   },
   "outputs": [],
   "source": [
    "X_pc = X_pc[['maxNumDeaths', 'mostChampionKillsPerSession', 'GoldEarned', 'MinionKills',\n",
    "      'PhysicalDamageDealt', 'MagicDamageDealt', 'DamageTaken', 'DoubleKills', 'TripleKills',\n",
    "       'QuadraKills', 'PentaKills', 'TurretsKilled', 'KDA', 'WinRate']]\n",
    "X_total = X_total[['maxNumDeaths', 'mostChampionKillsPerSession', 'GoldEarned', 'MinionKills',\n",
    "      'PhysicalDamageDealt', 'MagicDamageDealt', 'DamageTaken', 'DoubleKills', 'TripleKills',\n",
    "       'QuadraKills', 'PentaKills', 'TurretsKilled', 'KDA', 'WinRate']]"
   ]
  },
  {
   "cell_type": "code",
   "execution_count": 8,
   "metadata": {
    "collapsed": false
   },
   "outputs": [],
   "source": [
    "X_n = preprocessing.normalize(preprocessing.scale(X_pc))"
   ]
  },
  {
   "cell_type": "markdown",
   "metadata": {},
   "source": [
    "### Univariate Feature Selection"
   ]
  },
  {
   "cell_type": "code",
   "execution_count": 15,
   "metadata": {
    "collapsed": false,
    "scrolled": true
   },
   "outputs": [
    {
     "data": {
      "image/png": "[encoded data removed]",
      "text/plain": [
       "<matplotlib.figure.Figure at 0x1177cfa58>"
      ]
     },
     "metadata": {},
     "output_type": "display_data"
    }
   ],
   "source": [
    "clf = SVC(kernel='linear')\n",
    "clf.fit(X_n, y_pc)\n",
    "\n",
    "svm_weights = (clf.coef_ ** 2).sum(axis=0)\n",
    "svm_weights /= svm_weights.max()\n",
    "\n",
    "X_indices = np.arange(X_pc.shape[-1])\n",
    "\n",
    "plt.bar(X_indices - .25, svm_weights, width=.2, label='SVM weight',\n",
    "        color='navy')\n",
    "\n",
    "plt.xlabel('Feature number')\n",
    "plt.yticks(())\n",
    "plt.axis('tight')\n",
    "plt.legend(loc='upper right')\n",
    "plt.show()"
   ]
  },
  {
   "cell_type": "markdown",
   "metadata": {},
   "source": [
    "### Recursive Feature Elimination (RFE)"
   ]
  },
  {
   "cell_type": "code",
   "execution_count": 25,
   "metadata": {
    "collapsed": false
   },
   "outputs": [
    {
     "name": "stdout",
     "output_type": "stream",
     "text": [
      "4 features Selection by RFE are:\n",
      " Index(['maxNumDeaths', 'GoldEarned', 'PhysicalDamageDealt',\n",
      "       'MagicDamageDealt'],\n",
      "      dtype='object')\n",
      "5 features Selection by RFE are:\n",
      " Index(['maxNumDeaths', 'GoldEarned', 'PhysicalDamageDealt', 'MagicDamageDealt',\n",
      "       'TurretsKilled'],\n",
      "      dtype='object')\n",
      "6 features Selection by RFE are:\n",
      " Index(['maxNumDeaths', 'GoldEarned', 'MinionKills', 'PhysicalDamageDealt',\n",
      "       'MagicDamageDealt', 'TurretsKilled'],\n",
      "      dtype='object')\n",
      "7 features Selection by RFE are:\n",
      " Index(['maxNumDeaths', 'GoldEarned', 'MinionKills', 'PhysicalDamageDealt',\n",
      "       'MagicDamageDealt', 'TurretsKilled', 'WinRate'],\n",
      "      dtype='object')\n",
      "8 features Selection by RFE are:\n",
      " Index(['maxNumDeaths', 'mostChampionKillsPerSession', 'GoldEarned',\n",
      "       'MinionKills', 'PhysicalDamageDealt', 'MagicDamageDealt',\n",
      "       'TurretsKilled', 'WinRate'],\n",
      "      dtype='object')\n",
      "9 features Selection by RFE are:\n",
      " Index(['maxNumDeaths', 'mostChampionKillsPerSession', 'GoldEarned',\n",
      "       'MinionKills', 'PhysicalDamageDealt', 'MagicDamageDealt', 'QuadraKills',\n",
      "       'TurretsKilled', 'WinRate'],\n",
      "      dtype='object')\n"
     ]
    }
   ],
   "source": [
    "estimator = SVC(kernel=\"linear\")\n",
    "for i in range(4,10,1):\n",
    "    selector = RFE(estimator, i, step=1)\n",
    "    selector = selector.fit(X_n, y_pc)\n",
    "    feature_selection = selector.support_ \n",
    "    print(i,\"features Selection by RFE are:\\n\", X_pc.columns[feature_selection])"
   ]
  },
  {
   "cell_type": "markdown",
   "metadata": {
    "collapsed": true
   },
   "source": [
    "### Feature importances with trees"
   ]
  },
  {
   "cell_type": "markdown",
   "metadata": {},
   "source": [
    "#### Raw data"
   ]
  },
  {
   "cell_type": "code",
   "execution_count": 24,
   "metadata": {
    "collapsed": false
   },
   "outputs": [
    {
     "name": "stdout",
     "output_type": "stream",
     "text": [
      "Feature ranking:\n",
      "1. feature 3 (0.100627)\n",
      "2. feature 0 (0.079054)\n",
      "3. feature 4 (0.077993)\n",
      "4. feature 2 (0.077106)\n",
      "5. feature 13 (0.076833)\n",
      "6. feature 5 (0.075715)\n",
      "7. feature 6 (0.074853)\n",
      "8. feature 11 (0.074818)\n",
      "9. feature 12 (0.074422)\n",
      "10. feature 1 (0.073794)\n",
      "11. feature 7 (0.071756)\n",
      "12. feature 8 (0.063063)\n",
      "13. feature 9 (0.049735)\n",
      "14. feature 10 (0.030233)\n"
     ]
    },
    {
     "data": {
      "image/png": "[encoded data removed]",
      "text/plain": [
       "<matplotlib.figure.Figure at 0x117c13860>"
      ]
     },
     "metadata": {},
     "output_type": "display_data"
    }
   ],
   "source": [
    "forest = ExtraTreesClassifier(n_estimators=250,\n",
    "                              random_state=0)\n",
    "\n",
    "forest.fit(X_pc, y_pc)\n",
    "importances = forest.feature_importances_\n",
    "std = np.std([tree.feature_importances_ for tree in forest.estimators_],\n",
    "             axis=0)\n",
    "indices = np.argsort(importances)[::-1]\n",
    "\n",
    "# Print the feature ranking\n",
    "print(\"Feature ranking:\")\n",
    "\n",
    "for f in range(X_pc.shape[1]):\n",
    "    print(\"%d. feature %d (%f)\" % (f + 1, indices[f], importances[indices[f]]))\n",
    "\n",
    "# Plot the feature importances of the forest\n",
    "plt.figure()\n",
    "plt.title(\"Feature importances\")\n",
    "plt.bar(range(X_pc.shape[1]), importances[indices],\n",
    "       color=\"r\", yerr=std[indices], align=\"center\")\n",
    "plt.xticks(range(X_pc.shape[1]), indices)\n",
    "plt.xlim([-1, X_pc.shape[1]])\n",
    "plt.show()"
   ]
  },
  {
   "cell_type": "markdown",
   "metadata": {},
   "source": [
    "#### Scale data"
   ]
  },
  {
   "cell_type": "code",
   "execution_count": 23,
   "metadata": {
    "collapsed": false
   },
   "outputs": [
    {
     "name": "stdout",
     "output_type": "stream",
     "text": [
      "Feature ranking:\n",
      "1. feature 3 (0.100567)\n",
      "2. feature 0 (0.079076)\n",
      "3. feature 4 (0.077968)\n",
      "4. feature 2 (0.077159)\n",
      "5. feature 13 (0.076823)\n",
      "6. feature 5 (0.075689)\n",
      "7. feature 6 (0.074878)\n",
      "8. feature 11 (0.074812)\n",
      "9. feature 12 (0.074429)\n",
      "10. feature 1 (0.073751)\n",
      "11. feature 7 (0.071771)\n",
      "12. feature 8 (0.063076)\n",
      "13. feature 9 (0.049752)\n",
      "14. feature 10 (0.030250)\n"
     ]
    },
    {
     "data": {
      "image/png": "[encoded data removed]",
      "text/plain": [
       "<matplotlib.figure.Figure at 0x116dcff98>"
      ]
     },
     "metadata": {},
     "output_type": "display_data"
    }
   ],
   "source": [
    "X_s =preprocessing.scale(X_pc)\n",
    "forest = ExtraTreesClassifier(n_estimators=250,\n",
    "                              random_state=0)\n",
    "\n",
    "forest.fit(X_s, y_pc)\n",
    "importances = forest.feature_importances_\n",
    "std = np.std([tree.feature_importances_ for tree in forest.estimators_],\n",
    "             axis=0)\n",
    "indices = np.argsort(importances)[::-1]\n",
    "\n",
    "# Print the feature ranking\n",
    "print(\"Feature ranking:\")\n",
    "\n",
    "for f in range(X_s.shape[1]):\n",
    "    print(\"%d. feature %d (%f)\" % (f + 1, indices[f], importances[indices[f]]))\n",
    "\n",
    "# Plot the feature importances of the forest\n",
    "plt.figure()\n",
    "plt.title(\"Feature importances\")\n",
    "plt.bar(range(X_s.shape[1]), importances[indices],\n",
    "       color=\"r\", yerr=std[indices], align=\"center\")\n",
    "plt.xticks(range(X_s.shape[1]), indices)\n",
    "plt.xlim([-1, X_s.shape[1]])\n",
    "plt.show()"
   ]
  },
  {
   "cell_type": "markdown",
   "metadata": {},
   "source": [
    "#### Normalize and Scale data"
   ]
  },
  {
   "cell_type": "code",
   "execution_count": 21,
   "metadata": {
    "collapsed": false
   },
   "outputs": [
    {
     "name": "stdout",
     "output_type": "stream",
     "text": [
      "Feature ranking:\n",
      "1. feature 3 (0.092797)\n",
      "2. feature 0 (0.088665)\n",
      "3. feature 1 (0.073176)\n",
      "4. feature 13 (0.072284)\n",
      "5. feature 12 (0.069663)\n",
      "6. feature 2 (0.069467)\n",
      "7. feature 6 (0.068720)\n",
      "8. feature 4 (0.068649)\n",
      "9. feature 5 (0.068575)\n",
      "10. feature 11 (0.068390)\n",
      "11. feature 7 (0.066614)\n",
      "12. feature 10 (0.064526)\n",
      "13. feature 9 (0.064258)\n",
      "14. feature 8 (0.064214)\n"
     ]
    },
    {
     "data": {
      "image/png": "[encoded data removed]",
      "text/plain": [
       "<matplotlib.figure.Figure at 0x117a91f28>"
      ]
     },
     "metadata": {},
     "output_type": "display_data"
    }
   ],
   "source": [
    "forest = ExtraTreesClassifier(n_estimators=250,\n",
    "                              random_state=0)\n",
    "\n",
    "forest.fit(X_n, y_pc)\n",
    "importances = forest.feature_importances_\n",
    "std = np.std([tree.feature_importances_ for tree in forest.estimators_],\n",
    "             axis=0)\n",
    "indices = np.argsort(importances)[::-1]\n",
    "\n",
    "# Print the feature ranking\n",
    "print(\"Feature ranking:\")\n",
    "\n",
    "for f in range(X_n.shape[1]):\n",
    "    print(\"%d. feature %d (%f)\" % (f + 1, indices[f], importances[indices[f]]))\n",
    "\n",
    "# Plot the feature importances of the forest\n",
    "plt.figure()\n",
    "plt.title(\"Feature importances\")\n",
    "plt.bar(range(X_n.shape[1]), importances[indices],\n",
    "       color=\"r\", yerr=std[indices], align=\"center\")\n",
    "plt.xticks(range(X_n.shape[1]), indices)\n",
    "plt.xlim([-1, X_n.shape[1]])\n",
    "plt.show()"
   ]
  },
  {
   "cell_type": "markdown",
   "metadata": {},
   "source": [
    "# Unsupervised Clustering"
   ]
  },
  {
   "cell_type": "code",
   "execution_count": null,
   "metadata": {
    "collapsed": true
   },
   "outputs": [],
   "source": [
    "from sklearn import metrics\n",
    "from sklearn.cluster import KMeans\n",
    "from sklearn.decomposition import PCA\n",
    "from sklearn.preprocessing import scale"
   ]
  },
  {
   "cell_type": "markdown",
   "metadata": {},
   "source": [
    "## K-means"
   ]
  },
  {
   "cell_type": "markdown",
   "metadata": {},
   "source": [
    "Source: http://scikit-learn.org/stable/auto_examples/cluster/plot_kmeans_digits.html"
   ]
  },
  {
   "cell_type": "code",
   "execution_count": null,
   "metadata": {
    "collapsed": false
   },
   "outputs": [],
   "source": [
    "def bench_k_means(estimator, name, data):\n",
    "    t0 = time()\n",
    "    estimator.fit(data)\n",
    "    print('% 9s   %.2fs    %i   %.3f   %.3f   %.3f   %.3f   %.3f    %.3f'\n",
    "          % (name, (time() - t0), estimator.inertia_,\n",
    "             metrics.homogeneity_score(labels, estimator.labels_),\n",
    "             metrics.completeness_score(labels, estimator.labels_),\n",
    "             metrics.v_measure_score(labels, estimator.labels_),\n",
    "             metrics.adjusted_rand_score(labels, estimator.labels_),\n",
    "             metrics.adjusted_mutual_info_score(labels,  estimator.labels_),\n",
    "             metrics.silhouette_score(data, estimator.labels_,\n",
    "                                      metric='euclidean',\n",
    "                                      sample_size=sample_size)))"
   ]
  },
  {
   "cell_type": "code",
   "execution_count": null,
   "metadata": {
    "collapsed": false
   },
   "outputs": [],
   "source": [
    "labels = y_total\n",
    "n_samples, n_features = X_total.shape\n",
    "sample_size = n_samples\n",
    "bench_k_means(KMeans(init='k-means++', n_clusters=5, n_init=10), name=\"k-means++\", data=X_pc)"
   ]
  },
  {
   "cell_type": "code",
   "execution_count": null,
   "metadata": {
    "collapsed": false
   },
   "outputs": [],
   "source": [
    "k_means = KMeans(init='k-means++', n_clusters=5, n_init=10)\n",
    "k_means.fit(X_pc_tr)"
   ]
  },
  {
   "cell_type": "markdown",
   "metadata": {},
   "source": [
    "## GMM"
   ]
  },
  {
   "cell_type": "markdown",
   "metadata": {},
   "source": [
    "Source: http://scikit-learn.org/stable/auto_examples/mixture/plot_gmm.html"
   ]
  },
  {
   "cell_type": "code",
   "execution_count": null,
   "metadata": {
    "collapsed": true
   },
   "outputs": [],
   "source": [
    "from sklearn import mixture\n",
    "from scipy import linalg\n",
    "import matplotlib.pyplot as plt\n",
    "import matplotlib as mpl\n",
    "import itertools"
   ]
  },
  {
   "cell_type": "code",
   "execution_count": null,
   "metadata": {
    "collapsed": false
   },
   "outputs": [],
   "source": [
    "X = X_total[['GoldEarned', 'MinionKills', 'KDA']]"
   ]
  },
  {
   "cell_type": "code",
   "execution_count": null,
   "metadata": {
    "collapsed": true
   },
   "outputs": [],
   "source": [
    "color_iter = itertools.cycle(['navy', 'c', 'cornflowerblue', 'gold','darkorange'])\n",
    "def plot_results(X, Y_, means, covariances, index, title):\n",
    "    splot = plt.subplot(2, 1, 1 + index)\n",
    "    for i, (mean, covar, color) in enumerate(zip(means, covariances, color_iter)):\n",
    "        v, w = linalg.eigh(covar)\n",
    "        v = 2. * np.sqrt(2.) * np.sqrt(v)\n",
    "        u = w[0] / linalg.norm(w[0])\n",
    "        # as the DP will not use every component it has access to\n",
    "        # unless it needs it, we shouldn't plot the redundant\n",
    "        # components.\n",
    "        if not np.any(Y_ == i):\n",
    "            continue\n",
    "        plt.scatter(X[Y_ == i, 0], X[Y_ == i, 1], .8)\n",
    "\n",
    "        # Plot an ellipse to show the Gaussian component\n",
    "        angle = np.arctan(u[1] / u[0])\n",
    "        angle = 180. * angle / np.pi  # convert to degrees\n",
    "        ell = mpl.patches.Ellipse(mean, v[0], v[1], 180. + angle, color=color)\n",
    "        ell.set_clip_box(splot.bbox)\n",
    "        ell.set_alpha(0.5)\n",
    "        splot.add_artist(ell)\n",
    "    plt.xlim(-9., 5.)\n",
    "    plt.ylim(-3., 6.)\n",
    "    plt.xticks(())\n",
    "    plt.yticks(())\n",
    "    plt.title(title)"
   ]
  },
  {
   "cell_type": "markdown",
   "metadata": {},
   "source": [
    "# Supervised classification (predicting the elo)"
   ]
  },
  {
   "cell_type": "markdown",
   "metadata": {},
   "source": [
    "## SVC"
   ]
  },
  {
   "cell_type": "code",
   "execution_count": 26,
   "metadata": {
    "collapsed": true
   },
   "outputs": [],
   "source": [
    "X_pc = X_pc[['maxNumDeaths', 'mostChampionKillsPerSession', 'GoldEarned', 'MinionKills',\n",
    "      'PhysicalDamageDealt', 'MagicDamageDealt', 'DamageTaken', 'DoubleKills', 'TripleKills',\n",
    "       'QuadraKills', 'PentaKills', 'TurretsKilled', 'KDA', 'WinRate']]"
   ]
  },
  {
   "cell_type": "code",
   "execution_count": 27,
   "metadata": {
    "collapsed": true
   },
   "outputs": [],
   "source": [
    "pca = PCA()\n",
    "X_n = pca.fit_transform(preprocessing.scale(X_pc))"
   ]
  },
  {
   "cell_type": "code",
   "execution_count": 28,
   "metadata": {
    "collapsed": false
   },
   "outputs": [
    {
     "name": "stdout",
     "output_type": "stream",
     "text": [
      "Mean Accuracy : 0.393890609328 \tSTD:  0.00582715103927\n"
     ]
    }
   ],
   "source": [
    "clf = SVC(kernel='linear')\n",
    "values = cross_val_score(clf, X_n, y_pc, cv=10)\n",
    "print('Mean Accuracy :', np.mean(values), '\\tSTD: ', np.std(values))"
   ]
  },
  {
   "cell_type": "code",
   "execution_count": 29,
   "metadata": {
    "collapsed": false
   },
   "outputs": [
    {
     "name": "stdout",
     "output_type": "stream",
     "text": [
      "Mean Accuracy : 0.422845528182 \tSTD:  0.00914086188424\n"
     ]
    }
   ],
   "source": [
    "clf = SVC(kernel='rbf')\n",
    "values = cross_val_score(clf, X_n, y_pc, cv=10)\n",
    "print('Mean Accuracy :', np.mean(values), '\\tSTD: ', np.std(values))"
   ]
  },
  {
   "cell_type": "code",
   "execution_count": 32,
   "metadata": {
    "collapsed": false
   },
   "outputs": [],
   "source": [
    "X_tr, X_te, y_tr, y_te = train_test_split(X_n, y_pc, test_size=0.4, random_state=0)"
   ]
  },
  {
   "cell_type": "markdown",
   "metadata": {},
   "source": [
    "## NO TOCAR LAS 2 SIGUIENTES CELDAS"
   ]
  },
  {
   "cell_type": "markdown",
   "metadata": {},
   "source": [
    "Mirar class_weight_range [\"auto\", \"balanced\"] #Balanced puede haver problema con master :D"
   ]
  },
  {
   "cell_type": "code",
   "execution_count": 19,
   "metadata": {
    "collapsed": true
   },
   "outputs": [],
   "source": [
    "C_range = 10.0 ** np.arange(-4, 4)\n",
    "gamma_range = 10.0 ** np.arange(-4, 4)\n",
    "param_grid = {\"gamma\": gamma_range.tolist(), \"C\": C_range.tolist()}"
   ]
  },
  {
   "cell_type": "code",
   "execution_count": 20,
   "metadata": {
    "collapsed": false
   },
   "outputs": [
    {
     "name": "stdout",
     "output_type": "stream",
     "text": [
      "The best classifier is:  SVC(C=1000.0, cache_size=200, class_weight=None, coef0=0.0,\n",
      "  decision_function_shape=None, degree=3, gamma=0.01, kernel='rbf',\n",
      "  max_iter=-1, probability=False, random_state=None, shrinking=True,\n",
      "  tol=0.001, verbose=False)\n"
     ]
    }
   ],
   "source": [
    "grid = GridSearchCV(SVC(kernel='rbf'), param_grid, n_jobs = -1)\n",
    "grid.fit(X_tr, y_tr)\n",
    "print(\"The best classifier is: \", grid.best_estimator_)"
   ]
  },
  {
   "cell_type": "code",
   "execution_count": 30,
   "metadata": {
    "collapsed": false
   },
   "outputs": [
    {
     "name": "stdout",
     "output_type": "stream",
     "text": [
      "Mean Accuracy : 0.439152879246 \tSTD:  0.00930493367288\n"
     ]
    }
   ],
   "source": [
    "clf = SVC(C=1000.0, gamma=0.01, kernel='rbf')\n",
    "values = cross_val_score(clf, X_n, y_pc, cv=10)\n",
    "print('Mean Accuracy :', np.mean(values), '\\tSTD: ', np.std(values))"
   ]
  },
  {
   "cell_type": "code",
   "execution_count": 33,
   "metadata": {
    "collapsed": false
   },
   "outputs": [
    {
     "data": {
      "text/plain": [
       "0.4416204360727648"
      ]
     },
     "execution_count": 33,
     "metadata": {},
     "output_type": "execute_result"
    }
   ],
   "source": [
    "clf.fit(X_tr, y_tr)\n",
    "clf.score(X_te, y_te)"
   ]
  },
  {
   "cell_type": "code",
   "execution_count": 34,
   "metadata": {
    "collapsed": false
   },
   "outputs": [],
   "source": [
    "y_hat = clf.predict(X_te)\n",
    "cnf_matrix = confusion_matrix(y_te, y_hat)"
   ]
  },
  {
   "cell_type": "code",
   "execution_count": 35,
   "metadata": {
    "collapsed": true
   },
   "outputs": [],
   "source": [
    "import itertools\n",
    "def plot_confusion_matrix(cm, classes, title='Confusion matrix', cmap=plt.cm.Blues):\n",
    "    plt.imshow(cm, interpolation='nearest', cmap=cmap)\n",
    "    plt.title(title)\n",
    "    plt.colorbar()\n",
    "    tick_marks = np.arange(len(classes))\n",
    "    plt.xticks(tick_marks, classes, rotation=45)\n",
    "    plt.yticks(tick_marks, classes)\n",
    "\n",
    "\n",
    "    thresh = cm.max() / 2.\n",
    "    for i, j in itertools.product(range(cm.shape[0]), range(cm.shape[1])):\n",
    "        plt.text(j, i, cm[i, j],\n",
    "                 horizontalalignment=\"center\",\n",
    "                 color=\"white\" if cm[i, j] > thresh else \"black\")\n",
    "\n",
    "    plt.tight_layout()\n",
    "    plt.ylabel('True label')\n",
    "    plt.xlabel('Predicted label')"
   ]
  },
  {
   "cell_type": "code",
   "execution_count": 36,
   "metadata": {
    "collapsed": false
   },
   "outputs": [
    {
     "data": {
      "image/png": "[encoded data removed]",
      "text/plain": [
       "<matplotlib.figure.Figure at 0x116f21dd8>"
      ]
     },
     "metadata": {},
     "output_type": "display_data"
    }
   ],
   "source": [
    "plot_confusion_matrix(cnf_matrix, classes=np.unique(y_pc))"
   ]
  },
  {
   "cell_type": "code",
   "execution_count": 37,
   "metadata": {
    "collapsed": false
   },
   "outputs": [
    {
     "name": "stdout",
     "output_type": "stream",
     "text": [
      "Accuracy:  0.441620436073\n"
     ]
    }
   ],
   "source": [
    "print(\"Accuracy: \", sum(cnf_matrix.diagonal())/sum(sum(cnf_matrix)))"
   ]
  },
  {
   "cell_type": "markdown",
   "metadata": {},
   "source": [
    "### Multi BinariSVM Classifier"
   ]
  },
  {
   "cell_type": "code",
   "execution_count": 38,
   "metadata": {
    "collapsed": true
   },
   "outputs": [],
   "source": [
    "def select_data():\n",
    "    data_set = pd.read_pickle('pc_processed.pkl')\n",
    "    y_ds = data_set['league'].values\n",
    "    x_ds = data_set.drop('league', 1)\n",
    "    return x_ds[['maxNumDeaths', 'mostChampionKillsPerSession', 'GoldEarned', 'MinionKills',\n",
    "      'PhysicalDamageDealt', 'MagicDamageDealt', 'DamageTaken', 'DoubleKills', 'TripleKills',\n",
    "       'QuadraKills', 'PentaKills', 'TurretsKilled', 'KDA', 'WinRate']], y_ds"
   ]
  },
  {
   "cell_type": "code",
   "execution_count": 39,
   "metadata": {
    "collapsed": false
   },
   "outputs": [
    {
     "name": "stdout",
     "output_type": "stream",
     "text": [
      "Class:  0  VS  1  Mean Accuracy : 0.578235559593 \tSTD:  0.000259534809811\n",
      "Class:  0  VS  2  Mean Accuracy : 0.509697780603 \tSTD:  0.000264337915221\n",
      "Class:  0  VS  3  Mean Accuracy : 0.990123390772 \tSTD:  0.00139228037819\n",
      "Class:  0  VS  4  Mean Accuracy : 0.685320364917 \tSTD:  0.000362418784677\n",
      "Class:  0  VS  5  Mean Accuracy : 0.566507193548 \tSTD:  0.000258913531678\n",
      "Class:  1  VS  2  Mean Accuracy : 0.56874643033 \tSTD:  9.32610185745e-05\n",
      "Class:  1  VS  3  Mean Accuracy : 0.992776165637 \tSTD:  0.00102126070637\n",
      "Class:  1  VS  4  Mean Accuracy : 0.613677547142 \tSTD:  0.000281089083099\n",
      "Class:  1  VS  5  Mean Accuracy : 0.511977659574 \tSTD:  1.46252415796e-05\n",
      "Class:  2  VS  3  Mean Accuracy : 0.990495760056 \tSTD:  0.00133918977715\n",
      "Class:  2  VS  4  Mean Accuracy : 0.676894259095 \tSTD:  0.00033702743331\n",
      "Class:  2  VS  5  Mean Accuracy : 0.556956368096 \tSTD:  7.93816508851e-05\n",
      "Class:  3  VS  4  Mean Accuracy : 0.995439471134 \tSTD:  0.000648947317901\n",
      "Class:  3  VS  5  Mean Accuracy : 0.992424359673 \tSTD:  0.00107044859283\n",
      "Class:  4  VS  5  Mean Accuracy : 0.624974542311 \tSTD:  0.000290491721852\n",
      "Mean acc: 0.723616456832\n"
     ]
    }
   ],
   "source": [
    "accuracy = []\n",
    "x_ds, y_ds = select_data()\n",
    "pca = PCA()\n",
    "X_ds = pca.fit_transform(preprocessing.scale(x_ds))\n",
    "for first in np.unique(y_ds):\n",
    "    for second in np.unique(y_ds):\n",
    "        if first < second:\n",
    "            y_ = np.logical_or(y_ds == first, y_ds == second)\n",
    "            y_subset = y_ds[y_]\n",
    "            x_subset = x_ds[y_.transpose()]\n",
    "            clf = SVC(kernel='rbf')            \n",
    "            values = cross_val_score(clf, x_subset, y_subset, cv=10)\n",
    "            print('Class: ', first, \" VS \", second,' Mean Accuracy :', np.mean(values), '\\tSTD: ', np.std(values))\n",
    "            accuracy.append(np.mean(values))            \n",
    "print(\"Mean acc:\", sum(accuracy)/len(accuracy))     "
   ]
  },
  {
   "cell_type": "code",
   "execution_count": 40,
   "metadata": {
    "collapsed": false
   },
   "outputs": [],
   "source": [
    "X_ds = pca.fit_transform(preprocessing.scale(x_ds))\n",
    "X_train, X_test, y_train, y_test = train_test_split(X_ds, y_ds, test_size=0.40, random_state=42)\n",
    "classifiers = []\n",
    "name_classifier = []\n",
    "for first in np.unique(y_ds):\n",
    "        for second in np.unique(y_ds):\n",
    "            if first < second:\n",
    "                y_ = np.logical_or(y_train == first, y_train == second)\n",
    "                y_subset = y_train[y_]\n",
    "                x_subset = X_train[y_.transpose()]\n",
    "                clf = SVC(kernel='rbf', probability = True)\n",
    "                clf.fit(x_subset, y_subset)\n",
    "                classifiers.append(clf)\n",
    "                name_classifier.append( [first,second] )\n",
    "\n",
    "results = []\n",
    "itr = 0\n",
    "for clf in classifiers:\n",
    "    predictions = clf.predict_proba(X_test)\n",
    "    classifier = name_classifier[itr]\n",
    "    results.append([ [classifier[np.argmax(prediction)], np.amax(prediction)] \n",
    "                    for prediction in predictions ]\n",
    "                  )\n",
    "    itr+=1\n",
    "    "
   ]
  },
  {
   "cell_type": "code",
   "execution_count": 41,
   "metadata": {
    "collapsed": false
   },
   "outputs": [],
   "source": [
    "prediction = []\n",
    "for i in range(0,len(results[0])):\n",
    "    temp_clas = results[0][i][0]\n",
    "    temp_prob = results[0][i][1]\n",
    "    for j in range(1,len(results)):\n",
    "        if temp_prob < results[j][i][1]:\n",
    "            temp_clas = results[j][i][0]\n",
    "            temp_prob = results[j][i][1]\n",
    "    prediction.append(temp_clas)"
   ]
  },
  {
   "cell_type": "code",
   "execution_count": 43,
   "metadata": {
    "collapsed": false
   },
   "outputs": [],
   "source": [
    "cnf_matrix = confusion_matrix(y_test, prediction)"
   ]
  },
  {
   "cell_type": "code",
   "execution_count": 44,
   "metadata": {
    "collapsed": false,
    "scrolled": false
   },
   "outputs": [
    {
     "data": {
      "image/png": "[encoded data removed]",
      "text/plain": [
       "<matplotlib.figure.Figure at 0x117b826a0>"
      ]
     },
     "metadata": {},
     "output_type": "display_data"
    }
   ],
   "source": [
    "plot_confusion_matrix(cnf_matrix, classes=np.unique(y_ds),\n",
    "                      title='Confusion matrix')"
   ]
  },
  {
   "cell_type": "code",
   "execution_count": 45,
   "metadata": {
    "collapsed": false
   },
   "outputs": [
    {
     "name": "stdout",
     "output_type": "stream",
     "text": [
      "Accuracy:  0.315572184234\n"
     ]
    }
   ],
   "source": [
    "print(\"Accuracy: \", sum(cnf_matrix.diagonal())/sum(sum(cnf_matrix)))"
   ]
  },
  {
   "cell_type": "markdown",
   "metadata": {},
   "source": [
    "## Random Forest Classifier"
   ]
  },
  {
   "cell_type": "code",
   "execution_count": 46,
   "metadata": {
    "collapsed": true
   },
   "outputs": [],
   "source": [
    "from sklearn.ensemble import RandomForestClassifier"
   ]
  },
  {
   "cell_type": "code",
   "execution_count": 47,
   "metadata": {
    "collapsed": false
   },
   "outputs": [
    {
     "name": "stdout",
     "output_type": "stream",
     "text": [
      "Mean Accuracy : 0.374690101275 \tSTD:  0.00542697475853\n"
     ]
    }
   ],
   "source": [
    "clf = RandomForestClassifier(n_estimators=20)\n",
    "values = cross_val_score(clf, X_n, y_pc, cv=10)\n",
    "print('Mean Accuracy :', np.mean(values), '\\tSTD: ', np.std(values))"
   ]
  },
  {
   "cell_type": "markdown",
   "metadata": {},
   "source": [
    "#### RandomForestClassifier (n_estimators=10, criterion='gini', max_depth=None, min_samples_split=2, min_samples_leaf=1, min_weight_fraction_leaf=0.0, max_features='auto', max_leaf_nodes=None, min_impurity_split=1e-07, bootstrap=True, oob_score=False, n_jobs=1, random_state=None, verbose=0, warm_start=False, class_weight=None)\n",
    "\n",
    "## NO TOCAR LAS 3 CELDAS SIGUIENTES! "
   ]
  },
  {
   "cell_type": "code",
   "execution_count": 46,
   "metadata": {
    "collapsed": false
   },
   "outputs": [],
   "source": [
    "estimators_range = np.arange(50, 1050, 50)\n",
    "criterion_range = [\"gini\", \"entropy\"] \n",
    "#max_features_range = [\"auto\", \"log2\", len(X_pc.columns)]\n",
    "param_grid = {\"n_estimators\": estimators_range, \"criterion\": criterion_range, \n",
    "              }#\"max_features\":max_depth_range}"
   ]
  },
  {
   "cell_type": "code",
   "execution_count": 47,
   "metadata": {
    "collapsed": false
   },
   "outputs": [],
   "source": [
    "grid = GridSearchCV(RandomForestClassifier(), param_grid)"
   ]
  },
  {
   "cell_type": "code",
   "execution_count": 48,
   "metadata": {
    "collapsed": false,
    "scrolled": false
   },
   "outputs": [
    {
     "name": "stdout",
     "output_type": "stream",
     "text": [
      "The best classifier is:  RandomForestClassifier(bootstrap=True, class_weight=None, criterion='entropy',\n",
      "            max_depth=None, max_features='auto', max_leaf_nodes=None,\n",
      "            min_impurity_split=1e-07, min_samples_leaf=1,\n",
      "            min_samples_split=2, min_weight_fraction_leaf=0.0,\n",
      "            n_estimators=600, n_jobs=1, oob_score=False, random_state=None,\n",
      "            verbose=0, warm_start=False)\n"
     ]
    }
   ],
   "source": [
    "grid.fit(X_tr, y_tr)\n",
    "print(\"The best classifier is: \", grid.best_estimator_)"
   ]
  },
  {
   "cell_type": "code",
   "execution_count": 48,
   "metadata": {
    "collapsed": false
   },
   "outputs": [
    {
     "name": "stdout",
     "output_type": "stream",
     "text": [
      "Mean Accuracy : 0.415517095058 \tSTD:  0.00849110404437\n"
     ]
    }
   ],
   "source": [
    "clf = RandomForestClassifier( criterion='entropy',n_estimators=600)\n",
    "values = cross_val_score(clf, X_n, y_pc, cv=10)\n",
    "print('Mean Accuracy :', np.mean(values), '\\tSTD: ', np.std(values))"
   ]
  },
  {
   "cell_type": "code",
   "execution_count": 49,
   "metadata": {
    "collapsed": false
   },
   "outputs": [
    {
     "data": {
      "text/plain": [
       "0.40897948651786864"
      ]
     },
     "execution_count": 49,
     "metadata": {},
     "output_type": "execute_result"
    }
   ],
   "source": [
    "clf.fit(X_tr, y_tr)\n",
    "clf.score(X_te, y_te)"
   ]
  },
  {
   "cell_type": "code",
   "execution_count": 50,
   "metadata": {
    "collapsed": true
   },
   "outputs": [],
   "source": [
    "y_hat = clf.predict(X_te)\n",
    "cnf_matrix = confusion_matrix(y_te, y_hat)"
   ]
  },
  {
   "cell_type": "code",
   "execution_count": 51,
   "metadata": {
    "collapsed": false
   },
   "outputs": [
    {
     "data": {
      "image/png": "[encoded data removed]",
      "text/plain": [
       "<matplotlib.figure.Figure at 0x117ecada0>"
      ]
     },
     "metadata": {},
     "output_type": "display_data"
    }
   ],
   "source": [
    "plot_confusion_matrix(cnf_matrix, classes=np.unique(y_pc),\n",
    "                      title='Confusion matrix')"
   ]
  },
  {
   "cell_type": "code",
   "execution_count": 52,
   "metadata": {
    "collapsed": false
   },
   "outputs": [
    {
     "name": "stdout",
     "output_type": "stream",
     "text": [
      "Accuracy:  0.408979486518\n"
     ]
    }
   ],
   "source": [
    "print(\"Accuracy: \", sum(cnf_matrix.diagonal())/sum(sum(cnf_matrix)))"
   ]
  },
  {
   "cell_type": "code",
   "execution_count": null,
   "metadata": {
    "collapsed": true
   },
   "outputs": [],
   "source": []
  }
 ],
 "metadata": {
  "anaconda-cloud": {},
  "kernelspec": {
   "display_name": "Python [conda root]",
   "language": "python",
   "name": "conda-root-py"
  },
  "language_info": {
   "codemirror_mode": {
    "name": "ipython",
    "version": 3
   },
   "file_extension": ".py",
   "mimetype": "text/x-python",
   "name": "python",
   "nbconvert_exporter": "python",
   "pygments_lexer": "ipython3",
   "version": "3.5.2"
  }
 },
 "nbformat": 4,
 "nbformat_minor": 1
}
