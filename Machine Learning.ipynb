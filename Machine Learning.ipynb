{
 "cells": [
  {
   "cell_type": "markdown",
   "metadata": {
    "collapsed": true
   },
   "source": [
    "# Machine learning"
   ]
  },
  {
   "cell_type": "code",
   "execution_count": 1,
   "metadata": {
    "collapsed": true
   },
   "outputs": [],
   "source": [
    "import pandas as pd\n",
    "import numpy as np\n",
    "import pickle\n",
    "from time import time\n",
    "import matplotlib.pyplot as plt\n",
    "\n",
    "%matplotlib inline"
   ]
  },
  {
   "cell_type": "markdown",
   "metadata": {},
   "source": [
    "## Import the data "
   ]
  },
  {
   "cell_type": "code",
   "execution_count": 2,
   "metadata": {
    "collapsed": false
   },
   "outputs": [],
   "source": [
    "df_pc = pd.read_pickle('pc_processed.pkl')\n",
    "df_total = pd.read_pickle('total_processed.pkl')"
   ]
  },
  {
   "cell_type": "code",
   "execution_count": 3,
   "metadata": {
    "collapsed": false
   },
   "outputs": [
    {
     "data": {
      "text/html": [
       "<div>\n",
       "<table border=\"1\" class=\"dataframe\">\n",
       "  <thead>\n",
       "    <tr style=\"text-align: right;\">\n",
       "      <th></th>\n",
       "      <th>champID</th>\n",
       "      <th>maxNumDeaths</th>\n",
       "      <th>mostChampionKillsPerSession</th>\n",
       "      <th>league</th>\n",
       "      <th>champ1R</th>\n",
       "      <th>champ2R</th>\n",
       "      <th>GoldEarned</th>\n",
       "      <th>MinionKills</th>\n",
       "      <th>PhysicalDamageDealt</th>\n",
       "      <th>MagicDamageDealt</th>\n",
       "      <th>DamageTaken</th>\n",
       "      <th>DoubleKills</th>\n",
       "      <th>TripleKills</th>\n",
       "      <th>QuadraKills</th>\n",
       "      <th>PentaKills</th>\n",
       "      <th>TurretsKilled</th>\n",
       "      <th>KDA</th>\n",
       "      <th>WinRate</th>\n",
       "    </tr>\n",
       "    <tr>\n",
       "      <th>summID</th>\n",
       "      <th></th>\n",
       "      <th></th>\n",
       "      <th></th>\n",
       "      <th></th>\n",
       "      <th></th>\n",
       "      <th></th>\n",
       "      <th></th>\n",
       "      <th></th>\n",
       "      <th></th>\n",
       "      <th></th>\n",
       "      <th></th>\n",
       "      <th></th>\n",
       "      <th></th>\n",
       "      <th></th>\n",
       "      <th></th>\n",
       "      <th></th>\n",
       "      <th></th>\n",
       "      <th></th>\n",
       "    </tr>\n",
       "  </thead>\n",
       "  <tbody>\n",
       "    <tr>\n",
       "      <th>19903291</th>\n",
       "      <td>50</td>\n",
       "      <td>12</td>\n",
       "      <td>15</td>\n",
       "      <td>2</td>\n",
       "      <td>2</td>\n",
       "      <td>2</td>\n",
       "      <td>11328.849057</td>\n",
       "      <td>152.132075</td>\n",
       "      <td>26462.264151</td>\n",
       "      <td>82538.754717</td>\n",
       "      <td>31061.660377</td>\n",
       "      <td>0.396226</td>\n",
       "      <td>0.056604</td>\n",
       "      <td>0.000000</td>\n",
       "      <td>0.0</td>\n",
       "      <td>1.283019</td>\n",
       "      <td>2.633117</td>\n",
       "      <td>0.660377</td>\n",
       "    </tr>\n",
       "    <tr>\n",
       "      <th>44072154</th>\n",
       "      <td>112</td>\n",
       "      <td>13</td>\n",
       "      <td>19</td>\n",
       "      <td>1</td>\n",
       "      <td>2</td>\n",
       "      <td>2</td>\n",
       "      <td>13843.654867</td>\n",
       "      <td>227.539823</td>\n",
       "      <td>14351.690265</td>\n",
       "      <td>181915.831858</td>\n",
       "      <td>17403.389381</td>\n",
       "      <td>0.849558</td>\n",
       "      <td>0.097345</td>\n",
       "      <td>0.017699</td>\n",
       "      <td>0.0</td>\n",
       "      <td>0.964602</td>\n",
       "      <td>3.191453</td>\n",
       "      <td>0.592920</td>\n",
       "    </tr>\n",
       "    <tr>\n",
       "      <th>54318242</th>\n",
       "      <td>80</td>\n",
       "      <td>18</td>\n",
       "      <td>25</td>\n",
       "      <td>2</td>\n",
       "      <td>1</td>\n",
       "      <td>1</td>\n",
       "      <td>12962.095890</td>\n",
       "      <td>136.863014</td>\n",
       "      <td>115143.821918</td>\n",
       "      <td>12217.684932</td>\n",
       "      <td>22639.958904</td>\n",
       "      <td>1.301370</td>\n",
       "      <td>0.109589</td>\n",
       "      <td>0.027397</td>\n",
       "      <td>0.0</td>\n",
       "      <td>1.287671</td>\n",
       "      <td>2.706237</td>\n",
       "      <td>0.602740</td>\n",
       "    </tr>\n",
       "    <tr>\n",
       "      <th>25251018</th>\n",
       "      <td>64</td>\n",
       "      <td>16</td>\n",
       "      <td>20</td>\n",
       "      <td>4</td>\n",
       "      <td>1</td>\n",
       "      <td>1</td>\n",
       "      <td>12247.226667</td>\n",
       "      <td>43.493333</td>\n",
       "      <td>84260.320000</td>\n",
       "      <td>31008.986667</td>\n",
       "      <td>35540.360000</td>\n",
       "      <td>0.440000</td>\n",
       "      <td>0.013333</td>\n",
       "      <td>0.000000</td>\n",
       "      <td>0.0</td>\n",
       "      <td>0.333333</td>\n",
       "      <td>2.401396</td>\n",
       "      <td>0.466667</td>\n",
       "    </tr>\n",
       "    <tr>\n",
       "      <th>54027173</th>\n",
       "      <td>238</td>\n",
       "      <td>14</td>\n",
       "      <td>21</td>\n",
       "      <td>2</td>\n",
       "      <td>0</td>\n",
       "      <td>0</td>\n",
       "      <td>12994.957143</td>\n",
       "      <td>187.028571</td>\n",
       "      <td>142879.500000</td>\n",
       "      <td>6623.042857</td>\n",
       "      <td>23623.885714</td>\n",
       "      <td>0.764286</td>\n",
       "      <td>0.107143</td>\n",
       "      <td>0.000000</td>\n",
       "      <td>0.0</td>\n",
       "      <td>0.721429</td>\n",
       "      <td>2.789668</td>\n",
       "      <td>0.564286</td>\n",
       "    </tr>\n",
       "  </tbody>\n",
       "</table>\n",
       "</div>"
      ],
      "text/plain": [
       "          champID  maxNumDeaths  mostChampionKillsPerSession  league  champ1R  \\\n",
       "summID                                                                          \n",
       "19903291       50            12                           15       2        2   \n",
       "44072154      112            13                           19       1        2   \n",
       "54318242       80            18                           25       2        1   \n",
       "25251018       64            16                           20       4        1   \n",
       "54027173      238            14                           21       2        0   \n",
       "\n",
       "          champ2R    GoldEarned  MinionKills  PhysicalDamageDealt  \\\n",
       "summID                                                              \n",
       "19903291        2  11328.849057   152.132075         26462.264151   \n",
       "44072154        2  13843.654867   227.539823         14351.690265   \n",
       "54318242        1  12962.095890   136.863014        115143.821918   \n",
       "25251018        1  12247.226667    43.493333         84260.320000   \n",
       "54027173        0  12994.957143   187.028571        142879.500000   \n",
       "\n",
       "          MagicDamageDealt   DamageTaken  DoubleKills  TripleKills  \\\n",
       "summID                                                               \n",
       "19903291      82538.754717  31061.660377     0.396226     0.056604   \n",
       "44072154     181915.831858  17403.389381     0.849558     0.097345   \n",
       "54318242      12217.684932  22639.958904     1.301370     0.109589   \n",
       "25251018      31008.986667  35540.360000     0.440000     0.013333   \n",
       "54027173       6623.042857  23623.885714     0.764286     0.107143   \n",
       "\n",
       "          QuadraKills  PentaKills  TurretsKilled       KDA   WinRate  \n",
       "summID                                                                \n",
       "19903291     0.000000         0.0       1.283019  2.633117  0.660377  \n",
       "44072154     0.017699         0.0       0.964602  3.191453  0.592920  \n",
       "54318242     0.027397         0.0       1.287671  2.706237  0.602740  \n",
       "25251018     0.000000         0.0       0.333333  2.401396  0.466667  \n",
       "54027173     0.000000         0.0       0.721429  2.789668  0.564286  "
      ]
     },
     "execution_count": 3,
     "metadata": {},
     "output_type": "execute_result"
    }
   ],
   "source": [
    "df_pc.head()"
   ]
  },
  {
   "cell_type": "code",
   "execution_count": 4,
   "metadata": {
    "collapsed": false
   },
   "outputs": [
    {
     "data": {
      "text/html": [
       "<div>\n",
       "<table border=\"1\" class=\"dataframe\">\n",
       "  <thead>\n",
       "    <tr style=\"text-align: right;\">\n",
       "      <th></th>\n",
       "      <th>league</th>\n",
       "      <th>GoldEarned</th>\n",
       "      <th>MinionKills</th>\n",
       "      <th>PhysicalDamageDealt</th>\n",
       "      <th>MagicDamageDealt</th>\n",
       "      <th>DamageTaken</th>\n",
       "      <th>DoubleKills</th>\n",
       "      <th>TripleKills</th>\n",
       "      <th>QuadraKills</th>\n",
       "      <th>PentaKills</th>\n",
       "      <th>TurretsKilled</th>\n",
       "      <th>Heal</th>\n",
       "      <th>NeutralMinionsKilled</th>\n",
       "      <th>totalKDA</th>\n",
       "      <th>WinRate</th>\n",
       "    </tr>\n",
       "    <tr>\n",
       "      <th>summID</th>\n",
       "      <th></th>\n",
       "      <th></th>\n",
       "      <th></th>\n",
       "      <th></th>\n",
       "      <th></th>\n",
       "      <th></th>\n",
       "      <th></th>\n",
       "      <th></th>\n",
       "      <th></th>\n",
       "      <th></th>\n",
       "      <th></th>\n",
       "      <th></th>\n",
       "      <th></th>\n",
       "      <th></th>\n",
       "      <th></th>\n",
       "    </tr>\n",
       "  </thead>\n",
       "  <tbody>\n",
       "    <tr>\n",
       "      <th>19903291</th>\n",
       "      <td>2</td>\n",
       "      <td>11912.994709</td>\n",
       "      <td>159.177249</td>\n",
       "      <td>57858.574074</td>\n",
       "      <td>72956.251323</td>\n",
       "      <td>26479.129630</td>\n",
       "      <td>0.478836</td>\n",
       "      <td>0.050265</td>\n",
       "      <td>0.005291</td>\n",
       "      <td>0.000000</td>\n",
       "      <td>1.029101</td>\n",
       "      <td>7106.931217</td>\n",
       "      <td>11.558201</td>\n",
       "      <td>2.088841</td>\n",
       "      <td>0.660377</td>\n",
       "    </tr>\n",
       "    <tr>\n",
       "      <th>44072154</th>\n",
       "      <td>1</td>\n",
       "      <td>12063.056100</td>\n",
       "      <td>147.158504</td>\n",
       "      <td>62775.583259</td>\n",
       "      <td>74163.608192</td>\n",
       "      <td>23934.457703</td>\n",
       "      <td>0.588602</td>\n",
       "      <td>0.086376</td>\n",
       "      <td>0.012467</td>\n",
       "      <td>0.003562</td>\n",
       "      <td>0.938557</td>\n",
       "      <td>4373.953695</td>\n",
       "      <td>20.987533</td>\n",
       "      <td>2.754342</td>\n",
       "      <td>0.592920</td>\n",
       "    </tr>\n",
       "    <tr>\n",
       "      <th>54318242</th>\n",
       "      <td>2</td>\n",
       "      <td>11952.308411</td>\n",
       "      <td>140.448598</td>\n",
       "      <td>82598.042056</td>\n",
       "      <td>39014.864486</td>\n",
       "      <td>25288.752336</td>\n",
       "      <td>0.766355</td>\n",
       "      <td>0.065421</td>\n",
       "      <td>0.014019</td>\n",
       "      <td>0.000000</td>\n",
       "      <td>1.168224</td>\n",
       "      <td>5502.112150</td>\n",
       "      <td>9.401869</td>\n",
       "      <td>2.541176</td>\n",
       "      <td>0.602740</td>\n",
       "    </tr>\n",
       "    <tr>\n",
       "      <th>56127024</th>\n",
       "      <td>4</td>\n",
       "      <td>12122.740458</td>\n",
       "      <td>154.984733</td>\n",
       "      <td>96716.005089</td>\n",
       "      <td>37286.058524</td>\n",
       "      <td>23961.541985</td>\n",
       "      <td>0.888041</td>\n",
       "      <td>0.188295</td>\n",
       "      <td>0.035623</td>\n",
       "      <td>0.007634</td>\n",
       "      <td>1.033079</td>\n",
       "      <td>2574.134860</td>\n",
       "      <td>17.872774</td>\n",
       "      <td>2.462137</td>\n",
       "      <td>NaN</td>\n",
       "    </tr>\n",
       "    <tr>\n",
       "      <th>21996204</th>\n",
       "      <td>2</td>\n",
       "      <td>12397.862772</td>\n",
       "      <td>166.186141</td>\n",
       "      <td>82090.167120</td>\n",
       "      <td>51349.813859</td>\n",
       "      <td>23164.403533</td>\n",
       "      <td>0.672554</td>\n",
       "      <td>0.086957</td>\n",
       "      <td>0.010870</td>\n",
       "      <td>0.001359</td>\n",
       "      <td>0.980978</td>\n",
       "      <td>3071.572011</td>\n",
       "      <td>9.626359</td>\n",
       "      <td>2.308389</td>\n",
       "      <td>NaN</td>\n",
       "    </tr>\n",
       "  </tbody>\n",
       "</table>\n",
       "</div>"
      ],
      "text/plain": [
       "          league    GoldEarned  MinionKills  PhysicalDamageDealt  \\\n",
       "summID                                                             \n",
       "19903291       2  11912.994709   159.177249         57858.574074   \n",
       "44072154       1  12063.056100   147.158504         62775.583259   \n",
       "54318242       2  11952.308411   140.448598         82598.042056   \n",
       "56127024       4  12122.740458   154.984733         96716.005089   \n",
       "21996204       2  12397.862772   166.186141         82090.167120   \n",
       "\n",
       "          MagicDamageDealt   DamageTaken  DoubleKills  TripleKills  \\\n",
       "summID                                                               \n",
       "19903291      72956.251323  26479.129630     0.478836     0.050265   \n",
       "44072154      74163.608192  23934.457703     0.588602     0.086376   \n",
       "54318242      39014.864486  25288.752336     0.766355     0.065421   \n",
       "56127024      37286.058524  23961.541985     0.888041     0.188295   \n",
       "21996204      51349.813859  23164.403533     0.672554     0.086957   \n",
       "\n",
       "          QuadraKills  PentaKills  TurretsKilled         Heal  \\\n",
       "summID                                                          \n",
       "19903291     0.005291    0.000000       1.029101  7106.931217   \n",
       "44072154     0.012467    0.003562       0.938557  4373.953695   \n",
       "54318242     0.014019    0.000000       1.168224  5502.112150   \n",
       "56127024     0.035623    0.007634       1.033079  2574.134860   \n",
       "21996204     0.010870    0.001359       0.980978  3071.572011   \n",
       "\n",
       "          NeutralMinionsKilled\\t  totalKDA   WinRate  \n",
       "summID                                                \n",
       "19903291               11.558201  2.088841  0.660377  \n",
       "44072154               20.987533  2.754342  0.592920  \n",
       "54318242                9.401869  2.541176  0.602740  \n",
       "56127024               17.872774  2.462137       NaN  \n",
       "21996204                9.626359  2.308389       NaN  "
      ]
     },
     "execution_count": 4,
     "metadata": {},
     "output_type": "execute_result"
    }
   ],
   "source": [
    "df_total.head()"
   ]
  },
  {
   "cell_type": "code",
   "execution_count": 5,
   "metadata": {
    "collapsed": false
   },
   "outputs": [],
   "source": [
    "y_pc = df_pc['league'].values\n",
    "X_pc = df = df_pc.drop('league', 1)"
   ]
  },
  {
   "cell_type": "code",
   "execution_count": 6,
   "metadata": {
    "collapsed": true
   },
   "outputs": [],
   "source": [
    "y_total = df_pc['league'].values\n",
    "X_total = df = df_pc.drop('league', 1)"
   ]
  },
  {
   "cell_type": "markdown",
   "metadata": {},
   "source": [
    "## Data split and feature engineering"
   ]
  },
  {
   "cell_type": "code",
   "execution_count": null,
   "metadata": {
    "collapsed": false
   },
   "outputs": [],
   "source": [
    "X_pc = X_pc[['GoldEarned', 'MinionKills', 'KDA', 'DoubleKills', 'TripleKills', 'QuadraKills', 'PentaKills']]\n",
    "X_total = X_total[['GoldEarned', 'MinionKills', 'KDA', 'DoubleKills', 'TripleKills', 'QuadraKills', 'PentaKills']]"
   ]
  },
  {
   "cell_type": "code",
   "execution_count": null,
   "metadata": {
    "collapsed": true
   },
   "outputs": [],
   "source": [
    "from sklearn import preprocessing"
   ]
  },
  {
   "cell_type": "code",
   "execution_count": null,
   "metadata": {
    "collapsed": true
   },
   "outputs": [],
   "source": [
    "X_pc_scaled = preprocessing.scale(X_pc)\n",
    "X_total_scaled = preprocessing.scale(X_total)"
   ]
  },
  {
   "cell_type": "code",
   "execution_count": null,
   "metadata": {
    "collapsed": false
   },
   "outputs": [],
   "source": [
    "X_pc_n = preprocessing.normalize(X_pc_scaled, norm='l2')\n",
    "X_total_n = preprocessing.normalize(X_total_scaled, norm='l2')"
   ]
  },
  {
   "cell_type": "code",
   "execution_count": 7,
   "metadata": {
    "collapsed": false
   },
   "outputs": [
    {
     "name": "stderr",
     "output_type": "stream",
     "text": [
      "/Users/dmartr/anaconda/lib/python3.5/site-packages/sklearn/cross_validation.py:44: DeprecationWarning: This module was deprecated in version 0.18 in favor of the model_selection module into which all the refactored classes and functions are moved. Also note that the interface of the new CV iterators are different from that of this module. This module will be removed in 0.20.\n",
      "  \"This module will be removed in 0.20.\", DeprecationWarning)\n"
     ]
    }
   ],
   "source": [
    "from sklearn.cross_validation import train_test_split"
   ]
  },
  {
   "cell_type": "code",
   "execution_count": null,
   "metadata": {
    "collapsed": false
   },
   "outputs": [],
   "source": [
    "X_tr, X_te, y_tr, y_te = train_test_split(X_total_n, y_total, test_size=0.25, random_state=0)"
   ]
  },
  {
   "cell_type": "markdown",
   "metadata": {},
   "source": [
    "# Unsupervised Clustering"
   ]
  },
  {
   "cell_type": "code",
   "execution_count": null,
   "metadata": {
    "collapsed": true
   },
   "outputs": [],
   "source": [
    "from sklearn import metrics\n",
    "from sklearn.cluster import KMeans\n",
    "from sklearn.decomposition import PCA\n",
    "from sklearn.preprocessing import scale"
   ]
  },
  {
   "cell_type": "markdown",
   "metadata": {},
   "source": [
    "## K-means"
   ]
  },
  {
   "cell_type": "markdown",
   "metadata": {},
   "source": [
    "Source: http://scikit-learn.org/stable/auto_examples/cluster/plot_kmeans_digits.html"
   ]
  },
  {
   "cell_type": "code",
   "execution_count": null,
   "metadata": {
    "collapsed": false
   },
   "outputs": [],
   "source": [
    "def bench_k_means(estimator, name, data):\n",
    "    t0 = time()\n",
    "    estimator.fit(data)\n",
    "    print('% 9s   %.2fs    %i   %.3f   %.3f   %.3f   %.3f   %.3f    %.3f'\n",
    "          % (name, (time() - t0), estimator.inertia_,\n",
    "             metrics.homogeneity_score(labels, estimator.labels_),\n",
    "             metrics.completeness_score(labels, estimator.labels_),\n",
    "             metrics.v_measure_score(labels, estimator.labels_),\n",
    "             metrics.adjusted_rand_score(labels, estimator.labels_),\n",
    "             metrics.adjusted_mutual_info_score(labels,  estimator.labels_),\n",
    "             metrics.silhouette_score(data, estimator.labels_,\n",
    "                                      metric='euclidean',\n",
    "                                      sample_size=sample_size)))"
   ]
  },
  {
   "cell_type": "code",
   "execution_count": null,
   "metadata": {
    "collapsed": false
   },
   "outputs": [],
   "source": [
    "labels = y_total\n",
    "n_samples, n_features = X_total.shape\n",
    "sample_size = n_samples\n",
    "bench_k_means(KMeans(init='k-means++', n_clusters=5, n_init=10), name=\"k-means++\", data=X_pc)"
   ]
  },
  {
   "cell_type": "code",
   "execution_count": null,
   "metadata": {
    "collapsed": false
   },
   "outputs": [],
   "source": [
    "k_means = KMeans(init='k-means++', n_clusters=5, n_init=10)\n",
    "k_means.fit(X_pc_tr)"
   ]
  },
  {
   "cell_type": "markdown",
   "metadata": {},
   "source": [
    "## GMM"
   ]
  },
  {
   "cell_type": "markdown",
   "metadata": {},
   "source": [
    "Source: http://scikit-learn.org/stable/auto_examples/mixture/plot_gmm.html"
   ]
  },
  {
   "cell_type": "code",
   "execution_count": null,
   "metadata": {
    "collapsed": true
   },
   "outputs": [],
   "source": [
    "from sklearn import mixture\n",
    "from scipy import linalg\n",
    "import matplotlib.pyplot as plt\n",
    "import matplotlib as mpl\n",
    "import itertools"
   ]
  },
  {
   "cell_type": "code",
   "execution_count": null,
   "metadata": {
    "collapsed": false
   },
   "outputs": [],
   "source": [
    "X = X_total[['GoldEarned', 'MinionKills', 'KDA']]"
   ]
  },
  {
   "cell_type": "code",
   "execution_count": null,
   "metadata": {
    "collapsed": true
   },
   "outputs": [],
   "source": [
    "color_iter = itertools.cycle(['navy', 'c', 'cornflowerblue', 'gold','darkorange'])\n",
    "def plot_results(X, Y_, means, covariances, index, title):\n",
    "    splot = plt.subplot(2, 1, 1 + index)\n",
    "    for i, (mean, covar, color) in enumerate(zip(means, covariances, color_iter)):\n",
    "        v, w = linalg.eigh(covar)\n",
    "        v = 2. * np.sqrt(2.) * np.sqrt(v)\n",
    "        u = w[0] / linalg.norm(w[0])\n",
    "        # as the DP will not use every component it has access to\n",
    "        # unless it needs it, we shouldn't plot the redundant\n",
    "        # components.\n",
    "        if not np.any(Y_ == i):\n",
    "            continue\n",
    "        plt.scatter(X[Y_ == i, 0], X[Y_ == i, 1], .8)\n",
    "\n",
    "        # Plot an ellipse to show the Gaussian component\n",
    "        angle = np.arctan(u[1] / u[0])\n",
    "        angle = 180. * angle / np.pi  # convert to degrees\n",
    "        ell = mpl.patches.Ellipse(mean, v[0], v[1], 180. + angle, color=color)\n",
    "        ell.set_clip_box(splot.bbox)\n",
    "        ell.set_alpha(0.5)\n",
    "        splot.add_artist(ell)\n",
    "    plt.xlim(-9., 5.)\n",
    "    plt.ylim(-3., 6.)\n",
    "    plt.xticks(())\n",
    "    plt.yticks(())\n",
    "    plt.title(title)"
   ]
  },
  {
   "cell_type": "markdown",
   "metadata": {},
   "source": [
    "# Supervised classification (predicting the elo)"
   ]
  },
  {
   "cell_type": "markdown",
   "metadata": {},
   "source": [
    "## SVC"
   ]
  },
  {
   "cell_type": "code",
   "execution_count": 17,
   "metadata": {
    "collapsed": false
   },
   "outputs": [],
   "source": [
    "from sklearn.svm import LinearSVC"
   ]
  },
  {
   "cell_type": "code",
   "execution_count": 18,
   "metadata": {
    "collapsed": false
   },
   "outputs": [
    {
     "data": {
      "text/plain": [
       "LinearSVC(C=1.0, class_weight=None, dual=True, fit_intercept=True,\n",
       "     intercept_scaling=1, loss='squared_hinge', max_iter=1000,\n",
       "     multi_class='ovr', penalty='l2', random_state=None, tol=0.0001,\n",
       "     verbose=0)"
      ]
     },
     "execution_count": 18,
     "metadata": {},
     "output_type": "execute_result"
    }
   ],
   "source": [
    "clf = LinearSVC(penalty='l2', loss='squared_hinge', dual=True, tol=0.0001, C=1.0, \n",
    "                multi_class='ovr', fit_intercept=True, intercept_scaling=1, class_weight=None, \n",
    "                verbose=0, random_state=None, max_iter=1000)\n",
    "clf.fit(X_tr, y_tr) "
   ]
  },
  {
   "cell_type": "code",
   "execution_count": 19,
   "metadata": {
    "collapsed": false
   },
   "outputs": [
    {
     "ename": "NameError",
     "evalue": "name 'metrics' is not defined",
     "output_type": "error",
     "traceback": [
      "\u001b[0;31m---------------------------------------------------------------------------\u001b[0m",
      "\u001b[0;31mNameError\u001b[0m                                 Traceback (most recent call last)",
      "\u001b[0;32m<ipython-input-19-904e8ebb9330>\u001b[0m in \u001b[0;36m<module>\u001b[0;34m()\u001b[0m\n\u001b[0;32m----> 1\u001b[0;31m \u001b[0mscore\u001b[0m \u001b[0;34m=\u001b[0m \u001b[0mmetrics\u001b[0m\u001b[0;34m.\u001b[0m\u001b[0maccuracy_score\u001b[0m\u001b[0;34m(\u001b[0m\u001b[0my_te\u001b[0m\u001b[0;34m,\u001b[0m \u001b[0mclf\u001b[0m\u001b[0;34m.\u001b[0m\u001b[0mpredict\u001b[0m\u001b[0;34m(\u001b[0m\u001b[0mX_te\u001b[0m\u001b[0;34m)\u001b[0m\u001b[0;34m)\u001b[0m\u001b[0;34m\u001b[0m\u001b[0m\n\u001b[0m",
      "\u001b[0;31mNameError\u001b[0m: name 'metrics' is not defined"
     ]
    }
   ],
   "source": [
    "score = metrics.accuracy_score(y_te, clf.predict(X_te))"
   ]
  },
  {
   "cell_type": "code",
   "execution_count": 11,
   "metadata": {
    "collapsed": false
   },
   "outputs": [
    {
     "ename": "NameError",
     "evalue": "name 'score' is not defined",
     "output_type": "error",
     "traceback": [
      "\u001b[0;31m---------------------------------------------------------------------------\u001b[0m",
      "\u001b[0;31mNameError\u001b[0m                                 Traceback (most recent call last)",
      "\u001b[0;32m<ipython-input-11-41718d2fa6ac>\u001b[0m in \u001b[0;36m<module>\u001b[0;34m()\u001b[0m\n\u001b[0;32m----> 1\u001b[0;31m \u001b[0mprint\u001b[0m\u001b[0;34m(\u001b[0m\u001b[0mscore\u001b[0m\u001b[0;34m)\u001b[0m\u001b[0;34m\u001b[0m\u001b[0m\n\u001b[0m",
      "\u001b[0;31mNameError\u001b[0m: name 'score' is not defined"
     ]
    }
   ],
   "source": [
    "print(score)"
   ]
  },
  {
   "cell_type": "markdown",
   "metadata": {},
   "source": [
    "## Random Forest Classifier"
   ]
  },
  {
   "cell_type": "code",
   "execution_count": 12,
   "metadata": {
    "collapsed": true
   },
   "outputs": [],
   "source": [
    "from sklearn.ensemble import RandomForestClassifier"
   ]
  },
  {
   "cell_type": "code",
   "execution_count": 13,
   "metadata": {
    "collapsed": false
   },
   "outputs": [],
   "source": [
    "X_tr, X_te, y_tr, y_te = train_test_split(X_total, y_total, test_size=0.25, random_state=0)"
   ]
  },
  {
   "cell_type": "code",
   "execution_count": 14,
   "metadata": {
    "collapsed": false
   },
   "outputs": [
    {
     "name": "stdout",
     "output_type": "stream",
     "text": [
      "0.419421487603\n"
     ]
    }
   ],
   "source": [
    "rf = RandomForestClassifier(n_estimators=20)\n",
    "rf.fit(X_tr, y_tr)\n",
    "print(rf.score(X_te, y_te))"
   ]
  },
  {
   "cell_type": "code",
   "execution_count": 15,
   "metadata": {
    "collapsed": false
   },
   "outputs": [
    {
     "name": "stdout",
     "output_type": "stream",
     "text": [
      "Feature ranking (1. most important):\n",
      "1. Feature name: 'GoldEarned'. Feature index: 5. Importance score: 0.085747\n",
      "2. Feature name: 'MinionKills'. Feature index: 6. Importance score: 0.084216\n",
      "3. Feature name: 'WinRate'. Feature index: 16. Importance score: 0.081081\n",
      "4. Feature name: 'KDA'. Feature index: 15. Importance score: 0.078542\n",
      "5. Feature name: 'TurretsKilled'. Feature index: 14. Importance score: 0.078221\n",
      "6. Feature name: 'MagicDamageDealt'. Feature index: 8. Importance score: 0.077284\n",
      "7. Feature name: 'DamageTaken'. Feature index: 9. Importance score: 0.076357\n",
      "8. Feature name: 'DoubleKills'. Feature index: 10. Importance score: 0.075699\n",
      "9. Feature name: 'PhysicalDamageDealt'. Feature index: 7. Importance score: 0.074355\n",
      "10. Feature name: 'TripleKills'. Feature index: 11. Importance score: 0.061026\n",
      "11. Feature name: 'mostChampionKillsPerSession'. Feature index: 2. Importance score: 0.052772\n",
      "12. Feature name: 'maxNumDeaths'. Feature index: 1. Importance score: 0.045903\n",
      "13. Feature name: 'QuadraKills'. Feature index: 12. Importance score: 0.043076\n",
      "14. Feature name: 'champID'. Feature index: 0. Importance score: 0.041306\n",
      "15. Feature name: 'PentaKills'. Feature index: 13. Importance score: 0.021675\n",
      "16. Feature name: 'champ1R'. Feature index: 3. Importance score: 0.011796\n"
     ]
    },
    {
     "data": {
      "image/png": "[encoded data removed]",
      "text/plain": [
       "<matplotlib.figure.Figure at 0x10e55b3c8>"
      ]
     },
     "metadata": {},
     "output_type": "display_data"
    }
   ],
   "source": [
    "def plot_importance(forest, features_list):\n",
    "    features = X_tr[features_list].columns\n",
    "    importances = forest.feature_importances_\n",
    "    order = np.argsort(importances)[::-1]\n",
    "    print(\"Feature ranking (1. most important):\")\n",
    "    for i in range(X_tr.shape[1]-1):\n",
    "        print(\"%d. Feature name: '%s'. Feature index: %d. Importance score: %f\" % (i + 1, features[order[i]], order[i], importances[order[i]]))\n",
    "    plt.figure()\n",
    "    plt.title(\"Feature importance\")\n",
    "    plt.xlabel(\"Feature index\")\n",
    "    plt.ylabel(\"Score\")\n",
    "    plt.bar(range(len(features_list)), importances[order], color=\"b\", align=\"center\")\n",
    "    plt.show()\n",
    "\n",
    "plot_importance(rf, X_tr.columns.tolist())"
   ]
  },
  {
   "cell_type": "code",
   "execution_count": 16,
   "metadata": {
    "collapsed": false
   },
   "outputs": [
    {
     "name": "stdout",
     "output_type": "stream",
     "text": [
      "0.400236127509\n"
     ]
    }
   ],
   "source": [
    "rf = RandomForestClassifier(n_estimators=20)\n",
    "rf.fit(X_tr[['GoldEarned', 'MinionKills', 'WinRate', 'KDA', 'TurretsKilled', 'MagicDamageDealt', 'DamageTaken','DoubleKills', \n",
    "'PhysicalDamageDealt']], y_tr)\n",
    "print(rf.score(X_te[['GoldEarned', 'MinionKills', 'WinRate', 'KDA', 'TurretsKilled', 'MagicDamageDealt', 'DamageTaken','DoubleKills', \n",
    "'PhysicalDamageDealt']], y_te))"
   ]
  },
  {
   "cell_type": "code",
   "execution_count": null,
   "metadata": {
    "collapsed": true
   },
   "outputs": [],
   "source": []
  }
 ],
 "metadata": {
  "kernelspec": {
   "display_name": "Python [Root]",
   "language": "python",
   "name": "Python [Root]"
  },
  "language_info": {
   "codemirror_mode": {
    "name": "ipython",
    "version": 3
   },
   "file_extension": ".py",
   "mimetype": "text/x-python",
   "name": "python",
   "nbconvert_exporter": "python",
   "pygments_lexer": "ipython3",
   "version": "3.5.2"
  }
 },
 "nbformat": 4,
 "nbformat_minor": 1
}
