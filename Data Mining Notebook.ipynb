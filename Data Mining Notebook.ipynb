{
 "cells": [
  {
   "cell_type": "markdown",
   "metadata": {},
   "source": [
    "# Data mining\n",
    "\n",
    "First of all we need to import every library we're going to use during the data mining process."
   ]
  },
  {
   "cell_type": "code",
   "execution_count": null,
   "metadata": {
    "collapsed": true
   },
   "outputs": [],
   "source": [
    "import folium\n",
    "import pandas as pd\n",
    "import numpy as np\n",
    "import json\n",
    "import requests\n",
    "from bs4 import BeautifulSoup\n",
    "from lxml import etree\n",
    "import requests\n",
    "from IPython.display import display, HTML\n",
    "import re\n",
    "import matplotlib.pyplot as plt\n",
    "import time\n",
    "import pickle\n",
    "import os\n",
    "import urllib.request"
   ]
  },
  {
   "cell_type": "markdown",
   "metadata": {},
   "source": [
    "## Global parameters\n",
    "\n",
    "We are going to get all the information we need from the API that Riot Games has for League of Legends developers. We need an API Key to perform all the requests and the season, type of game and API limits we have. Riot Games defines a limit of 10 requests every ten seconds and 500 requests every ten minutes, blocking every extra request until the time is reset."
   ]
  },
  {
   "cell_type": "code",
   "execution_count": null,
   "metadata": {
    "collapsed": true
   },
   "outputs": [],
   "source": [
    "API_KEY = 'RGAPI-13b30cdc-783c-47f6-85f0-d43855b5e322'\n",
    "SEASON = '2016'\n",
    "RANKED_QUEUE = 'RANKED_SOLO_5x5'\n",
    "TEN_SECONDS_MAX = '9'\n",
    "TEN_MINUTES_MAX = '490'\n",
    "MIN_MATCHES = 50\n",
    "\n",
    "matchlist = []\n",
    "player_list = []"
   ]
  },
  {
   "cell_type": "markdown",
   "metadata": {},
   "source": [
    "In order to prevent information losses and make our algorithms more efficient, we have implemented a function that will take the API request limits into account while performing requests and will wait when necessary in order to prevent blocks. This function is also prepared to support multiple API Keys, so it would be possible to switch between the different keys to avoid long waits. However, in our experience this hasn't been necessary."
   ]
  },
  {
   "cell_type": "code",
   "execution_count": null,
   "metadata": {
    "collapsed": false
   },
   "outputs": [],
   "source": [
    "def checkTime(headers, time_ten_seconds, time_ten_minutes):\n",
    "    ten_seconds_limit = headers['X-Rate-Limit-Count'].split(',')[0].split(':')[0]\n",
    "    ten_minutes_limit = headers['X-Rate-Limit-Count'].split(',')[1].split(':')[0]\n",
    "    if ten_seconds_limit == '1':\n",
    "        time_ten_seconds = time.time()\n",
    "    if ten_minutes_limit == '1':\n",
    "        time_ten_minutes = time.time()\n",
    "    elif ten_minutes_limit == TEN_MINUTES_MAX:\n",
    "        to_sleep = 600 - (time.time()-time_ten_minutes)\n",
    "        if to_sleep < 0:\n",
    "            to_sleep = 0\n",
    "        print(\"Ten minutes limit! Sleeping \" + str(to_sleep) + \" seconds\")\n",
    "        time.sleep(to_sleep)\n",
    "        time_ten_minutes = time.time()\n",
    "    elif ten_seconds_limit == TEN_SECONDS_MAX:\n",
    "        to_sleep = 10 - (time.time() - time_ten_seconds)\n",
    "        if to_sleep < 0:\n",
    "            to_sleep = 0\n",
    "        #print(\"Ten seconds limit! Sleeping \" + str(to_sleep) + \" seconds\")\n",
    "        time.sleep(to_sleep)\n",
    "        time_ten_seconds = time.time()\n",
    "    return time_ten_seconds, time_ten_minutes"
   ]
  },
  {
   "cell_type": "markdown",
   "metadata": {},
   "source": [
    "We have defined a series of functions that make use of the API features to get the information we need. First of all, the function *getUser* will take a list of summoner names and return their correspondent IDs."
   ]
  },
  {
   "cell_type": "code",
   "execution_count": null,
   "metadata": {
    "collapsed": true
   },
   "outputs": [],
   "source": [
    "def getUser(summoner_name_list):\n",
    "    summoner_names = []\n",
    "    for summoner_name in summoner_name_list:\n",
    "        url = 'https://euw.api.pvp.net/api/lol/euw/v1.4/summoner/by-name/' + summoner_name + '?api_key='+API_KEY\n",
    "        info = requests.request(\"GET\", url)\n",
    "        summoner_names.append(info.json()[summoner_name]['id'])\n",
    "    return summoner_names"
   ]
  },
  {
   "cell_type": "markdown",
   "metadata": {},
   "source": [
    "\n",
    "The function *getStats* will take a summoner ID and return the game stats for that summoner for a given Season (2015, 2016..)"
   ]
  },
  {
   "cell_type": "code",
   "execution_count": null,
   "metadata": {
    "collapsed": false
   },
   "outputs": [],
   "source": [
    "def getStats(summoner_id):\n",
    "    url = 'https://euw.api.pvp.net/api/lol/euw/v1.3/stats/by-summoner/' + summoner_id + '/ranked?season=SEASON' + SEASON + '&api_key='+API_KEY\n",
    "    info = requests.request(\"GET\", url)\n",
    "    return info.json()"
   ]
  },
  {
   "cell_type": "markdown",
   "metadata": {},
   "source": [
    "In order to work with an acceptable pool of LoL players, we decided to start from one player from each league (Bronze, Silver, Gold, Platinum, Diamond, Master). From that, we will get a list of all the matches each player has played during the given season with the function *getMatchList*"
   ]
  },
  {
   "cell_type": "code",
   "execution_count": null,
   "metadata": {
    "collapsed": true
   },
   "outputs": [],
   "source": [
    "def getMatchList(summoner_id_list):\n",
    "    matchlist = []\n",
    "    for summoner_id in summoner_id_list:\n",
    "        url = url = 'https://euw.api.pvp.net/api/lol/euw/v2.2/matchlist/by-summoner/' + str(summoner_id) +'?rankedQueues=' + RANKED_QUEUE + '&seasons=SEASON' + SEASON + '&api_key='+API_KEY\n",
    "        summoner_matchlist = requests.request(\"GET\", url).json()\n",
    "        matchlist += [i['matchId'] for i in summoner_matchlist['matches'] if i['matchId'] not in matchlist]\n",
    "    return matchlist"
   ]
  },
  {
   "cell_type": "code",
   "execution_count": null,
   "metadata": {
    "collapsed": true
   },
   "outputs": [],
   "source": [
    "list_name_seeds_summoners = [\"makiaveliko84\",          #always Bronze\n",
    "                        \"limoneslocos\",           #Silver -> Silver\n",
    "                        \"skinny1love\",          #Gold015 -> Platinum16\n",
    "                        \"singedairlines\",        #Platinum -> Platinum\n",
    "                        \"bestluxitaxd\"]        #Diamond  -> Diamond\n",
    "\n",
    "list_ids_seeds_summoners= getUser(list_name_seeds_summoners)"
   ]
  },
  {
   "cell_type": "markdown",
   "metadata": {},
   "source": [
    "Now that we have a large list of matches played during the given season, we get a list of the Summoner IDs that have played them with *getPlayersList*. By doing this, from the five initial players we were able to get a list of 30.000 IDs of Europe West Server Players."
   ]
  },
  {
   "cell_type": "code",
   "execution_count": null,
   "metadata": {
    "collapsed": false
   },
   "outputs": [],
   "source": [
    "def getPlayersList(matchlist):\n",
    "    time_ten_seconds = time.time()\n",
    "    time_ten_minutes = time.time()\n",
    "    players_list = []\n",
    "    print(len(matchlist))\n",
    "    for match_id in matchlist:\n",
    "        url = 'https://euw.api.pvp.net/api/lol/euw/v2.2/match/' + str(match_id) + '?api_key=' + API_KEY\n",
    "        info = requests.request(\"GET\", url)\n",
    "        headers = info.headers\n",
    "        body = info.json()\n",
    "        if len(body.keys()) == 14:\n",
    "            players_match=[body['participantIdentities'][i]['player']['summonerId'] for i in range(len(body['participantIdentities'])) if i not in players_list]\n",
    "            players_list += players_match\n",
    "            time_ten_seconds, time_ten_minutes = checkTime(headers, time_ten_seconds, time_ten_minutes)\n",
    "        \n",
    "    return players_list"
   ]
  },
  {
   "cell_type": "markdown",
   "metadata": {},
   "source": [
    "We want to save all the information downloaded not only locally, as we need it in other Notebooks to perform the Data Analysis. For this reason, we are going to save the JSON where we save the information locally into Pickles:\n",
    "\n",
    "- summoner_ids.pkl: list of Summoner IDs used\n",
    "- summoner_stats.pkl: stats aggregated and for the most used Champion for each Summoner ID\n",
    "- summoner_elos.pkl: final position achieved at the end of the season por each Summoner (which league they ended at)\n",
    "- champion_tags.pkl: passive information of each existent LoL Champion (non-changing information)"
   ]
  },
  {
   "cell_type": "code",
   "execution_count": null,
   "metadata": {
    "collapsed": false
   },
   "outputs": [],
   "source": [
    "if not os.path.isfile('./summoner_ids.pkl'):\n",
    "    info = {'ids': player_list }\n",
    "    with open('./summoner_ids.pkl', 'wb') as f:\n",
    "        pickle.dump(info, f)\n",
    "if not os.path.isfile('./summoner_stats.pkl'):\n",
    "    info = {}\n",
    "    with open('./summoner_stats.pkl', 'wb') as f:\n",
    "        pickle.dump(info, f)\n",
    "if not os.path.isfile('./summoner_elos.pkl'):\n",
    "    info = {}\n",
    "    with open('./summoner_elos.pkl', 'wb') as f:\n",
    "        pickle.dump(info, f)"
   ]
  },
  {
   "cell_type": "markdown",
   "metadata": {},
   "source": [
    "With all the functions defined above, we get the final list of summoners and save it in the pickle."
   ]
  },
  {
   "cell_type": "code",
   "execution_count": null,
   "metadata": {
    "collapsed": false
   },
   "outputs": [],
   "source": [
    "for i in range(1,len(list_ids_seeds_summoners)):\n",
    "    matchlist = getMatchList([list_ids_seeds_summoners[i]])\n",
    "    player_list = getPlayersList(matchlist)\n",
    "    print(\"Loading pickle \" + str(i))\n",
    "    with open('./summoner_ids.pkl', 'rb') as f:\n",
    "        saved = pickle.load(f)\n",
    "        saved['ids'] += player_list\n",
    "    print(\"Saving player \" + str(i))\n",
    "    with open('./summoner_ids.pkl', 'wb') as f:\n",
    "        pickle.dump(saved, f)"
   ]
  },
  {
   "cell_type": "markdown",
   "metadata": {},
   "source": [
    "Now, for every ID recovered, we want its *Stats*: aggregated and average stats for all possible Champions and the Stats of the most played Champion of that Summoner. So, we will have the Summoner ID as the Key and both JSONS as value."
   ]
  },
  {
   "cell_type": "code",
   "execution_count": null,
   "metadata": {
    "collapsed": false,
    "scrolled": true
   },
   "outputs": [],
   "source": [
    "with open('./summoner_ids.pkl', 'rb') as f:\n",
    "    ids_json = pickle.load(f)\n",
    "    ids_list = ids_json['ids']\n",
    "with open('./summoner_stats.pkl', 'rb') as f:\n",
    "    stats_json = pickle.load(f)\n",
    "time_ten_seconds = time.time()\n",
    "time_ten_minutes = time.time()\n",
    "counter = 1\n",
    "for summoner_id in ids_list:\n",
    "    id_ = str(summoner_id)\n",
    "    if id_ in stats_json:\n",
    "        counter += 1\n",
    "        if counter%100 ==0:\n",
    "            print(str(counter), \"players done\")\n",
    "        continue\n",
    "    if counter%100 ==0:\n",
    "        with open('./summoner_stats.pkl', 'wb') as f:\n",
    "            pickle.dump(stats_json, f)\n",
    "        print(str(counter), \"players done\")\n",
    "\n",
    "    url = 'https://euw.api.pvp.net/api/lol/euw/v1.3/stats/by-summoner/' + id_ + '/ranked?season=SEASON' + SEASON + '&api_key='+API_KEY\n",
    "    info = requests.request(\"GET\", url)\n",
    "    body = info.json()\n",
    "    headers = info.headers\n",
    "    while (len(body)!=3):\n",
    "        time_ten_seconds, time_ten_minutes = checkTime(headers, time_ten_seconds, time_ten_minutes)\n",
    "        info = requests.request(\"GET\", url)\n",
    "        body = info.json()\n",
    "        headers = info.headers\n",
    "        if (len(body)==3):\n",
    "            break\n",
    "    \n",
    "    champions = body['champions']\n",
    "    pref_champ = {}\n",
    "    pref_champ_sessions = 0\n",
    "    total_champ = {}\n",
    "    discard = False\n",
    "    for champ in champions:\n",
    "        if champ['id'] == 0:\n",
    "            if champ['stats']['totalSessionsPlayed']<MIN_MATCHES:\n",
    "                discard = True\n",
    "                break\n",
    "            total_champs = champ \n",
    "        elif pref_champ_sessions < champ['stats']['totalSessionsPlayed']:\n",
    "            pref_champ = champ\n",
    "            pref_champ_sessions = champ['stats']['totalSessionsPlayed']\n",
    "    if not discard:\n",
    "        stats_json[id_]={'total': total_champs, 'pref_champ': pref_champ}    \n",
    "    else:\n",
    "        pass\n",
    "    counter += 1\n",
    "    time_ten_seconds, time_ten_minutes = checkTime(headers, time_ten_seconds, time_ten_minutes)"
   ]
  },
  {
   "cell_type": "markdown",
   "metadata": {},
   "source": [
    "We want to know where a player has finished the season (Gold, Silver...) in order to check whether our predictions were correct or not. For that, we need to get the Elo at the end of the season with *getElo* function"
   ]
  },
  {
   "cell_type": "code",
   "execution_count": null,
   "metadata": {
    "collapsed": false
   },
   "outputs": [],
   "source": [
    "def getELO(summoner_id):\n",
    "    url = 'http://www.lolking.net/summoner/euw/' +  str(summoner_id)\n",
    "    # We parse the response to analyze it \n",
    "    soup_project = BeautifulSoup(requests.request(\"GET\", url).text, 'html.parser')\n",
    "    elo = soup_project.findAll('div', {'class': 'summoner-name'})[0].findAll('div', {'class': 'medal-image'})\n",
    "    if len(elo) > 1:\n",
    "        elo = elo[1]['style'].split('medals/')[1][:-7]\n",
    "    else:\n",
    "        elo = ''\n",
    "    return elo"
   ]
  },
  {
   "cell_type": "code",
   "execution_count": null,
   "metadata": {
    "collapsed": false
   },
   "outputs": [],
   "source": [
    "with open('./summoner_elos.pkl', 'wb') as f:\n",
    "    for s in range(len(summoner_ids)):\n",
    "        if str(summoner_ids[s]) not in elos:\n",
    "            elo = getELO(summoner_ids[s])\n",
    "            elos[str(summoner_ids[s])] = elo\n",
    "        if s%100==0 and s!=0:\n",
    "            pickle.dump(elos, f)\n",
    "            print(str(s), \"players done\")\n",
    "with open('./summoner_elos.pkl', 'wb') as f:\n",
    "    pickle.dump(elos, f)"
   ]
  },
  {
   "cell_type": "markdown",
   "metadata": {},
   "source": [
    "We also need the information that Riot Games provides for each Champion, such as that type of Champion."
   ]
  },
  {
   "cell_type": "code",
   "execution_count": null,
   "metadata": {
    "collapsed": false
   },
   "outputs": [],
   "source": [
    "def getChampions():\n",
    "    url = 'https://euw.api.pvp.net/api/lol/euw/v1.2/champion?api_key='+API_KEY\n",
    "    info = requests.request(\"GET\", url)\n",
    "    return info.json()\n",
    "def getChampionsPassive():\n",
    "    url = 'https://global.api.pvp.net/api/lol/static-data/euw/v1.2/champion?dataById=true&champData=all&api_key='+API_KEY\n",
    "    info = requests.request(\"GET\", url)\n",
    "    return info.json()"
   ]
  },
  {
   "cell_type": "code",
   "execution_count": null,
   "metadata": {
    "collapsed": true
   },
   "outputs": [],
   "source": [
    "with open('./champion_tags.pkl', 'wb') as f:\n",
    "    pickle.dump(getChampionsPassive(), f)"
   ]
  },
  {
   "cell_type": "markdown",
   "metadata": {},
   "source": [
    "Finally, we get the icon image for each Champion for future visualization."
   ]
  },
  {
   "cell_type": "code",
   "execution_count": null,
   "metadata": {
    "collapsed": false
   },
   "outputs": [],
   "source": [
    "for i in range(1,len(info['data'])+1):\n",
    "    if str(i) in info['data']:\n",
    "        name = info['data'][str(i)]['image']['full']\n",
    "        urllib.request.urlretrieve('http://ddragon.leagueoflegends.com/cdn/4.2.6/img/champion/' + name, 'champ_images/' + str(i) + '.png')"
   ]
  }
 ],
 "metadata": {
  "anaconda-cloud": {},
  "kernelspec": {
   "display_name": "Python [Root]",
   "language": "python",
   "name": "Python [Root]"
  },
  "language_info": {
   "codemirror_mode": {
    "name": "ipython",
    "version": 3
   },
   "file_extension": ".py",
   "mimetype": "text/x-python",
   "name": "python",
   "nbconvert_exporter": "python",
   "pygments_lexer": "ipython3",
   "version": "3.5.2"
  }
 },
 "nbformat": 4,
 "nbformat_minor": 0
}
